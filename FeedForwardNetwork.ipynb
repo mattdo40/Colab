{
  "nbformat": 4,
  "nbformat_minor": 0,
  "metadata": {
    "colab": {
      "name": "FeedForwardNetwork",
      "provenance": [],
      "authorship_tag": "ABX9TyN6+wLcyv6KX26eCM5rPOB/",
      "include_colab_link": true
    },
    "kernelspec": {
      "name": "python3",
      "display_name": "Python 3"
    },
    "language_info": {
      "name": "python"
    }
  },
  "cells": [
    {
      "cell_type": "markdown",
      "metadata": {
        "id": "view-in-github",
        "colab_type": "text"
      },
      "source": [
        "<a href=\"https://colab.research.google.com/github/mattdo40/Colab/blob/main/FeedForwardNetwork.ipynb\" target=\"_parent\"><img src=\"https://colab.research.google.com/assets/colab-badge.svg\" alt=\"Open In Colab\"/></a>"
      ]
    },
    {
      "cell_type": "code",
      "metadata": {
        "id": "hYJu34JbzVDq"
      },
      "source": [
        "import numpy as np\n",
        "\n",
        "def F(W,X):\n",
        "  return sum([w*x for w,x in zip(W,X)])\n",
        "\n",
        "def sigmoid(x):\n",
        "\treturn 1.0/(1.0 + np.exp(-x)) #remember that x is the all the values of (weight*x) added together\n",
        "\n",
        "def classify(model, X):\n",
        "  return [1 if sigmoid(F(model, x)) > 0.5 else 0 for x in X]\n"
      ],
      "execution_count": 10,
      "outputs": []
    },
    {
      "cell_type": "markdown",
      "metadata": {
        "id": "jqbpnDO5ylca"
      },
      "source": [
        "# Setting X Values"
      ]
    },
    {
      "cell_type": "markdown",
      "metadata": {
        "id": "hWCPEgvKOMV2"
      },
      "source": [
        "Test Points"
      ]
    },
    {
      "cell_type": "code",
      "metadata": {
        "id": "qjZzkonXOOMb"
      },
      "source": [
        "X = [(0,0), (0,1), (1,0), (1,1)] "
      ],
      "execution_count": 11,
      "outputs": []
    },
    {
      "cell_type": "markdown",
      "metadata": {
        "id": "g4qIIoI8OQx6"
      },
      "source": [
        "X nodes"
      ]
    },
    {
      "cell_type": "code",
      "metadata": {
        "id": "XEnmaeSq5bGB"
      },
      "source": [
        "x1 = [x1 for (x1, x2) in X]\n",
        "x2 = [x2 for (x1, x2) in X]\n",
        "xVal = [(1, x1, x2) for (x1, x2) in X] # x0 is a given constant"
      ],
      "execution_count": 12,
      "outputs": []
    },
    {
      "cell_type": "markdown",
      "metadata": {
        "id": "PO3jauEeDhRE"
      },
      "source": [
        "# Given weight values"
      ]
    },
    {
      "cell_type": "code",
      "metadata": {
        "id": "xlnKIvHI255i"
      },
      "source": [
        "w1 = (3.19304864, 9.93278091, -4.74659947) \n",
        "\n",
        "w2 = (-1.59451474, 9.97879746, 4.47953684)\n",
        "\n",
        "V1 = (0.32620883, -8.71647388, 8.39004239)"
      ],
      "execution_count": 13,
      "outputs": []
    },
    {
      "cell_type": "markdown",
      "metadata": {
        "id": "O8UhCw9-Dgt9"
      },
      "source": [
        "# Z values"
      ]
    },
    {
      "cell_type": "markdown",
      "metadata": {
        "id": "qBLHnEqALLnS"
      },
      "source": [
        "X layer->Z layer"
      ]
    },
    {
      "cell_type": "code",
      "metadata": {
        "id": "vj-Spe8P7OuE"
      },
      "source": [
        "z1 = [sigmoid(F(w1, x)) for x in xVal]\n",
        "z2 = [sigmoid(F(w2, x)) for x in xVal]\n",
        "zVal = [(1, zOne, zTwo) for (zOne, zTwo) in zip(z1, z2)] # z0 is a given constant"
      ],
      "execution_count": 14,
      "outputs": []
    },
    {
      "cell_type": "code",
      "metadata": {
        "colab": {
          "base_uri": "https://localhost:8080/"
        },
        "id": "dNv6aFtVcTGx",
        "outputId": "8aa531c9-69f8-44b5-c98c-8bff32ea3395"
      },
      "source": [
        "print(z1)"
      ],
      "execution_count": 15,
      "outputs": [
        {
          "output_type": "stream",
          "name": "stdout",
          "text": [
            "[0.9605718456066229, 0.17457400953677152, 0.9999980069243171, 0.9997704660571543]\n"
          ]
        }
      ]
    },
    {
      "cell_type": "code",
      "metadata": {
        "colab": {
          "base_uri": "https://localhost:8080/"
        },
        "id": "ZB6gexN3fXb4",
        "outputId": "f226a4e2-8ca2-43bc-d731-fb8379096efa"
      },
      "source": [
        "print(z2)"
      ],
      "execution_count": 16,
      "outputs": [
        {
          "output_type": "stream",
          "name": "stdout",
          "text": [
            "[0.16874965243320605, 0.9471010398304239, 0.9997716226203648, 0.9999974099209205]\n"
          ]
        }
      ]
    },
    {
      "cell_type": "code",
      "metadata": {
        "colab": {
          "base_uri": "https://localhost:8080/"
        },
        "id": "FvQxfhzjfuQF",
        "outputId": "97c9c157-9947-42e6-9ee8-2313f90b041e"
      },
      "source": [
        "print(zVal)"
      ],
      "execution_count": 17,
      "outputs": [
        {
          "output_type": "stream",
          "name": "stdout",
          "text": [
            "[(1, 0.9605718456066229, 0.16874965243320605), (1, 0.17457400953677152, 0.9471010398304239), (1, 0.9999980069243171, 0.9997716226203648), (1, 0.9997704660571543, 0.9999974099209205)]\n"
          ]
        }
      ]
    },
    {
      "cell_type": "markdown",
      "metadata": {
        "id": "v2mg3NZKLIJf"
      },
      "source": [
        "Z layer->Y value"
      ]
    },
    {
      "cell_type": "code",
      "metadata": {
        "colab": {
          "base_uri": "https://localhost:8080/"
        },
        "id": "-S_sGsh0w7SO",
        "outputId": "75bae12c-3611-4e1c-c2cd-956b9ca4d5c9"
      },
      "source": [
        "y1 = [F(V1, z) for z in zVal]\n",
        "print(y1)"
      ],
      "execution_count": 18,
      "outputs": [
        {
          "output_type": "stream",
          "name": "stdout",
          "text": [
            "[-6.630773834881156, 6.750756907536195, -0.0021213833039261942, 0.0017563357441172656]\n"
          ]
        }
      ]
    },
    {
      "cell_type": "code",
      "metadata": {
        "colab": {
          "base_uri": "https://localhost:8080/",
          "height": 181
        },
        "id": "RptcaVYdxlZ4",
        "outputId": "04d35ff5-1898-4044-9823-348d00b64ae1"
      },
      "source": [
        "classification = classify(V1, zVal) #In general if positive then it is classified as 1 and negative values are 0\n",
        "print(classification)"
      ],
      "execution_count": 19,
      "outputs": [
        {
          "output_type": "error",
          "ename": "NameError",
          "evalue": "ignored",
          "traceback": [
            "\u001b[0;31m---------------------------------------------------------------------------\u001b[0m",
            "\u001b[0;31mNameError\u001b[0m                                 Traceback (most recent call last)",
            "\u001b[0;32m<ipython-input-19-cdece69f9ec8>\u001b[0m in \u001b[0;36m<module>\u001b[0;34m()\u001b[0m\n\u001b[0;32m----> 1\u001b[0;31m \u001b[0mclassification\u001b[0m \u001b[0;34m=\u001b[0m \u001b[0mclassify\u001b[0m\u001b[0;34m(\u001b[0m\u001b[0mV1\u001b[0m\u001b[0;34m,\u001b[0m \u001b[0mzData\u001b[0m\u001b[0;34m)\u001b[0m \u001b[0;31m#In general if positive then it is classified as 1 and negative values are 0\u001b[0m\u001b[0;34m\u001b[0m\u001b[0;34m\u001b[0m\u001b[0m\n\u001b[0m\u001b[1;32m      2\u001b[0m \u001b[0mprint\u001b[0m\u001b[0;34m(\u001b[0m\u001b[0mclassification\u001b[0m\u001b[0;34m)\u001b[0m\u001b[0;34m\u001b[0m\u001b[0;34m\u001b[0m\u001b[0m\n",
            "\u001b[0;31mNameError\u001b[0m: name 'zData' is not defined"
          ]
        }
      ]
    },
    {
      "cell_type": "markdown",
      "metadata": {
        "id": "yBMrWoGIEI70"
      },
      "source": [
        "Show input and output values"
      ]
    },
    {
      "cell_type": "code",
      "metadata": {
        "id": "39DJQh9rybtt"
      },
      "source": [
        "output = list(zip(X, classification))\n",
        "print(output)"
      ],
      "execution_count": null,
      "outputs": []
    }
  ]
}