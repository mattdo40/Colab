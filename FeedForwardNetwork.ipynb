{
  "nbformat": 4,
  "nbformat_minor": 0,
  "metadata": {
    "colab": {
      "name": "FeedForwardNetwork",
      "provenance": [],
      "authorship_tag": "ABX9TyOWWKjuBVPMs/F1eRGAPXEQ",
      "include_colab_link": true
    },
    "kernelspec": {
      "name": "python3",
      "display_name": "Python 3"
    },
    "language_info": {
      "name": "python"
    }
  },
  "cells": [
    {
      "cell_type": "markdown",
      "metadata": {
        "id": "view-in-github",
        "colab_type": "text"
      },
      "source": [
        "<a href=\"https://colab.research.google.com/github/mattdo40/Colab/blob/main/FeedForwardNetwork.ipynb\" target=\"_parent\"><img src=\"https://colab.research.google.com/assets/colab-badge.svg\" alt=\"Open In Colab\"/></a>"
      ]
    },
    {
      "cell_type": "code",
      "metadata": {
        "id": "hYJu34JbzVDq"
      },
      "source": [
        "import numpy as np\n",
        "\n",
        "def F(W,X):\n",
        "  return sum([w*x for w,x in zip(W,X)])\n",
        "\n",
        "def sigmoid(x):\n",
        "\treturn 1.0/(1.0 + np.exp(-x)) #remember that x is the all the values of (weight*x) added together\n",
        "\n",
        "def classify(model, X):\n",
        "  return [1 if sigmoid(F(model, x)) > 0.5 else 0 for x in X]\n"
      ],
      "execution_count": null,
      "outputs": []
    },
    {
      "cell_type": "markdown",
      "metadata": {
        "id": "jqbpnDO5ylca"
      },
      "source": [
        "# Setting X Values"
      ]
    },
    {
      "cell_type": "markdown",
      "metadata": {
        "id": "hWCPEgvKOMV2"
      },
      "source": [
        "Test Points"
      ]
    },
    {
      "cell_type": "code",
      "metadata": {
        "id": "qjZzkonXOOMb"
      },
      "source": [
        "X = [(0,0), (0,1), (1,0), (1,1)] "
      ],
      "execution_count": null,
      "outputs": []
    },
    {
      "cell_type": "markdown",
      "metadata": {
        "id": "g4qIIoI8OQx6"
      },
      "source": [
        "X nodes"
      ]
    },
    {
      "cell_type": "code",
      "metadata": {
        "id": "XEnmaeSq5bGB"
      },
      "source": [
        "x1 = [x1 for (x1, x2) in X]\n",
        "x2 = [x2 for (x1, x2) in X]\n",
        "xVal = [(1, x1, x2) for (x1, x2) in X] # x0 is a given constant"
      ],
      "execution_count": null,
      "outputs": []
    },
    {
      "cell_type": "markdown",
      "metadata": {
        "id": "PO3jauEeDhRE"
      },
      "source": [
        "# Given weight values"
      ]
    },
    {
      "cell_type": "code",
      "metadata": {
        "id": "xlnKIvHI255i"
      },
      "source": [
        "w1 = (3.19304864, 9.93278091, -4.74659947) \n",
        "\n",
        "w2 = (-1.59451474, 9.97879746, 4.47953684)\n",
        "\n",
        "V1 = (0.32620883, -8.71647388, 8.39004239)"
      ],
      "execution_count": null,
      "outputs": []
    },
    {
      "cell_type": "markdown",
      "metadata": {
        "id": "O8UhCw9-Dgt9"
      },
      "source": [
        "# Z values"
      ]
    },
    {
      "cell_type": "markdown",
      "metadata": {
        "id": "qBLHnEqALLnS"
      },
      "source": [
        "X layer->Z layer"
      ]
    },
    {
      "cell_type": "code",
      "metadata": {
        "id": "vj-Spe8P7OuE"
      },
      "source": [
        "z1 = [sigmoid(F(w1, x)) for x in xVal]\n",
        "z2 = [sigmoid(F(w2, x)) for x in xVal]\n",
        "zVal = [(1, zOne, zTwo) for (zOne, zTwo) in zip(z1, z2)] # z0 is a given constant"
      ],
      "execution_count": null,
      "outputs": []
    },
    {
      "cell_type": "code",
      "metadata": {
        "colab": {
          "base_uri": "https://localhost:8080/"
        },
        "id": "dNv6aFtVcTGx",
        "outputId": "6f30c843-040b-47db-9293-aeae81e9df7e"
      },
      "source": [
        "print(z1)"
      ],
      "execution_count": null,
      "outputs": [
        {
          "output_type": "stream",
          "name": "stdout",
          "text": [
            "[0.9605718456066229, 0.17457400953677152, 0.9999980069243171, 0.9997704660571543]\n"
          ]
        }
      ]
    },
    {
      "cell_type": "code",
      "metadata": {
        "colab": {
          "base_uri": "https://localhost:8080/"
        },
        "id": "ZB6gexN3fXb4",
        "outputId": "0ff900fc-c90a-4222-f675-8c155c0118f4"
      },
      "source": [
        "print(z2)"
      ],
      "execution_count": null,
      "outputs": [
        {
          "output_type": "stream",
          "name": "stdout",
          "text": [
            "[0.16874965243320605, 0.9471010398304239, 0.9997716226203648, 0.9999974099209205]\n"
          ]
        }
      ]
    },
    {
      "cell_type": "code",
      "metadata": {
        "colab": {
          "base_uri": "https://localhost:8080/"
        },
        "id": "FvQxfhzjfuQF",
        "outputId": "2a53bace-97f5-408b-d847-b907c1e45228"
      },
      "source": [
        "print(zVal)"
      ],
      "execution_count": null,
      "outputs": [
        {
          "output_type": "stream",
          "name": "stdout",
          "text": [
            "[(1, 0.9605718456066229, 0.16874965243320605), (1, 0.17457400953677152, 0.9471010398304239), (1, 0.9999980069243171, 0.9997716226203648), (1, 0.9997704660571543, 0.9999974099209205)]\n"
          ]
        }
      ]
    },
    {
      "cell_type": "markdown",
      "metadata": {
        "id": "v2mg3NZKLIJf"
      },
      "source": [
        "Z layer->Y value"
      ]
    },
    {
      "cell_type": "code",
      "metadata": {
        "colab": {
          "base_uri": "https://localhost:8080/"
        },
        "id": "-S_sGsh0w7SO",
        "outputId": "74f5ef06-cc8f-4888-8a5d-9409874102c2"
      },
      "source": [
        "y1 = [F(V1, z) for z in zData]\n",
        "print(y1)"
      ],
      "execution_count": null,
      "outputs": [
        {
          "output_type": "stream",
          "name": "stdout",
          "text": [
            "[-6.630773834881156, 6.750756907536195, -0.0021213833039261942, 0.0017563357441172656]\n"
          ]
        }
      ]
    },
    {
      "cell_type": "code",
      "metadata": {
        "colab": {
          "base_uri": "https://localhost:8080/"
        },
        "id": "RptcaVYdxlZ4",
        "outputId": "6c284af6-d38d-4c56-c299-8e95b5c17a32"
      },
      "source": [
        "classification = classify(V1, zVal) #In general if positive then it is classified as 1 and negative values are 0\n",
        "print(classification)"
      ],
      "execution_count": null,
      "outputs": [
        {
          "output_type": "stream",
          "name": "stdout",
          "text": [
            "[0, 1, 0, 1]\n"
          ]
        }
      ]
    },
    {
      "cell_type": "markdown",
      "metadata": {
        "id": "yBMrWoGIEI70"
      },
      "source": [
        "Show input and output values"
      ]
    },
    {
      "cell_type": "code",
      "metadata": {
        "colab": {
          "base_uri": "https://localhost:8080/"
        },
        "id": "39DJQh9rybtt",
        "outputId": "b261668d-4caf-4c75-89e6-ca541bc15cc0"
      },
      "source": [
        "output = list(zip(X, classification))\n",
        "print(output)"
      ],
      "execution_count": null,
      "outputs": [
        {
          "output_type": "stream",
          "name": "stdout",
          "text": [
            "[((0, 0), 0), ((0, 1), 1), ((1, 0), 0), ((1, 1), 1)]\n"
          ]
        }
      ]
    }
  ]
}