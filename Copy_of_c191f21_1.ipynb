{
  "nbformat": 4,
  "nbformat_minor": 0,
  "metadata": {
    "colab": {
      "name": "Copy of c191f21.1.ipynb",
      "provenance": [],
      "collapsed_sections": [],
      "include_colab_link": true
    },
    "kernelspec": {
      "name": "python3",
      "display_name": "Python 3"
    },
    "language_info": {
      "name": "python"
    }
  },
  "cells": [
    {
      "cell_type": "markdown",
      "metadata": {
        "id": "view-in-github",
        "colab_type": "text"
      },
      "source": [
        "<a href=\"https://colab.research.google.com/github/mattdo40/Colab/blob/main/Copy_of_c191f21_1.ipynb\" target=\"_parent\"><img src=\"https://colab.research.google.com/assets/colab-badge.svg\" alt=\"Open In Colab\"/></a>"
      ]
    },
    {
      "cell_type": "markdown",
      "metadata": {
        "id": "ZScUdO2ZEp9M"
      },
      "source": [
        "# Simple Colab Example"
      ]
    },
    {
      "cell_type": "code",
      "metadata": {
        "id": "kjHvDPa-FBuS"
      },
      "source": [
        "### Includes\n",
        "%matplotlib inline\n",
        "import matplotlib.pyplot as plt\n",
        "\n"
      ],
      "execution_count": 574,
      "outputs": []
    },
    {
      "cell_type": "code",
      "metadata": {
        "colab": {
          "base_uri": "https://localhost:8080/"
        },
        "id": "aW6kqE37Gw97",
        "outputId": "2d2a4c1b-dd9a-40db-89d3-c23c0abeb27d"
      },
      "source": [
        "Weights = [5, 2] # F(X) = 5x_0 + 2x_1\n",
        "F = lambda W, X: sum([w*x for w,x in zip(W,X)])\n",
        "\n",
        "dataX1 = range(-2, 11, 1)\n",
        "dataX0 = [1]*len(dataX1)\n",
        "\n",
        "data = (list(zip(dataX0, dataX1)))\n",
        "print (data)\n",
        "Y = [F(Weights, X) for X in data]\n",
        "print (Y)"
      ],
      "execution_count": 575,
      "outputs": [
        {
          "output_type": "stream",
          "name": "stdout",
          "text": [
            "[(1, -2), (1, -1), (1, 0), (1, 1), (1, 2), (1, 3), (1, 4), (1, 5), (1, 6), (1, 7), (1, 8), (1, 9), (1, 10)]\n",
            "[1, 3, 5, 7, 9, 11, 13, 15, 17, 19, 21, 23, 25]\n"
          ]
        }
      ]
    },
    {
      "cell_type": "code",
      "metadata": {
        "id": "jeKBb6YJfnqY",
        "colab": {
          "base_uri": "https://localhost:8080/"
        },
        "outputId": "c74dc097-a019-43e2-ad5e-6c0b7bdd4e95"
      },
      "source": [
        "TrainingData1 = zip(data, Y)\n",
        "\n",
        "print (list(TrainingData1))\n"
      ],
      "execution_count": 576,
      "outputs": [
        {
          "output_type": "stream",
          "name": "stdout",
          "text": [
            "[((1, -2), 1), ((1, -1), 3), ((1, 0), 5), ((1, 1), 7), ((1, 2), 9), ((1, 3), 11), ((1, 4), 13), ((1, 5), 15), ((1, 6), 17), ((1, 7), 19), ((1, 8), 21), ((1, 9), 23), ((1, 10), 25)]\n"
          ]
        }
      ]
    },
    {
      "cell_type": "code",
      "metadata": {
        "colab": {
          "base_uri": "https://localhost:8080/"
        },
        "id": "4KZmWdMNIkwO",
        "outputId": "96508510-234b-4ad7-c0af-78274a0fad35"
      },
      "source": [
        "data = [((1, -2), 1), ((1, -1), 3), ((1, 0), 5), ((1, 1), 7), ((1, 2), 9), ((1, 3), 11), ((1, 4), 13), ((1, 5), 15), ((1, 6), 17), ((1, 7), 19), ((1, 8), 21), ((1, 9), 23), ((1, 10), 25)]\n",
        "print(data)\n",
        "X = [d for d,_ in data]\n",
        "Y = [y for _, y in data]\n",
        "print(X)\n",
        "print(Y)"
      ],
      "execution_count": 577,
      "outputs": [
        {
          "output_type": "stream",
          "name": "stdout",
          "text": [
            "[((1, -2), 1), ((1, -1), 3), ((1, 0), 5), ((1, 1), 7), ((1, 2), 9), ((1, 3), 11), ((1, 4), 13), ((1, 5), 15), ((1, 6), 17), ((1, 7), 19), ((1, 8), 21), ((1, 9), 23), ((1, 10), 25)]\n",
            "[(1, -2), (1, -1), (1, 0), (1, 1), (1, 2), (1, 3), (1, 4), (1, 5), (1, 6), (1, 7), (1, 8), (1, 9), (1, 10)]\n",
            "[1, 3, 5, 7, 9, 11, 13, 15, 17, 19, 21, 23, 25]\n"
          ]
        }
      ]
    },
    {
      "cell_type": "code",
      "metadata": {
        "id": "INkViFY43HVR"
      },
      "source": [
        "alpha=0.01\n",
        "model=[0, 0]\n",
        "Errors = []"
      ],
      "execution_count": 578,
      "outputs": []
    },
    {
      "cell_type": "code",
      "metadata": {
        "colab": {
          "base_uri": "https://localhost:8080/"
        },
        "id": "aLSOgxBtMXF_",
        "outputId": "e4f8c2c0-ca3a-4716-d117-7f597f02a1c0"
      },
      "source": [
        "# Calculate Predicted\n",
        "\n",
        "yPredicted = [F(model, x) for x in X]\n",
        "print(yPredicted)"
      ],
      "execution_count": 579,
      "outputs": [
        {
          "output_type": "stream",
          "name": "stdout",
          "text": [
            "[0, 0, 0, 0, 0, 0, 0, 0, 0, 0, 0, 0, 0]\n"
          ]
        }
      ]
    },
    {
      "cell_type": "code",
      "metadata": {
        "colab": {
          "base_uri": "https://localhost:8080/"
        },
        "id": "DIYJtXs5JgtM",
        "outputId": "ee7d08ab-02a9-428f-c359-b0cf79fbaa9a"
      },
      "source": [
        "# Evaluate Model\n",
        "Error = sum([(r-y)**2.0 for r,y in zip(Y, yPredicted)])\n",
        "print(\"With Model=\", model, \"Error=\", Error)\n",
        "Errors.append([model, Error])\n",
        "print (\"History w/ Alpha=\", alpha, \"=\")\n",
        "print (Errors)\n",
        "print(\"Next\")\n",
        "for i in range(len(Errors)):\n",
        "  print(\"Iterations=\",i+1,\":=\",Errors[i])"
      ],
      "execution_count": 580,
      "outputs": [
        {
          "output_type": "stream",
          "name": "stdout",
          "text": [
            "With Model= [0, 0] Error= 2925.0\n",
            "History w/ Alpha= 0.01 =\n",
            "[[[0, 0], 2925.0]]\n",
            "Next\n",
            "Iterations= 1 := [[0, 0], 2925.0]\n"
          ]
        }
      ]
    },
    {
      "cell_type": "code",
      "metadata": {
        "colab": {
          "base_uri": "https://localhost:8080/"
        },
        "id": "Dx7wY_2CKAh8",
        "outputId": "2618d8ec-5817-4fc7-9e77-c01ae83e668c"
      },
      "source": [
        "deltaX0 = 1/len(Y)*sum( [(-2*(r-y)*x[0]) for r,y,x in zip(Y, yPredicted, X)] )\n",
        "deltaX1 = 1/len(Y)*sum( [(-2*(r-y)*x[1]) for r,y,x in zip(Y, yPredicted, X)] )\n",
        "\n",
        "print(deltaX0)\n",
        "print(deltaX1)"
      ],
      "execution_count": 581,
      "outputs": [
        {
          "output_type": "stream",
          "name": "stdout",
          "text": [
            "-26.0\n",
            "-160.0\n"
          ]
        }
      ]
    },
    {
      "cell_type": "code",
      "metadata": {
        "id": "rGgRs5y2340Y",
        "colab": {
          "base_uri": "https://localhost:8080/"
        },
        "outputId": "e0a0d6a5-d0bc-4640-ed51-96c10e60f91b"
      },
      "source": [
        "model = [model[0]-alpha*deltaX0, model[1]-alpha*deltaX1]\n",
        "print(model)"
      ],
      "execution_count": 582,
      "outputs": [
        {
          "output_type": "stream",
          "name": "stdout",
          "text": [
            "[0.26, 1.6]\n"
          ]
        }
      ]
    },
    {
      "cell_type": "code",
      "metadata": {
        "colab": {
          "base_uri": "https://localhost:8080/",
          "height": 265
        },
        "id": "WegUgbPMdVJE",
        "outputId": "8786bb5a-a942-4bea-8a26-1492f28aa51e"
      },
      "source": [
        "dataX1 = [x[1] for x, y in data]\n",
        "plt.plot(dataX1, yPredicted, \"g\")\n",
        "plt.plot(dataX1, Y, \"g+\")\n",
        "plt.show()"
      ],
      "execution_count": 571,
      "outputs": [
        {
          "output_type": "display_data",
          "data": {
            "image/png": "[encoded data removed]",
            "text/plain": [
              "<Figure size 432x288 with 1 Axes>"
            ]
          },
          "metadata": {
            "needs_background": "light"
          }
        }
      ]
    },
    {
      "cell_type": "code",
      "metadata": {
        "id": "CRSXA5I4nI21",
        "colab": {
          "base_uri": "https://localhost:8080/",
          "height": 282
        },
        "outputId": "f1100c84-2758-4446-f617-756439b48f9c"
      },
      "source": [
        "## Add Noise\n",
        "import random\n",
        "import numpy as np\n",
        "EPS = 30\n",
        "yNoise = [round(y+random.random()*EPS-EPS/2,2) for y in Y]\n",
        "TrainingData2 = zip(data, yNoise)\n",
        "print(list(TrainingData2))\n",
        "\n",
        "plt.plot(dataX1, Y, \"g\")\n",
        "plt.plot(dataX1, yNoise, \"g+\")\n",
        "plt.show()"
      ],
      "execution_count": 572,
      "outputs": [
        {
          "output_type": "stream",
          "name": "stdout",
          "text": [
            "[(((1, -2), 1), -3.0), (((1, -1), 3), -6.61), (((1, 0), 5), 4.39), (((1, 1), 7), 7.77), (((1, 2), 9), 10.49), (((1, 3), 11), 7.39), (((1, 4), 13), 13.93), (((1, 5), 15), 16.22), (((1, 6), 17), 4.66), (((1, 7), 19), 29.34), (((1, 8), 21), 16.12), (((1, 9), 23), 15.14), (((1, 10), 25), 29.24)]\n"
          ]
        },
        {
          "output_type": "display_data",
          "data": {
            "image/png": "[encoded data removed]",
            "text/plain": [
              "<Figure size 432x288 with 1 Axes>"
            ]
          },
          "metadata": {
            "needs_background": "light"
          }
        }
      ]
    },
    {
      "cell_type": "code",
      "metadata": {
        "colab": {
          "base_uri": "https://localhost:8080/"
        },
        "id": "udQ6C14IIcN4",
        "outputId": "42635002-af72-4c1c-a7da-c8d6f8b640ee"
      },
      "source": [
        "data = [((1, -2), 6.39), ((1, -1), 16.51), ((1, 0), -3.11), ((1, 1), 10.79), ((1, 2), 11.62), ((1, 3), 23.24), ((1, 4), 18.27), ((1, 5), 27.58), ((1, 6), 22.21), ((1, 7), 5.12), ((1, 8), 8.86), ((1, 9), 10.69), ((1, 10), 14.82)]\n",
        "print(data)\n",
        "X = [d for d,_ in data]\n",
        "Y = [y for _, y in data]\n",
        "print(X)\n",
        "print(Y)"
      ],
      "execution_count": 573,
      "outputs": [
        {
          "output_type": "stream",
          "name": "stdout",
          "text": [
            "[((1, -2), 6.39), ((1, -1), 16.51), ((1, 0), -3.11), ((1, 1), 10.79), ((1, 2), 11.62), ((1, 3), 23.24), ((1, 4), 18.27), ((1, 5), 27.58), ((1, 6), 22.21), ((1, 7), 5.12), ((1, 8), 8.86), ((1, 9), 10.69), ((1, 10), 14.82)]\n",
            "[(1, -2), (1, -1), (1, 0), (1, 1), (1, 2), (1, 3), (1, 4), (1, 5), (1, 6), (1, 7), (1, 8), (1, 9), (1, 10)]\n",
            "[6.39, 16.51, -3.11, 10.79, 11.62, 23.24, 18.27, 27.58, 22.21, 5.12, 8.86, 10.69, 14.82]\n"
          ]
        }
      ]
    },
    {
      "cell_type": "code",
      "metadata": {
        "id": "G61NJAE0IjmO"
      },
      "source": [
        "alpha=0.02\n",
        "model=[0, 0]\n",
        "Errors = []"
      ],
      "execution_count": 583,
      "outputs": []
    },
    {
      "cell_type": "code",
      "metadata": {
        "colab": {
          "base_uri": "https://localhost:8080/"
        },
        "id": "JKt6LfqBImBb",
        "outputId": "38dc055c-8fbe-4823-9d19-f885e0303e8f"
      },
      "source": [
        "# Calculate Predicted\n",
        "\n",
        "yPredicted = [F(model, x) for x in X]\n",
        "print(yPredicted)"
      ],
      "execution_count": 589,
      "outputs": [
        {
          "output_type": "stream",
          "name": "stdout",
          "text": [
            "[-5.880000000000001, -2.68, 0.52, 3.72, 6.92, 10.120000000000001, 13.32, 16.52, 19.720000000000002, 22.92, 26.12, 29.32, 32.52]\n"
          ]
        }
      ]
    },
    {
      "cell_type": "code",
      "metadata": {
        "colab": {
          "base_uri": "https://localhost:8080/"
        },
        "id": "FFuK4R9PInvv",
        "outputId": "255a78d0-d70e-4010-9a85-7757fa240df8"
      },
      "source": [
        "# Evaluate Model\n",
        "Error = sum([(r-y)**2.0 for r,y in zip(Y, yPredicted)])\n",
        "print(\"With Model=\", model, \"Error=\", Error)\n",
        "Errors.append([model, Error])\n",
        "print (\"History w/ Alpha=\", alpha, \"=\")\n",
        "print (Errors)\n",
        "print(\"Next\")\n",
        "for i in range(len(Errors)):\n",
        "  print(\"Iterations=\",i+1,\":=\",Errors[i])"
      ],
      "execution_count": 590,
      "outputs": [
        {
          "output_type": "stream",
          "name": "stdout",
          "text": [
            "With Model= [0.52, 3.2] Error= 263.41120000000006\n",
            "History w/ Alpha= 0.02 =\n",
            "[[[0, 0], 2925.0], [[0.52, 3.2], 263.41120000000006]]\n",
            "Next\n",
            "Iterations= 1 := [[0, 0], 2925.0]\n",
            "Iterations= 2 := [[0.52, 3.2], 263.41120000000006]\n"
          ]
        }
      ]
    },
    {
      "cell_type": "code",
      "metadata": {
        "colab": {
          "base_uri": "https://localhost:8080/"
        },
        "id": "uHyZcs3OIrE4",
        "outputId": "64ef589e-b968-4600-82b7-77f70e19ef6d"
      },
      "source": [
        "deltaX0 = 1/len(Y)*sum( [(-2*(r-y)*x[0]) for r,y,x in zip(Y, yPredicted, X)] )\n",
        "deltaX1 = 1/len(Y)*sum( [(-2*(r-y)*x[1]) for r,y,x in zip(Y, yPredicted, X)] )\n",
        "\n",
        "print(deltaX0)\n",
        "print(deltaX1)"
      ],
      "execution_count": 591,
      "outputs": [
        {
          "output_type": "stream",
          "name": "stdout",
          "text": [
            "0.6400000000000017\n",
            "36.16000000000001\n"
          ]
        }
      ]
    },
    {
      "cell_type": "code",
      "metadata": {
        "colab": {
          "base_uri": "https://localhost:8080/"
        },
        "id": "-9_VCYEkIs_N",
        "outputId": "22251333-b64a-4e79-861a-36a97ef80086"
      },
      "source": [
        "model = [model[0]-alpha*deltaX0, model[1]-alpha*deltaX1]\n",
        "print(model)"
      ],
      "execution_count": 592,
      "outputs": [
        {
          "output_type": "stream",
          "name": "stdout",
          "text": [
            "[0.5072, 2.4768]\n"
          ]
        }
      ]
    },
    {
      "cell_type": "code",
      "metadata": {
        "colab": {
          "base_uri": "https://localhost:8080/",
          "height": 265
        },
        "id": "7jeRG5gUIuvQ",
        "outputId": "08bc2c57-100e-4778-b337-0902cf58869d"
      },
      "source": [
        "dataX1 = [x[1] for x, y in data]\n",
        "plt.plot(dataX1, yPredicted, \"g\")\n",
        "plt.plot(dataX1, Y, \"g+\")\n",
        "plt.show()"
      ],
      "execution_count": 593,
      "outputs": [
        {
          "output_type": "display_data",
          "data": {
            "image/png": "[encoded data removed]",
            "text/plain": [
              "<Figure size 432x288 with 1 Axes>"
            ]
          },
          "metadata": {
            "needs_background": "light"
          }
        }
      ]
    }
  ]
}