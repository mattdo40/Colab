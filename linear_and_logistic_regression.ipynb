{
  "nbformat": 4,
  "nbformat_minor": 0,
  "metadata": {
    "colab": {
      "name": "linear and logistic regression",
      "provenance": [],
      "collapsed_sections": [],
      "authorship_tag": "ABX9TyPMXgoTp19BLj+nkdOxVo0d",
      "include_colab_link": true
    },
    "kernelspec": {
      "name": "python3",
      "display_name": "Python 3"
    },
    "language_info": {
      "name": "python"
    }
  },
  "cells": [
    {
      "cell_type": "markdown",
      "metadata": {
        "id": "view-in-github",
        "colab_type": "text"
      },
      "source": [
        "<a href=\"https://colab.research.google.com/github/mattdo40/Colab/blob/main/linear_and_logistic_regression.ipynb\" target=\"_parent\"><img src=\"https://colab.research.google.com/assets/colab-badge.svg\" alt=\"Open In Colab\"/></a>"
      ]
    },
    {
      "cell_type": "code",
      "metadata": {
        "id": "AniBjjpt2mCV"
      },
      "source": [
        "  %matplotlib inline\n",
        "  import matplotlib.pyplot as plt\n",
        "  import math \n",
        "  import numpy as np \n",
        "  import pandas as pd\n",
        "  import matplotlib.pyplot as plt\n",
        "  import seaborn as sns\n",
        "  from sklearn.linear_model import LogisticRegression # used to verify the accuracy of my own defined algorithm\n",
        "  from sklearn.metrics import classification_report\n",
        "  from sklearn.metrics import accuracy_score\n",
        "  from sklearn.model_selection import train_test_split"
      ],
      "execution_count": 1299,
      "outputs": []
    },
    {
      "cell_type": "code",
      "metadata": {
        "colab": {
          "base_uri": "https://localhost:8080/"
        },
        "id": "aW6kqE37Gw97",
        "outputId": "4d2fb5ad-d927-4273-a6c3-32b44bb77eda"
      },
      "source": [
        "Weights = [5, 2] # F(X) = 5x_0 + 2x_1\n",
        "F = lambda W, X: sum([w*x for w,x in zip(W,X)])\n",
        "\n",
        "dataX1 = range(-2, 11, 1)\n",
        "dataX0 = [1]*len(dataX1)\n",
        "\n",
        "data = (list(zip(dataX0, dataX1)))\n",
        "print (data)\n",
        "Y = [F(Weights, X) for X in data]\n",
        "print (Y)"
      ],
      "execution_count": 1300,
      "outputs": [
        {
          "output_type": "stream",
          "name": "stdout",
          "text": [
            "[(1, -2), (1, -1), (1, 0), (1, 1), (1, 2), (1, 3), (1, 4), (1, 5), (1, 6), (1, 7), (1, 8), (1, 9), (1, 10)]\n",
            "[1, 3, 5, 7, 9, 11, 13, 15, 17, 19, 21, 23, 25]\n"
          ]
        }
      ]
    },
    {
      "cell_type": "code",
      "metadata": {
        "id": "jeKBb6YJfnqY",
        "colab": {
          "base_uri": "https://localhost:8080/"
        },
        "outputId": "121d52cd-43a3-4075-dc6b-b03b493c8f4d"
      },
      "source": [
        "TrainingData1 = zip(data, Y)\n",
        "\n",
        "print (list(TrainingData1))\n"
      ],
      "execution_count": 1301,
      "outputs": [
        {
          "output_type": "stream",
          "name": "stdout",
          "text": [
            "[((1, -2), 1), ((1, -1), 3), ((1, 0), 5), ((1, 1), 7), ((1, 2), 9), ((1, 3), 11), ((1, 4), 13), ((1, 5), 15), ((1, 6), 17), ((1, 7), 19), ((1, 8), 21), ((1, 9), 23), ((1, 10), 25)]\n"
          ]
        }
      ]
    },
    {
      "cell_type": "code",
      "metadata": {
        "colab": {
          "base_uri": "https://localhost:8080/"
        },
        "id": "4KZmWdMNIkwO",
        "outputId": "39435d82-79bc-4b05-88e5-30c70f9a4799"
      },
      "source": [
        "data = [((1, -2), 1), ((1, -1), 3), ((1, 0), 5), ((1, 1), 7), ((1, 2), 9), ((1, 3), 11), ((1, 4), 13), ((1, 5), 15), ((1, 6), 17), ((1, 7), 19), ((1, 8), 21), ((1, 9), 23), ((1, 10), 25)]\n",
        "print(data)\n",
        "X = [d for d,_ in data]\n",
        "Y = [y for _, y in data]\n",
        "print(X)\n",
        "print(Y)"
      ],
      "execution_count": 1302,
      "outputs": [
        {
          "output_type": "stream",
          "name": "stdout",
          "text": [
            "[((1, -2), 1), ((1, -1), 3), ((1, 0), 5), ((1, 1), 7), ((1, 2), 9), ((1, 3), 11), ((1, 4), 13), ((1, 5), 15), ((1, 6), 17), ((1, 7), 19), ((1, 8), 21), ((1, 9), 23), ((1, 10), 25)]\n",
            "[(1, -2), (1, -1), (1, 0), (1, 1), (1, 2), (1, 3), (1, 4), (1, 5), (1, 6), (1, 7), (1, 8), (1, 9), (1, 10)]\n",
            "[1, 3, 5, 7, 9, 11, 13, 15, 17, 19, 21, 23, 25]\n"
          ]
        }
      ]
    },
    {
      "cell_type": "code",
      "metadata": {
        "id": "INkViFY43HVR"
      },
      "source": [
        "alpha=0.01\n",
        "model=[0, 0]\n",
        "Errors = []"
      ],
      "execution_count": 1303,
      "outputs": []
    },
    {
      "cell_type": "code",
      "metadata": {
        "colab": {
          "base_uri": "https://localhost:8080/"
        },
        "id": "aLSOgxBtMXF_",
        "outputId": "317a7de7-d19c-46df-e0b4-903ac9fa3210"
      },
      "source": [
        "# Calculate Predicted\n",
        "\n",
        "yPredicted = [F(model, x) for x in X]\n",
        "print(yPredicted)"
      ],
      "execution_count": 1304,
      "outputs": [
        {
          "output_type": "stream",
          "name": "stdout",
          "text": [
            "[0, 0, 0, 0, 0, 0, 0, 0, 0, 0, 0, 0, 0]\n"
          ]
        }
      ]
    },
    {
      "cell_type": "code",
      "metadata": {
        "colab": {
          "base_uri": "https://localhost:8080/"
        },
        "id": "DIYJtXs5JgtM",
        "outputId": "8f4b633e-9cd7-4dbb-9d91-23829c27c0ab"
      },
      "source": [
        "# Evaluate Model\n",
        "Error = sum([(r-y)**2.0 for r,y in zip(Y, yPredicted)])\n",
        "print(\"With Model=\", model, \"Error=\", Error)\n",
        "Errors.append([model, Error])\n",
        "print (\"History w/ Alpha=\", alpha, \"=\")\n",
        "print (Errors)\n",
        "print(\"Next\")\n",
        "for i in range(len(Errors)):\n",
        "  print(\"Iterations=\",i+1,\":=\",Errors[i])"
      ],
      "execution_count": 1305,
      "outputs": [
        {
          "output_type": "stream",
          "name": "stdout",
          "text": [
            "With Model= [0, 0] Error= 2925.0\n",
            "History w/ Alpha= 0.01 =\n",
            "[[[0, 0], 2925.0]]\n",
            "Next\n",
            "Iterations= 1 := [[0, 0], 2925.0]\n"
          ]
        }
      ]
    },
    {
      "cell_type": "code",
      "metadata": {
        "colab": {
          "base_uri": "https://localhost:8080/"
        },
        "id": "Dx7wY_2CKAh8",
        "outputId": "fae005e0-61ce-430d-895b-de57d9863a3a"
      },
      "source": [
        "deltaX0 = 1/len(Y)*sum( [(-2*(r-y)*x[0]) for r,y,x in zip(Y, yPredicted, X)] )\n",
        "deltaX1 = 1/len(Y)*sum( [(-2*(r-y)*x[1]) for r,y,x in zip(Y, yPredicted, X)] )\n",
        "\n",
        "print(deltaX0)\n",
        "print(deltaX1)"
      ],
      "execution_count": 1306,
      "outputs": [
        {
          "output_type": "stream",
          "name": "stdout",
          "text": [
            "-26.0\n",
            "-160.0\n"
          ]
        }
      ]
    },
    {
      "cell_type": "code",
      "metadata": {
        "id": "rGgRs5y2340Y",
        "colab": {
          "base_uri": "https://localhost:8080/"
        },
        "outputId": "fbe76b13-bbe7-4afa-8293-6f3adcbe3313"
      },
      "source": [
        "model = [model[0]-alpha*deltaX0, model[1]-alpha*deltaX1]\n",
        "print(model)"
      ],
      "execution_count": 1307,
      "outputs": [
        {
          "output_type": "stream",
          "name": "stdout",
          "text": [
            "[0.26, 1.6]\n"
          ]
        }
      ]
    },
    {
      "cell_type": "code",
      "metadata": {
        "colab": {
          "base_uri": "https://localhost:8080/",
          "height": 265
        },
        "id": "WegUgbPMdVJE",
        "outputId": "39bee05a-7cce-45f8-a40c-c13e952c03a9"
      },
      "source": [
        "dataX1 = [x[1] for x, y in data]\n",
        "plt.plot(dataX1, yPredicted, \"g\")\n",
        "plt.plot(dataX1, Y, \"g+\")\n",
        "plt.show()"
      ],
      "execution_count": 1308,
      "outputs": [
        {
          "output_type": "display_data",
          "data": {
            "image/png": "[encoded data removed]",
            "text/plain": [
              "<Figure size 432x288 with 1 Axes>"
            ]
          },
          "metadata": {
            "needs_background": "light"
          }
        }
      ]
    },
    {
      "cell_type": "code",
      "metadata": {
        "id": "CRSXA5I4nI21",
        "colab": {
          "base_uri": "https://localhost:8080/",
          "height": 282
        },
        "outputId": "3e43a78a-7713-4d0e-cfc2-a5f6ab201e53"
      },
      "source": [
        "## Add Noise\n",
        "import random\n",
        "import numpy as np\n",
        "EPS = 30\n",
        "yNoise = [round(y+random.random()*EPS-EPS/2,2) for y in Y]\n",
        "TrainingData2 = zip(data, yNoise)\n",
        "print(list(TrainingData2))\n",
        "\n",
        "plt.plot(dataX1, Y, \"g\")\n",
        "plt.plot(dataX1, yNoise, \"g+\")\n",
        "plt.show()"
      ],
      "execution_count": 1309,
      "outputs": [
        {
          "output_type": "stream",
          "name": "stdout",
          "text": [
            "[(((1, -2), 1), -11.72), (((1, -1), 3), -10.53), (((1, 0), 5), 5.56), (((1, 1), 7), -5.79), (((1, 2), 9), 9.23), (((1, 3), 11), 18.87), (((1, 4), 13), 2.34), (((1, 5), 15), 17.1), (((1, 6), 17), 25.29), (((1, 7), 19), 18.84), (((1, 8), 21), 7.4), (((1, 9), 23), 26.74), (((1, 10), 25), 33.14)]\n"
          ]
        },
        {
          "output_type": "display_data",
          "data": {
            "image/png": "[encoded data removed]",
            "text/plain": [
              "<Figure size 432x288 with 1 Axes>"
            ]
          },
          "metadata": {
            "needs_background": "light"
          }
        }
      ]
    },
    {
      "cell_type": "code",
      "metadata": {
        "colab": {
          "base_uri": "https://localhost:8080/"
        },
        "id": "udQ6C14IIcN4",
        "outputId": "975e7117-8dd6-420b-9e99-6b50f1e2eaf1"
      },
      "source": [
        "data = [((1, -2), 6.39), ((1, -1), 16.51), ((1, 0), -3.11), ((1, 1), 10.79), ((1, 2), 11.62), ((1, 3), 23.24), ((1, 4), 18.27), ((1, 5), 27.58), ((1, 6), 22.21), ((1, 7), 5.12), ((1, 8), 8.86), ((1, 9), 10.69), ((1, 10), 14.82)]\n",
        "print(data)\n",
        "X = [d for d,_ in data]\n",
        "Y = [y for _, y in data]\n",
        "print(X)\n",
        "print(Y)"
      ],
      "execution_count": 1310,
      "outputs": [
        {
          "output_type": "stream",
          "name": "stdout",
          "text": [
            "[((1, -2), 6.39), ((1, -1), 16.51), ((1, 0), -3.11), ((1, 1), 10.79), ((1, 2), 11.62), ((1, 3), 23.24), ((1, 4), 18.27), ((1, 5), 27.58), ((1, 6), 22.21), ((1, 7), 5.12), ((1, 8), 8.86), ((1, 9), 10.69), ((1, 10), 14.82)]\n",
            "[(1, -2), (1, -1), (1, 0), (1, 1), (1, 2), (1, 3), (1, 4), (1, 5), (1, 6), (1, 7), (1, 8), (1, 9), (1, 10)]\n",
            "[6.39, 16.51, -3.11, 10.79, 11.62, 23.24, 18.27, 27.58, 22.21, 5.12, 8.86, 10.69, 14.82]\n"
          ]
        }
      ]
    },
    {
      "cell_type": "code",
      "metadata": {
        "id": "G61NJAE0IjmO"
      },
      "source": [
        "alpha=0.02\n",
        "model=[0, 0]\n",
        "Errors = []"
      ],
      "execution_count": 1311,
      "outputs": []
    },
    {
      "cell_type": "code",
      "metadata": {
        "colab": {
          "base_uri": "https://localhost:8080/"
        },
        "id": "JKt6LfqBImBb",
        "outputId": "1045603e-9c50-4acd-a2b8-6afe2c3706ac"
      },
      "source": [
        "# Calculate Predicted\n",
        "\n",
        "yPredicted = [F(model, x) for x in X]\n",
        "print(yPredicted)"
      ],
      "execution_count": 1312,
      "outputs": [
        {
          "output_type": "stream",
          "name": "stdout",
          "text": [
            "[0, 0, 0, 0, 0, 0, 0, 0, 0, 0, 0, 0, 0]\n"
          ]
        }
      ]
    },
    {
      "cell_type": "code",
      "metadata": {
        "colab": {
          "base_uri": "https://localhost:8080/"
        },
        "id": "FFuK4R9PInvv",
        "outputId": "9e536970-bc94-49bc-fa30-862adf434068"
      },
      "source": [
        "# Evaluate Model\n",
        "Error = sum([(r-y)**2.0 for r,y in zip(Y, yPredicted)])\n",
        "print(\"With Model=\", model, \"Error=\", Error)\n",
        "Errors.append([model, Error])\n",
        "print (\"History w/ Alpha=\", alpha, \"=\")\n",
        "print (Errors)\n",
        "print(\"Next\")\n",
        "for i in range(len(Errors)):\n",
        "  print(\"Iterations=\",i+1,\":=\",Errors[i])"
      ],
      "execution_count": 1313,
      "outputs": [
        {
          "output_type": "stream",
          "name": "stdout",
          "text": [
            "With Model= [0, 0] Error= 3140.9862999999996\n",
            "History w/ Alpha= 0.02 =\n",
            "[[[0, 0], 3140.9862999999996]]\n",
            "Next\n",
            "Iterations= 1 := [[0, 0], 3140.9862999999996]\n"
          ]
        }
      ]
    },
    {
      "cell_type": "code",
      "metadata": {
        "colab": {
          "base_uri": "https://localhost:8080/"
        },
        "id": "uHyZcs3OIrE4",
        "outputId": "cafcca72-23ff-432c-e896-b73a682093a1"
      },
      "source": [
        "deltaX0 = 1/len(Y)*sum( [(-2*(r-y)*x[0]) for r,y,x in zip(Y, yPredicted, X)] )\n",
        "deltaX1 = 1/len(Y)*sum( [(-2*(r-y)*x[1]) for r,y,x in zip(Y, yPredicted, X)] )\n",
        "\n",
        "print(deltaX0)\n",
        "print(deltaX1)"
      ],
      "execution_count": 1314,
      "outputs": [
        {
          "output_type": "stream",
          "name": "stdout",
          "text": [
            "-26.613846153846158\n",
            "-118.4353846153846\n"
          ]
        }
      ]
    },
    {
      "cell_type": "code",
      "metadata": {
        "colab": {
          "base_uri": "https://localhost:8080/"
        },
        "id": "-9_VCYEkIs_N",
        "outputId": "a1872a5b-72ca-4754-c9ae-a28db4437eb1"
      },
      "source": [
        "model = [model[0]-alpha*deltaX0, model[1]-alpha*deltaX1]\n",
        "print(model)"
      ],
      "execution_count": 1315,
      "outputs": [
        {
          "output_type": "stream",
          "name": "stdout",
          "text": [
            "[0.5322769230769232, 2.368707692307692]\n"
          ]
        }
      ]
    },
    {
      "cell_type": "code",
      "metadata": {
        "colab": {
          "base_uri": "https://localhost:8080/",
          "height": 265
        },
        "id": "7jeRG5gUIuvQ",
        "outputId": "33c07ebc-5a40-4a14-b654-66584809c509"
      },
      "source": [
        "dataX1 = [x[1] for x, y in data]\n",
        "plt.plot(dataX1, yPredicted, \"g\")\n",
        "plt.plot(dataX1, Y, \"g+\")\n",
        "plt.show()"
      ],
      "execution_count": 1316,
      "outputs": [
        {
          "output_type": "display_data",
          "data": {
            "image/png": "[encoded data removed]",
            "text/plain": [
              "<Figure size 432x288 with 1 Axes>"
            ]
          },
          "metadata": {
            "needs_background": "light"
          }
        }
      ]
    },
    {
      "cell_type": "markdown",
      "metadata": {
        "id": "gQlt3ySRrU8g"
      },
      "source": [
        "# Logistic Regression"
      ]
    },
    {
      "cell_type": "code",
      "metadata": {
        "id": "9Q31ux8SftvD"
      },
      "source": [
        "def sigmoid(X, theta):\n",
        "    \n",
        "    z = np.dot(X, theta[1:]) + theta[0]\n",
        "    \n",
        "    return 1.0 / ( 1.0 + np.exp(-z))"
      ],
      "execution_count": 1317,
      "outputs": []
    },
    {
      "cell_type": "code",
      "metadata": {
        "id": "7v3uJy_qf0UG"
      },
      "source": [
        "def lrCostFunction(y, hx):\n",
        "  \n",
        "    # compute cost for given theta parameters\n",
        "    j = -y.dot(np.log(hx)) - ((1 - y).dot(np.log(1-hx)))\n",
        "    \n",
        "    return j"
      ],
      "execution_count": 1318,
      "outputs": []
    },
    {
      "cell_type": "code",
      "metadata": {
        "id": "aapAT3tDSfPM"
      },
      "source": [
        "def gradient_descent(X, y, lr=0.05, epoch=10):\n",
        "    \n",
        "    '''\n",
        "    Gradient Descent for a single feature\n",
        "    '''\n",
        "    \n",
        "    m, b = 0.33, 0.48 # parameters\n",
        "    log, mse = [], [] # lists to store learning process\n",
        "    N = len(X) # number of samples\n",
        "    \n",
        "    for _ in range(epoch):\n",
        "                \n",
        "        f = y - (m*X + b)\n",
        "    \n",
        "        # Updating m and b\n",
        "        m -= lr * (-2 * X.dot(f).sum() / N)\n",
        "        b -= lr * (-2 * f.sum() / N)\n",
        "        \n",
        "        log.append((m, b))\n",
        "        mse.append(mean_squared_error(y, (m*X + b)))        \n",
        "    \n",
        "    return m, b, log, ms"
      ],
      "execution_count": 1319,
      "outputs": []
    },
    {
      "cell_type": "code",
      "metadata": {
        "id": "C8mBl2EJfjwi"
      },
      "source": [
        "def lrGradient(X, y, theta, alpha, num_iter):\n",
        "    # empty list to store the value of the cost function over number of iterations\n",
        "    cost = []\n",
        "    \n",
        "    for i in range(num_iter):\n",
        "        # call sigmoid function \n",
        "        hx = sigmoid(X, theta)\n",
        "        # calculate error\n",
        "        error = hx - y\n",
        "        # calculate gradient\n",
        "        grad = X.T.dot(error)\n",
        "        # update values in theta\n",
        "        theta[0] = theta[0] - alpha * error.sum()\n",
        "        theta[1:] = theta[1:] - alpha * grad\n",
        "        \n",
        "        cost.append(lrCostFunction(y, hx))\n",
        "        \n",
        "    return cost"
      ],
      "execution_count": 1320,
      "outputs": []
    },
    {
      "cell_type": "code",
      "metadata": {
        "id": "8FEkFaacA85x"
      },
      "source": [
        "X = df.iloc[0:148, [0, 1]].values\n",
        "\n",
        "y = df.iloc[0:148, 4].values\n",
        "# set output lable value to 1 if it is setosa and 0 if versicolor.\n",
        "y = np.where(y == 'Iris-setosa', 1, 0)"
      ],
      "execution_count": 1321,
      "outputs": []
    },
    {
      "cell_type": "code",
      "metadata": {
        "id": "SO8vlQfvA85x"
      },
      "source": [
        "X_std = np.copy(X)\n",
        "\n",
        "X_std[:,0] = (X_std[:,0] - X_std[:,0].mean()) / X_std[:,0].std()\n",
        "X_std[:,1] = (X_std[:,1] - X_std[:,1].mean()) / X_std[:,1].std()"
      ],
      "execution_count": 1322,
      "outputs": []
    },
    {
      "cell_type": "code",
      "metadata": {
        "id": "Jl1DMQRXA85x"
      },
      "source": [
        "m, n = X.shape\n",
        "\n",
        "# initialize theta(weights) parameters to zeros\n",
        "theta = np.zeros(1+n)\n",
        "\n",
        "# set learning rate to 0.01 and number of iterations to 500\n",
        "alpha = 0.01\n",
        "num_iter = 500\n",
        "\n",
        "cost = lrGradient(X_std, y, theta, alpha, num_iter)"
      ],
      "execution_count": 1323,
      "outputs": []
    },
    {
      "cell_type": "code",
      "metadata": {
        "id": "lT6iDGToA85x"
      },
      "source": [
        "def lrPredict(X):\n",
        "    \n",
        "    return np.where(sigmoid(X,theta) >= 0.5, 1, 0)"
      ],
      "execution_count": 1324,
      "outputs": []
    },
    {
      "cell_type": "code",
      "metadata": {
        "id": "fK87mqHnA85x"
      },
      "source": [
        "from matplotlib.colors import ListedColormap\n",
        "\n",
        "def plot_decision_boundry(X, y, classifier, h=0.02):\n",
        "    # h = step size in the mesh\n",
        "  \n",
        "    # setup marker generator and color map\n",
        "    markers = ('s', 'x', 'o', '^', 'v')\n",
        "    colors = ('red', 'blue', 'lightgreen', 'gray', 'cyan')\n",
        "    cmap = ListedColormap(colors[:len(np.unique(y))])\n",
        "\n",
        "    # plot the decision surface\n",
        "    x1_min, x1_max = X[:, 0].min() - 1, X[:, 0].max() + 1\n",
        "    x2_min, x2_max = X[:, 1].min() - 1, X[:, 1].max() + 1\n",
        "    xx1, xx2 = np.meshgrid(np.arange(x1_min, x1_max, h),\n",
        "                         np.arange(x2_min, x2_max, h))\n",
        "    Z = classifier(np.array([xx1.ravel(), xx2.ravel()]).T)\n",
        "    Z = Z.reshape(xx1.shape)\n",
        "    plt.contourf(xx1, xx2, Z, alpha=0.4, cmap=cmap)\n",
        "    plt.xlim(xx1.min(), xx1.max())\n",
        "    plt.ylim(xx2.min(), xx2.max())\n",
        "\n",
        "    # plot class samples\n",
        "    for idx, cl in enumerate(np.unique(y)):\n",
        "        plt.scatter(x=X[y == cl, 0], y=X[y == cl, 1],\n",
        "                    alpha=0.8, c=cmap(idx),\n",
        "                    marker=markers[idx], label=cl)"
      ],
      "execution_count": 1325,
      "outputs": []
    },
    {
      "cell_type": "code",
      "metadata": {
        "colab": {
          "base_uri": "https://localhost:8080/",
          "height": 352
        },
        "id": "f1HxKfwfA85y",
        "outputId": "fe4195ae-dd81-4a81-f5dd-1cd9603c64a1"
      },
      "source": [
        "plot_decision_boundry(X_std, y, classifier=lrPredict)\n",
        "plt.title('Standardized Logistic Regression - Gradient Descent')\n",
        "plt.xlabel('sepal length ')\n",
        "plt.ylabel('sepal width ')\n",
        "plt.tight_layout()"
      ],
      "execution_count": 1326,
      "outputs": [
        {
          "output_type": "stream",
          "name": "stderr",
          "text": [
            "*c* argument looks like a single numeric RGB or RGBA sequence, which should be avoided as value-mapping will have precedence in case its length matches with *x* & *y*.  Please use the *color* keyword-argument or provide a 2-D array with a single row if you intend to specify the same RGB or RGBA value for all points.\n",
            "*c* argument looks like a single numeric RGB or RGBA sequence, which should be avoided as value-mapping will have precedence in case its length matches with *x* & *y*.  Please use the *color* keyword-argument or provide a 2-D array with a single row if you intend to specify the same RGB or RGBA value for all points.\n"
          ]
        },
        {
          "output_type": "display_data",
          "data": {
            "image/png": "[encoded data removed]",
            "text/plain": [
              "<Figure size 432x288 with 1 Axes>"
            ]
          },
          "metadata": {
            "needs_background": "light"
          }
        }
      ]
    },
    {
      "cell_type": "code",
      "metadata": {
        "id": "kT-cugX3IPWp"
      },
      "source": [
        "def F(W,X):\n",
        "  return sum([w*x for w,x in zip(W,X)])"
      ],
      "execution_count": 1327,
      "outputs": []
    },
    {
      "cell_type": "code",
      "metadata": {
        "id": "PtiB7cdnFQ67"
      },
      "source": [
        "def sigmoid(x):\n",
        "  return 1.0/(1+math.exp(-x))"
      ],
      "execution_count": 1328,
      "outputs": []
    },
    {
      "cell_type": "code",
      "metadata": {
        "id": "7yJE2H8FkbTI"
      },
      "source": [
        "def classify(model, X): \n",
        "  return [1 if sigmoid(F(model, x)) >= 0.5 else 0 for x in X]"
      ],
      "execution_count": 1329,
      "outputs": []
    },
    {
      "cell_type": "code",
      "metadata": {
        "colab": {
          "base_uri": "https://localhost:8080/",
          "height": 424
        },
        "id": "4K0pTMW9ygFO",
        "outputId": "82a647ce-da9a-4082-892c-792e54d7f08b"
      },
      "source": [
        "url = 'https://raw.githubusercontent.com/mattdo40/Colab/main/iris.data.csv'\n",
        "data = pd.read_csv(url,names=[\"Sepal Length\", \"Sepal Width\", \"Petal Length\", \"Petal Width\", \"Class\"])\n",
        "data"
      ],
      "execution_count": 1330,
      "outputs": [
        {
          "output_type": "execute_result",
          "data": {
            "text/html": [
              "<div>\n",
              "<style scoped>\n",
              "    .dataframe tbody tr th:only-of-type {\n",
              "        vertical-align: middle;\n",
              "    }\n",
              "\n",
              "    .dataframe tbody tr th {\n",
              "        vertical-align: top;\n",
              "    }\n",
              "\n",
              "    .dataframe thead th {\n",
              "        text-align: right;\n",
              "    }\n",
              "</style>\n",
              "<table border=\"1\" class=\"dataframe\">\n",
              "  <thead>\n",
              "    <tr style=\"text-align: right;\">\n",
              "      <th></th>\n",
              "      <th>Sepal Length</th>\n",
              "      <th>Sepal Width</th>\n",
              "      <th>Petal Length</th>\n",
              "      <th>Petal Width</th>\n",
              "      <th>Class</th>\n",
              "    </tr>\n",
              "  </thead>\n",
              "  <tbody>\n",
              "    <tr>\n",
              "      <th>0</th>\n",
              "      <td>5.1</td>\n",
              "      <td>3.5</td>\n",
              "      <td>1.4</td>\n",
              "      <td>0.2</td>\n",
              "      <td>Iris-setosa</td>\n",
              "    </tr>\n",
              "    <tr>\n",
              "      <th>1</th>\n",
              "      <td>4.9</td>\n",
              "      <td>3.0</td>\n",
              "      <td>1.4</td>\n",
              "      <td>0.2</td>\n",
              "      <td>Iris-setosa</td>\n",
              "    </tr>\n",
              "    <tr>\n",
              "      <th>2</th>\n",
              "      <td>4.7</td>\n",
              "      <td>3.2</td>\n",
              "      <td>1.3</td>\n",
              "      <td>0.2</td>\n",
              "      <td>Iris-setosa</td>\n",
              "    </tr>\n",
              "    <tr>\n",
              "      <th>3</th>\n",
              "      <td>4.6</td>\n",
              "      <td>3.1</td>\n",
              "      <td>1.5</td>\n",
              "      <td>0.2</td>\n",
              "      <td>Iris-setosa</td>\n",
              "    </tr>\n",
              "    <tr>\n",
              "      <th>4</th>\n",
              "      <td>5.0</td>\n",
              "      <td>3.6</td>\n",
              "      <td>1.4</td>\n",
              "      <td>0.2</td>\n",
              "      <td>Iris-setosa</td>\n",
              "    </tr>\n",
              "    <tr>\n",
              "      <th>...</th>\n",
              "      <td>...</td>\n",
              "      <td>...</td>\n",
              "      <td>...</td>\n",
              "      <td>...</td>\n",
              "      <td>...</td>\n",
              "    </tr>\n",
              "    <tr>\n",
              "      <th>145</th>\n",
              "      <td>6.7</td>\n",
              "      <td>3.0</td>\n",
              "      <td>5.2</td>\n",
              "      <td>2.3</td>\n",
              "      <td>Iris-virginica</td>\n",
              "    </tr>\n",
              "    <tr>\n",
              "      <th>146</th>\n",
              "      <td>6.3</td>\n",
              "      <td>2.5</td>\n",
              "      <td>5.0</td>\n",
              "      <td>1.9</td>\n",
              "      <td>Iris-virginica</td>\n",
              "    </tr>\n",
              "    <tr>\n",
              "      <th>147</th>\n",
              "      <td>6.5</td>\n",
              "      <td>3.0</td>\n",
              "      <td>5.2</td>\n",
              "      <td>2.0</td>\n",
              "      <td>Iris-virginica</td>\n",
              "    </tr>\n",
              "    <tr>\n",
              "      <th>148</th>\n",
              "      <td>6.2</td>\n",
              "      <td>3.4</td>\n",
              "      <td>5.4</td>\n",
              "      <td>2.3</td>\n",
              "      <td>Iris-virginica</td>\n",
              "    </tr>\n",
              "    <tr>\n",
              "      <th>149</th>\n",
              "      <td>5.9</td>\n",
              "      <td>3.0</td>\n",
              "      <td>5.1</td>\n",
              "      <td>1.8</td>\n",
              "      <td>Iris-virginica</td>\n",
              "    </tr>\n",
              "  </tbody>\n",
              "</table>\n",
              "<p>150 rows × 5 columns</p>\n",
              "</div>"
            ],
            "text/plain": [
              "     Sepal Length  Sepal Width  Petal Length  Petal Width           Class\n",
              "0             5.1          3.5           1.4          0.2     Iris-setosa\n",
              "1             4.9          3.0           1.4          0.2     Iris-setosa\n",
              "2             4.7          3.2           1.3          0.2     Iris-setosa\n",
              "3             4.6          3.1           1.5          0.2     Iris-setosa\n",
              "4             5.0          3.6           1.4          0.2     Iris-setosa\n",
              "..            ...          ...           ...          ...             ...\n",
              "145           6.7          3.0           5.2          2.3  Iris-virginica\n",
              "146           6.3          2.5           5.0          1.9  Iris-virginica\n",
              "147           6.5          3.0           5.2          2.0  Iris-virginica\n",
              "148           6.2          3.4           5.4          2.3  Iris-virginica\n",
              "149           5.9          3.0           5.1          1.8  Iris-virginica\n",
              "\n",
              "[150 rows x 5 columns]"
            ]
          },
          "metadata": {},
          "execution_count": 1330
        }
      ]
    },
    {
      "cell_type": "code",
      "metadata": {
        "colab": {
          "base_uri": "https://localhost:8080/"
        },
        "id": "ct0cDBmiBuzK",
        "outputId": "b4582f02-d245-4675-8871-016806fc5472"
      },
      "source": [
        "data = data.values.tolist() # Converting the dataframe into a normal list\n",
        "print(data)"
      ],
      "execution_count": 1331,
      "outputs": [
        {
          "output_type": "stream",
          "name": "stdout",
          "text": [
            "[[5.1, 3.5, 1.4, 0.2, 'Iris-setosa'], [4.9, 3.0, 1.4, 0.2, 'Iris-setosa'], [4.7, 3.2, 1.3, 0.2, 'Iris-setosa'], [4.6, 3.1, 1.5, 0.2, 'Iris-setosa'], [5.0, 3.6, 1.4, 0.2, 'Iris-setosa'], [5.4, 3.9, 1.7, 0.4, 'Iris-setosa'], [4.6, 3.4, 1.4, 0.3, 'Iris-setosa'], [5.0, 3.4, 1.5, 0.2, 'Iris-setosa'], [4.4, 2.9, 1.4, 0.2, 'Iris-setosa'], [4.9, 3.1, 1.5, 0.1, 'Iris-setosa'], [5.4, 3.7, 1.5, 0.2, 'Iris-setosa'], [4.8, 3.4, 1.6, 0.2, 'Iris-setosa'], [4.8, 3.0, 1.4, 0.1, 'Iris-setosa'], [4.3, 3.0, 1.1, 0.1, 'Iris-setosa'], [5.8, 4.0, 1.2, 0.2, 'Iris-setosa'], [5.7, 4.4, 1.5, 0.4, 'Iris-setosa'], [5.4, 3.9, 1.3, 0.4, 'Iris-setosa'], [5.1, 3.5, 1.4, 0.3, 'Iris-setosa'], [5.7, 3.8, 1.7, 0.3, 'Iris-setosa'], [5.1, 3.8, 1.5, 0.3, 'Iris-setosa'], [5.4, 3.4, 1.7, 0.2, 'Iris-setosa'], [5.1, 3.7, 1.5, 0.4, 'Iris-setosa'], [4.6, 3.6, 1.0, 0.2, 'Iris-setosa'], [5.1, 3.3, 1.7, 0.5, 'Iris-setosa'], [4.8, 3.4, 1.9, 0.2, 'Iris-setosa'], [5.0, 3.0, 1.6, 0.2, 'Iris-setosa'], [5.0, 3.4, 1.6, 0.4, 'Iris-setosa'], [5.2, 3.5, 1.5, 0.2, 'Iris-setosa'], [5.2, 3.4, 1.4, 0.2, 'Iris-setosa'], [4.7, 3.2, 1.6, 0.2, 'Iris-setosa'], [4.8, 3.1, 1.6, 0.2, 'Iris-setosa'], [5.4, 3.4, 1.5, 0.4, 'Iris-setosa'], [5.2, 4.1, 1.5, 0.1, 'Iris-setosa'], [5.5, 4.2, 1.4, 0.2, 'Iris-setosa'], [4.9, 3.1, 1.5, 0.1, 'Iris-setosa'], [5.0, 3.2, 1.2, 0.2, 'Iris-setosa'], [5.5, 3.5, 1.3, 0.2, 'Iris-setosa'], [4.9, 3.1, 1.5, 0.1, 'Iris-setosa'], [4.4, 3.0, 1.3, 0.2, 'Iris-setosa'], [5.1, 3.4, 1.5, 0.2, 'Iris-setosa'], [5.0, 3.5, 1.3, 0.3, 'Iris-setosa'], [4.5, 2.3, 1.3, 0.3, 'Iris-setosa'], [4.4, 3.2, 1.3, 0.2, 'Iris-setosa'], [5.0, 3.5, 1.6, 0.6, 'Iris-setosa'], [5.1, 3.8, 1.9, 0.4, 'Iris-setosa'], [4.8, 3.0, 1.4, 0.3, 'Iris-setosa'], [5.1, 3.8, 1.6, 0.2, 'Iris-setosa'], [4.6, 3.2, 1.4, 0.2, 'Iris-setosa'], [5.3, 3.7, 1.5, 0.2, 'Iris-setosa'], [5.0, 3.3, 1.4, 0.2, 'Iris-setosa'], [7.0, 3.2, 4.7, 1.4, 'Iris-versicolor'], [6.4, 3.2, 4.5, 1.5, 'Iris-versicolor'], [6.9, 3.1, 4.9, 1.5, 'Iris-versicolor'], [5.5, 2.3, 4.0, 1.3, 'Iris-versicolor'], [6.5, 2.8, 4.6, 1.5, 'Iris-versicolor'], [5.7, 2.8, 4.5, 1.3, 'Iris-versicolor'], [6.3, 3.3, 4.7, 1.6, 'Iris-versicolor'], [4.9, 2.4, 3.3, 1.0, 'Iris-versicolor'], [6.6, 2.9, 4.6, 1.3, 'Iris-versicolor'], [5.2, 2.7, 3.9, 1.4, 'Iris-versicolor'], [5.0, 2.0, 3.5, 1.0, 'Iris-versicolor'], [5.9, 3.0, 4.2, 1.5, 'Iris-versicolor'], [6.0, 2.2, 4.0, 1.0, 'Iris-versicolor'], [6.1, 2.9, 4.7, 1.4, 'Iris-versicolor'], [5.6, 2.9, 3.6, 1.3, 'Iris-versicolor'], [6.7, 3.1, 4.4, 1.4, 'Iris-versicolor'], [5.6, 3.0, 4.5, 1.5, 'Iris-versicolor'], [5.8, 2.7, 4.1, 1.0, 'Iris-versicolor'], [6.2, 2.2, 4.5, 1.5, 'Iris-versicolor'], [5.6, 2.5, 3.9, 1.1, 'Iris-versicolor'], [5.9, 3.2, 4.8, 1.8, 'Iris-versicolor'], [6.1, 2.8, 4.0, 1.3, 'Iris-versicolor'], [6.3, 2.5, 4.9, 1.5, 'Iris-versicolor'], [6.1, 2.8, 4.7, 1.2, 'Iris-versicolor'], [6.4, 2.9, 4.3, 1.3, 'Iris-versicolor'], [6.6, 3.0, 4.4, 1.4, 'Iris-versicolor'], [6.8, 2.8, 4.8, 1.4, 'Iris-versicolor'], [6.7, 3.0, 5.0, 1.7, 'Iris-versicolor'], [6.0, 2.9, 4.5, 1.5, 'Iris-versicolor'], [5.7, 2.6, 3.5, 1.0, 'Iris-versicolor'], [5.5, 2.4, 3.8, 1.1, 'Iris-versicolor'], [5.5, 2.4, 3.7, 1.0, 'Iris-versicolor'], [5.8, 2.7, 3.9, 1.2, 'Iris-versicolor'], [6.0, 2.7, 5.1, 1.6, 'Iris-versicolor'], [5.4, 3.0, 4.5, 1.5, 'Iris-versicolor'], [6.0, 3.4, 4.5, 1.6, 'Iris-versicolor'], [6.7, 3.1, 4.7, 1.5, 'Iris-versicolor'], [6.3, 2.3, 4.4, 1.3, 'Iris-versicolor'], [5.6, 3.0, 4.1, 1.3, 'Iris-versicolor'], [5.5, 2.5, 4.0, 1.3, 'Iris-versicolor'], [5.5, 2.6, 4.4, 1.2, 'Iris-versicolor'], [6.1, 3.0, 4.6, 1.4, 'Iris-versicolor'], [5.8, 2.6, 4.0, 1.2, 'Iris-versicolor'], [5.0, 2.3, 3.3, 1.0, 'Iris-versicolor'], [5.6, 2.7, 4.2, 1.3, 'Iris-versicolor'], [5.7, 3.0, 4.2, 1.2, 'Iris-versicolor'], [5.7, 2.9, 4.2, 1.3, 'Iris-versicolor'], [6.2, 2.9, 4.3, 1.3, 'Iris-versicolor'], [5.1, 2.5, 3.0, 1.1, 'Iris-versicolor'], [5.7, 2.8, 4.1, 1.3, 'Iris-versicolor'], [6.3, 3.3, 6.0, 2.5, 'Iris-virginica'], [5.8, 2.7, 5.1, 1.9, 'Iris-virginica'], [7.1, 3.0, 5.9, 2.1, 'Iris-virginica'], [6.3, 2.9, 5.6, 1.8, 'Iris-virginica'], [6.5, 3.0, 5.8, 2.2, 'Iris-virginica'], [7.6, 3.0, 6.6, 2.1, 'Iris-virginica'], [4.9, 2.5, 4.5, 1.7, 'Iris-virginica'], [7.3, 2.9, 6.3, 1.8, 'Iris-virginica'], [6.7, 2.5, 5.8, 1.8, 'Iris-virginica'], [7.2, 3.6, 6.1, 2.5, 'Iris-virginica'], [6.5, 3.2, 5.1, 2.0, 'Iris-virginica'], [6.4, 2.7, 5.3, 1.9, 'Iris-virginica'], [6.8, 3.0, 5.5, 2.1, 'Iris-virginica'], [5.7, 2.5, 5.0, 2.0, 'Iris-virginica'], [5.8, 2.8, 5.1, 2.4, 'Iris-virginica'], [6.4, 3.2, 5.3, 2.3, 'Iris-virginica'], [6.5, 3.0, 5.5, 1.8, 'Iris-virginica'], [7.7, 3.8, 6.7, 2.2, 'Iris-virginica'], [7.7, 2.6, 6.9, 2.3, 'Iris-virginica'], [6.0, 2.2, 5.0, 1.5, 'Iris-virginica'], [6.9, 3.2, 5.7, 2.3, 'Iris-virginica'], [5.6, 2.8, 4.9, 2.0, 'Iris-virginica'], [7.7, 2.8, 6.7, 2.0, 'Iris-virginica'], [6.3, 2.7, 4.9, 1.8, 'Iris-virginica'], [6.7, 3.3, 5.7, 2.1, 'Iris-virginica'], [7.2, 3.2, 6.0, 1.8, 'Iris-virginica'], [6.2, 2.8, 4.8, 1.8, 'Iris-virginica'], [6.1, 3.0, 4.9, 1.8, 'Iris-virginica'], [6.4, 2.8, 5.6, 2.1, 'Iris-virginica'], [7.2, 3.0, 5.8, 1.6, 'Iris-virginica'], [7.4, 2.8, 6.1, 1.9, 'Iris-virginica'], [7.9, 3.8, 6.4, 2.0, 'Iris-virginica'], [6.4, 2.8, 5.6, 2.2, 'Iris-virginica'], [6.3, 2.8, 5.1, 1.5, 'Iris-virginica'], [6.1, 2.6, 5.6, 1.4, 'Iris-virginica'], [7.7, 3.0, 6.1, 2.3, 'Iris-virginica'], [6.3, 3.4, 5.6, 2.4, 'Iris-virginica'], [6.4, 3.1, 5.5, 1.8, 'Iris-virginica'], [6.0, 3.0, 4.8, 1.8, 'Iris-virginica'], [6.9, 3.1, 5.4, 2.1, 'Iris-virginica'], [6.7, 3.1, 5.6, 2.4, 'Iris-virginica'], [6.9, 3.1, 5.1, 2.3, 'Iris-virginica'], [5.8, 2.7, 5.1, 1.9, 'Iris-virginica'], [6.8, 3.2, 5.9, 2.3, 'Iris-virginica'], [6.7, 3.3, 5.7, 2.5, 'Iris-virginica'], [6.7, 3.0, 5.2, 2.3, 'Iris-virginica'], [6.3, 2.5, 5.0, 1.9, 'Iris-virginica'], [6.5, 3.0, 5.2, 2.0, 'Iris-virginica'], [6.2, 3.4, 5.4, 2.3, 'Iris-virginica'], [5.9, 3.0, 5.1, 1.8, 'Iris-virginica']]\n"
          ]
        }
      ]
    },
    {
      "cell_type": "code",
      "metadata": {
        "id": "6wFyUIu5bpo5"
      },
      "source": [
        "def LogisticRegressionSquaredError(alpha, model, data, iter): #defining logistic regression with squared error\n",
        "  X = [x for (x,r) in data]\n",
        "  R = [r for (x,r) in data]\n",
        "  dim = len(X[0]) \n",
        "  N = len(X) \n",
        "  for i in range(iter):\n",
        "    dW = [0]*dim\n",
        "    for j in range(N): \n",
        "      yPredicted = sigmoid(F(model, X[j])) \n",
        "      for k in range(dim): \n",
        "        dW[k] += -2 * (R[j] - yPredicted)*(yPredicted)*(1 - yPredicted)*X[j][k] \n",
        "    for k in range(dim): \n",
        "      model[k] = model[k] - (1/N)*alpha*dW[k] \n",
        "  return model"
      ],
      "execution_count": 1332,
      "outputs": []
    },
    {
      "cell_type": "code",
      "metadata": {
        "id": "bn4-Yn30DRlK"
      },
      "source": [
        "def LogisticRegressionCrossEntropy(alpha, model, data, iter): #defining logistic regression with cross entropy\n",
        "  X = [x for (x,r) in data]\n",
        "  R = [r for (x,r) in data]\n",
        "  dim = len(X[0]) \n",
        "  N = len(X) \n",
        "  for i in range(iter):\n",
        "    dW = [0]*dim\n",
        "    for j in range(N): \n",
        "      yPredicted = sigmoid(F(model, X[j])) \n",
        "      for k in range(dim): \n",
        "        dW[k] += -1 * (R[j] - yPredicted)*X[j][k] # derivation of logistic function\n",
        "    for k in range(dim): \n",
        "      model[k] = model[k] - (1/N)*alpha*dW[k] \n",
        "  return model"
      ],
      "execution_count": 1333,
      "outputs": []
    },
    {
      "cell_type": "code",
      "metadata": {
        "id": "xQIjPIx7sLtU"
      },
      "source": [
        "alpha = 0.01\n",
        "model = [0.001, 0.001, 0.001, 0.001, 0.001] # Initial model SE\n",
        "model = [0.001, 0.001, 0.001, 0.001, 0.001] # Initial model CE"
      ],
      "execution_count": 1334,
      "outputs": []
    },
    {
      "cell_type": "code",
      "metadata": {
        "colab": {
          "base_uri": "https://localhost:8080/"
        },
        "id": "VSPF258uHZ9I",
        "outputId": "5fbba385-4457-4286-a6c6-4cefc61bc196"
      },
      "source": [
        "datasetosa = [((1,x1,x2,x3,x4), Class) for (x1,x2,x3,x4,Class) in data]\n",
        "datasetosa = [(x,1) if Class == 'Iris-setosa' else (x,0) for (x,Class) in datasetosa] # set setosa to 1 anything else to 0\n",
        "print(dataSetosa)"
      ],
      "execution_count": 1335,
      "outputs": [
        {
          "output_type": "stream",
          "name": "stdout",
          "text": [
            "[((1, 5.1, 3.5, 1.4, 0.2), 1), ((1, 4.9, 3.0, 1.4, 0.2), 1), ((1, 4.7, 3.2, 1.3, 0.2), 1), ((1, 4.6, 3.1, 1.5, 0.2), 1), ((1, 5.0, 3.6, 1.4, 0.2), 1), ((1, 5.4, 3.9, 1.7, 0.4), 1), ((1, 4.6, 3.4, 1.4, 0.3), 1), ((1, 5.0, 3.4, 1.5, 0.2), 1), ((1, 4.4, 2.9, 1.4, 0.2), 1), ((1, 4.9, 3.1, 1.5, 0.1), 1), ((1, 5.4, 3.7, 1.5, 0.2), 1), ((1, 4.8, 3.4, 1.6, 0.2), 1), ((1, 4.8, 3.0, 1.4, 0.1), 1), ((1, 4.3, 3.0, 1.1, 0.1), 1), ((1, 5.8, 4.0, 1.2, 0.2), 1), ((1, 5.7, 4.4, 1.5, 0.4), 1), ((1, 5.4, 3.9, 1.3, 0.4), 1), ((1, 5.1, 3.5, 1.4, 0.3), 1), ((1, 5.7, 3.8, 1.7, 0.3), 1), ((1, 5.1, 3.8, 1.5, 0.3), 1), ((1, 5.4, 3.4, 1.7, 0.2), 1), ((1, 5.1, 3.7, 1.5, 0.4), 1), ((1, 4.6, 3.6, 1.0, 0.2), 1), ((1, 5.1, 3.3, 1.7, 0.5), 1), ((1, 4.8, 3.4, 1.9, 0.2), 1), ((1, 5.0, 3.0, 1.6, 0.2), 1), ((1, 5.0, 3.4, 1.6, 0.4), 1), ((1, 5.2, 3.5, 1.5, 0.2), 1), ((1, 5.2, 3.4, 1.4, 0.2), 1), ((1, 4.7, 3.2, 1.6, 0.2), 1), ((1, 4.8, 3.1, 1.6, 0.2), 1), ((1, 5.4, 3.4, 1.5, 0.4), 1), ((1, 5.2, 4.1, 1.5, 0.1), 1), ((1, 5.5, 4.2, 1.4, 0.2), 1), ((1, 4.9, 3.1, 1.5, 0.1), 1), ((1, 5.0, 3.2, 1.2, 0.2), 1), ((1, 5.5, 3.5, 1.3, 0.2), 1), ((1, 4.9, 3.1, 1.5, 0.1), 1), ((1, 4.4, 3.0, 1.3, 0.2), 1), ((1, 5.1, 3.4, 1.5, 0.2), 1), ((1, 5.0, 3.5, 1.3, 0.3), 1), ((1, 4.5, 2.3, 1.3, 0.3), 1), ((1, 4.4, 3.2, 1.3, 0.2), 1), ((1, 5.0, 3.5, 1.6, 0.6), 1), ((1, 5.1, 3.8, 1.9, 0.4), 1), ((1, 4.8, 3.0, 1.4, 0.3), 1), ((1, 5.1, 3.8, 1.6, 0.2), 1), ((1, 4.6, 3.2, 1.4, 0.2), 1), ((1, 5.3, 3.7, 1.5, 0.2), 1), ((1, 5.0, 3.3, 1.4, 0.2), 1), ((1, 7.0, 3.2, 4.7, 1.4), 0), ((1, 6.4, 3.2, 4.5, 1.5), 0), ((1, 6.9, 3.1, 4.9, 1.5), 0), ((1, 5.5, 2.3, 4.0, 1.3), 0), ((1, 6.5, 2.8, 4.6, 1.5), 0), ((1, 5.7, 2.8, 4.5, 1.3), 0), ((1, 6.3, 3.3, 4.7, 1.6), 0), ((1, 4.9, 2.4, 3.3, 1.0), 0), ((1, 6.6, 2.9, 4.6, 1.3), 0), ((1, 5.2, 2.7, 3.9, 1.4), 0), ((1, 5.0, 2.0, 3.5, 1.0), 0), ((1, 5.9, 3.0, 4.2, 1.5), 0), ((1, 6.0, 2.2, 4.0, 1.0), 0), ((1, 6.1, 2.9, 4.7, 1.4), 0), ((1, 5.6, 2.9, 3.6, 1.3), 0), ((1, 6.7, 3.1, 4.4, 1.4), 0), ((1, 5.6, 3.0, 4.5, 1.5), 0), ((1, 5.8, 2.7, 4.1, 1.0), 0), ((1, 6.2, 2.2, 4.5, 1.5), 0), ((1, 5.6, 2.5, 3.9, 1.1), 0), ((1, 5.9, 3.2, 4.8, 1.8), 0), ((1, 6.1, 2.8, 4.0, 1.3), 0), ((1, 6.3, 2.5, 4.9, 1.5), 0), ((1, 6.1, 2.8, 4.7, 1.2), 0), ((1, 6.4, 2.9, 4.3, 1.3), 0), ((1, 6.6, 3.0, 4.4, 1.4), 0), ((1, 6.8, 2.8, 4.8, 1.4), 0), ((1, 6.7, 3.0, 5.0, 1.7), 0), ((1, 6.0, 2.9, 4.5, 1.5), 0), ((1, 5.7, 2.6, 3.5, 1.0), 0), ((1, 5.5, 2.4, 3.8, 1.1), 0), ((1, 5.5, 2.4, 3.7, 1.0), 0), ((1, 5.8, 2.7, 3.9, 1.2), 0), ((1, 6.0, 2.7, 5.1, 1.6), 0), ((1, 5.4, 3.0, 4.5, 1.5), 0), ((1, 6.0, 3.4, 4.5, 1.6), 0), ((1, 6.7, 3.1, 4.7, 1.5), 0), ((1, 6.3, 2.3, 4.4, 1.3), 0), ((1, 5.6, 3.0, 4.1, 1.3), 0), ((1, 5.5, 2.5, 4.0, 1.3), 0), ((1, 5.5, 2.6, 4.4, 1.2), 0), ((1, 6.1, 3.0, 4.6, 1.4), 0), ((1, 5.8, 2.6, 4.0, 1.2), 0), ((1, 5.0, 2.3, 3.3, 1.0), 0), ((1, 5.6, 2.7, 4.2, 1.3), 0), ((1, 5.7, 3.0, 4.2, 1.2), 0), ((1, 5.7, 2.9, 4.2, 1.3), 0), ((1, 6.2, 2.9, 4.3, 1.3), 0), ((1, 5.1, 2.5, 3.0, 1.1), 0), ((1, 5.7, 2.8, 4.1, 1.3), 0), ((1, 6.3, 3.3, 6.0, 2.5), 0), ((1, 5.8, 2.7, 5.1, 1.9), 0), ((1, 7.1, 3.0, 5.9, 2.1), 0), ((1, 6.3, 2.9, 5.6, 1.8), 0), ((1, 6.5, 3.0, 5.8, 2.2), 0), ((1, 7.6, 3.0, 6.6, 2.1), 0), ((1, 4.9, 2.5, 4.5, 1.7), 0), ((1, 7.3, 2.9, 6.3, 1.8), 0), ((1, 6.7, 2.5, 5.8, 1.8), 0), ((1, 7.2, 3.6, 6.1, 2.5), 0), ((1, 6.5, 3.2, 5.1, 2.0), 0), ((1, 6.4, 2.7, 5.3, 1.9), 0), ((1, 6.8, 3.0, 5.5, 2.1), 0), ((1, 5.7, 2.5, 5.0, 2.0), 0), ((1, 5.8, 2.8, 5.1, 2.4), 0), ((1, 6.4, 3.2, 5.3, 2.3), 0), ((1, 6.5, 3.0, 5.5, 1.8), 0), ((1, 7.7, 3.8, 6.7, 2.2), 0), ((1, 7.7, 2.6, 6.9, 2.3), 0), ((1, 6.0, 2.2, 5.0, 1.5), 0), ((1, 6.9, 3.2, 5.7, 2.3), 0), ((1, 5.6, 2.8, 4.9, 2.0), 0), ((1, 7.7, 2.8, 6.7, 2.0), 0), ((1, 6.3, 2.7, 4.9, 1.8), 0), ((1, 6.7, 3.3, 5.7, 2.1), 0), ((1, 7.2, 3.2, 6.0, 1.8), 0), ((1, 6.2, 2.8, 4.8, 1.8), 0), ((1, 6.1, 3.0, 4.9, 1.8), 0), ((1, 6.4, 2.8, 5.6, 2.1), 0), ((1, 7.2, 3.0, 5.8, 1.6), 0), ((1, 7.4, 2.8, 6.1, 1.9), 0), ((1, 7.9, 3.8, 6.4, 2.0), 0), ((1, 6.4, 2.8, 5.6, 2.2), 0), ((1, 6.3, 2.8, 5.1, 1.5), 0), ((1, 6.1, 2.6, 5.6, 1.4), 0), ((1, 7.7, 3.0, 6.1, 2.3), 0), ((1, 6.3, 3.4, 5.6, 2.4), 0), ((1, 6.4, 3.1, 5.5, 1.8), 0), ((1, 6.0, 3.0, 4.8, 1.8), 0), ((1, 6.9, 3.1, 5.4, 2.1), 0), ((1, 6.7, 3.1, 5.6, 2.4), 0), ((1, 6.9, 3.1, 5.1, 2.3), 0), ((1, 5.8, 2.7, 5.1, 1.9), 0), ((1, 6.8, 3.2, 5.9, 2.3), 0), ((1, 6.7, 3.3, 5.7, 2.5), 0), ((1, 6.7, 3.0, 5.2, 2.3), 0), ((1, 6.3, 2.5, 5.0, 1.9), 0), ((1, 6.5, 3.0, 5.2, 2.0), 0), ((1, 6.2, 3.4, 5.4, 2.3), 0), ((1, 5.9, 3.0, 5.1, 1.8), 0)]\n"
          ]
        }
      ]
    },
    {
      "cell_type": "code",
      "metadata": {
        "colab": {
          "base_uri": "https://localhost:8080/"
        },
        "id": "mo_93n0YzaV5",
        "outputId": "ada81091-c676-4cc6-8456-19946edea0c9"
      },
      "source": [
        "dataversicolor = [((1,x1,x2,x3,x4), Class) for (x1,x2,x3,x4,Class) in data]\n",
        "dataversicolor = [(x,1) if Class == 'Iris-versicolor' else (x,0) for (x,Class) in dataversicolor] # set versicolor to 1 anything else to 0\n",
        "print(dataversicolor)"
      ],
      "execution_count": 1336,
      "outputs": [
        {
          "output_type": "stream",
          "name": "stdout",
          "text": [
            "[((1, 5.1, 3.5, 1.4, 0.2), 0), ((1, 4.9, 3.0, 1.4, 0.2), 0), ((1, 4.7, 3.2, 1.3, 0.2), 0), ((1, 4.6, 3.1, 1.5, 0.2), 0), ((1, 5.0, 3.6, 1.4, 0.2), 0), ((1, 5.4, 3.9, 1.7, 0.4), 0), ((1, 4.6, 3.4, 1.4, 0.3), 0), ((1, 5.0, 3.4, 1.5, 0.2), 0), ((1, 4.4, 2.9, 1.4, 0.2), 0), ((1, 4.9, 3.1, 1.5, 0.1), 0), ((1, 5.4, 3.7, 1.5, 0.2), 0), ((1, 4.8, 3.4, 1.6, 0.2), 0), ((1, 4.8, 3.0, 1.4, 0.1), 0), ((1, 4.3, 3.0, 1.1, 0.1), 0), ((1, 5.8, 4.0, 1.2, 0.2), 0), ((1, 5.7, 4.4, 1.5, 0.4), 0), ((1, 5.4, 3.9, 1.3, 0.4), 0), ((1, 5.1, 3.5, 1.4, 0.3), 0), ((1, 5.7, 3.8, 1.7, 0.3), 0), ((1, 5.1, 3.8, 1.5, 0.3), 0), ((1, 5.4, 3.4, 1.7, 0.2), 0), ((1, 5.1, 3.7, 1.5, 0.4), 0), ((1, 4.6, 3.6, 1.0, 0.2), 0), ((1, 5.1, 3.3, 1.7, 0.5), 0), ((1, 4.8, 3.4, 1.9, 0.2), 0), ((1, 5.0, 3.0, 1.6, 0.2), 0), ((1, 5.0, 3.4, 1.6, 0.4), 0), ((1, 5.2, 3.5, 1.5, 0.2), 0), ((1, 5.2, 3.4, 1.4, 0.2), 0), ((1, 4.7, 3.2, 1.6, 0.2), 0), ((1, 4.8, 3.1, 1.6, 0.2), 0), ((1, 5.4, 3.4, 1.5, 0.4), 0), ((1, 5.2, 4.1, 1.5, 0.1), 0), ((1, 5.5, 4.2, 1.4, 0.2), 0), ((1, 4.9, 3.1, 1.5, 0.1), 0), ((1, 5.0, 3.2, 1.2, 0.2), 0), ((1, 5.5, 3.5, 1.3, 0.2), 0), ((1, 4.9, 3.1, 1.5, 0.1), 0), ((1, 4.4, 3.0, 1.3, 0.2), 0), ((1, 5.1, 3.4, 1.5, 0.2), 0), ((1, 5.0, 3.5, 1.3, 0.3), 0), ((1, 4.5, 2.3, 1.3, 0.3), 0), ((1, 4.4, 3.2, 1.3, 0.2), 0), ((1, 5.0, 3.5, 1.6, 0.6), 0), ((1, 5.1, 3.8, 1.9, 0.4), 0), ((1, 4.8, 3.0, 1.4, 0.3), 0), ((1, 5.1, 3.8, 1.6, 0.2), 0), ((1, 4.6, 3.2, 1.4, 0.2), 0), ((1, 5.3, 3.7, 1.5, 0.2), 0), ((1, 5.0, 3.3, 1.4, 0.2), 0), ((1, 7.0, 3.2, 4.7, 1.4), 1), ((1, 6.4, 3.2, 4.5, 1.5), 1), ((1, 6.9, 3.1, 4.9, 1.5), 1), ((1, 5.5, 2.3, 4.0, 1.3), 1), ((1, 6.5, 2.8, 4.6, 1.5), 1), ((1, 5.7, 2.8, 4.5, 1.3), 1), ((1, 6.3, 3.3, 4.7, 1.6), 1), ((1, 4.9, 2.4, 3.3, 1.0), 1), ((1, 6.6, 2.9, 4.6, 1.3), 1), ((1, 5.2, 2.7, 3.9, 1.4), 1), ((1, 5.0, 2.0, 3.5, 1.0), 1), ((1, 5.9, 3.0, 4.2, 1.5), 1), ((1, 6.0, 2.2, 4.0, 1.0), 1), ((1, 6.1, 2.9, 4.7, 1.4), 1), ((1, 5.6, 2.9, 3.6, 1.3), 1), ((1, 6.7, 3.1, 4.4, 1.4), 1), ((1, 5.6, 3.0, 4.5, 1.5), 1), ((1, 5.8, 2.7, 4.1, 1.0), 1), ((1, 6.2, 2.2, 4.5, 1.5), 1), ((1, 5.6, 2.5, 3.9, 1.1), 1), ((1, 5.9, 3.2, 4.8, 1.8), 1), ((1, 6.1, 2.8, 4.0, 1.3), 1), ((1, 6.3, 2.5, 4.9, 1.5), 1), ((1, 6.1, 2.8, 4.7, 1.2), 1), ((1, 6.4, 2.9, 4.3, 1.3), 1), ((1, 6.6, 3.0, 4.4, 1.4), 1), ((1, 6.8, 2.8, 4.8, 1.4), 1), ((1, 6.7, 3.0, 5.0, 1.7), 1), ((1, 6.0, 2.9, 4.5, 1.5), 1), ((1, 5.7, 2.6, 3.5, 1.0), 1), ((1, 5.5, 2.4, 3.8, 1.1), 1), ((1, 5.5, 2.4, 3.7, 1.0), 1), ((1, 5.8, 2.7, 3.9, 1.2), 1), ((1, 6.0, 2.7, 5.1, 1.6), 1), ((1, 5.4, 3.0, 4.5, 1.5), 1), ((1, 6.0, 3.4, 4.5, 1.6), 1), ((1, 6.7, 3.1, 4.7, 1.5), 1), ((1, 6.3, 2.3, 4.4, 1.3), 1), ((1, 5.6, 3.0, 4.1, 1.3), 1), ((1, 5.5, 2.5, 4.0, 1.3), 1), ((1, 5.5, 2.6, 4.4, 1.2), 1), ((1, 6.1, 3.0, 4.6, 1.4), 1), ((1, 5.8, 2.6, 4.0, 1.2), 1), ((1, 5.0, 2.3, 3.3, 1.0), 1), ((1, 5.6, 2.7, 4.2, 1.3), 1), ((1, 5.7, 3.0, 4.2, 1.2), 1), ((1, 5.7, 2.9, 4.2, 1.3), 1), ((1, 6.2, 2.9, 4.3, 1.3), 1), ((1, 5.1, 2.5, 3.0, 1.1), 1), ((1, 5.7, 2.8, 4.1, 1.3), 1), ((1, 6.3, 3.3, 6.0, 2.5), 0), ((1, 5.8, 2.7, 5.1, 1.9), 0), ((1, 7.1, 3.0, 5.9, 2.1), 0), ((1, 6.3, 2.9, 5.6, 1.8), 0), ((1, 6.5, 3.0, 5.8, 2.2), 0), ((1, 7.6, 3.0, 6.6, 2.1), 0), ((1, 4.9, 2.5, 4.5, 1.7), 0), ((1, 7.3, 2.9, 6.3, 1.8), 0), ((1, 6.7, 2.5, 5.8, 1.8), 0), ((1, 7.2, 3.6, 6.1, 2.5), 0), ((1, 6.5, 3.2, 5.1, 2.0), 0), ((1, 6.4, 2.7, 5.3, 1.9), 0), ((1, 6.8, 3.0, 5.5, 2.1), 0), ((1, 5.7, 2.5, 5.0, 2.0), 0), ((1, 5.8, 2.8, 5.1, 2.4), 0), ((1, 6.4, 3.2, 5.3, 2.3), 0), ((1, 6.5, 3.0, 5.5, 1.8), 0), ((1, 7.7, 3.8, 6.7, 2.2), 0), ((1, 7.7, 2.6, 6.9, 2.3), 0), ((1, 6.0, 2.2, 5.0, 1.5), 0), ((1, 6.9, 3.2, 5.7, 2.3), 0), ((1, 5.6, 2.8, 4.9, 2.0), 0), ((1, 7.7, 2.8, 6.7, 2.0), 0), ((1, 6.3, 2.7, 4.9, 1.8), 0), ((1, 6.7, 3.3, 5.7, 2.1), 0), ((1, 7.2, 3.2, 6.0, 1.8), 0), ((1, 6.2, 2.8, 4.8, 1.8), 0), ((1, 6.1, 3.0, 4.9, 1.8), 0), ((1, 6.4, 2.8, 5.6, 2.1), 0), ((1, 7.2, 3.0, 5.8, 1.6), 0), ((1, 7.4, 2.8, 6.1, 1.9), 0), ((1, 7.9, 3.8, 6.4, 2.0), 0), ((1, 6.4, 2.8, 5.6, 2.2), 0), ((1, 6.3, 2.8, 5.1, 1.5), 0), ((1, 6.1, 2.6, 5.6, 1.4), 0), ((1, 7.7, 3.0, 6.1, 2.3), 0), ((1, 6.3, 3.4, 5.6, 2.4), 0), ((1, 6.4, 3.1, 5.5, 1.8), 0), ((1, 6.0, 3.0, 4.8, 1.8), 0), ((1, 6.9, 3.1, 5.4, 2.1), 0), ((1, 6.7, 3.1, 5.6, 2.4), 0), ((1, 6.9, 3.1, 5.1, 2.3), 0), ((1, 5.8, 2.7, 5.1, 1.9), 0), ((1, 6.8, 3.2, 5.9, 2.3), 0), ((1, 6.7, 3.3, 5.7, 2.5), 0), ((1, 6.7, 3.0, 5.2, 2.3), 0), ((1, 6.3, 2.5, 5.0, 1.9), 0), ((1, 6.5, 3.0, 5.2, 2.0), 0), ((1, 6.2, 3.4, 5.4, 2.3), 0), ((1, 5.9, 3.0, 5.1, 1.8), 0)]\n"
          ]
        }
      ]
    },
    {
      "cell_type": "code",
      "metadata": {
        "colab": {
          "base_uri": "https://localhost:8080/"
        },
        "id": "lxvIzEKazcLO",
        "outputId": "cd5f694b-c8c4-4c91-bcf6-55b89b9ca47d"
      },
      "source": [
        "dataVirginica = [((1,x1,x2,x3,x4), species) for (x1,x2,x3,x4,species) in data]\n",
        "dataVirginica = [(x,1) if species == 'Iris-virginica' else (x,0) for (x,species) in dataVirginica] # set virginica to 1 anything else to 0\n",
        "print(dataVirginica)"
      ],
      "execution_count": 1337,
      "outputs": [
        {
          "output_type": "stream",
          "name": "stdout",
          "text": [
            "[((1, 5.1, 3.5, 1.4, 0.2), 0), ((1, 4.9, 3.0, 1.4, 0.2), 0), ((1, 4.7, 3.2, 1.3, 0.2), 0), ((1, 4.6, 3.1, 1.5, 0.2), 0), ((1, 5.0, 3.6, 1.4, 0.2), 0), ((1, 5.4, 3.9, 1.7, 0.4), 0), ((1, 4.6, 3.4, 1.4, 0.3), 0), ((1, 5.0, 3.4, 1.5, 0.2), 0), ((1, 4.4, 2.9, 1.4, 0.2), 0), ((1, 4.9, 3.1, 1.5, 0.1), 0), ((1, 5.4, 3.7, 1.5, 0.2), 0), ((1, 4.8, 3.4, 1.6, 0.2), 0), ((1, 4.8, 3.0, 1.4, 0.1), 0), ((1, 4.3, 3.0, 1.1, 0.1), 0), ((1, 5.8, 4.0, 1.2, 0.2), 0), ((1, 5.7, 4.4, 1.5, 0.4), 0), ((1, 5.4, 3.9, 1.3, 0.4), 0), ((1, 5.1, 3.5, 1.4, 0.3), 0), ((1, 5.7, 3.8, 1.7, 0.3), 0), ((1, 5.1, 3.8, 1.5, 0.3), 0), ((1, 5.4, 3.4, 1.7, 0.2), 0), ((1, 5.1, 3.7, 1.5, 0.4), 0), ((1, 4.6, 3.6, 1.0, 0.2), 0), ((1, 5.1, 3.3, 1.7, 0.5), 0), ((1, 4.8, 3.4, 1.9, 0.2), 0), ((1, 5.0, 3.0, 1.6, 0.2), 0), ((1, 5.0, 3.4, 1.6, 0.4), 0), ((1, 5.2, 3.5, 1.5, 0.2), 0), ((1, 5.2, 3.4, 1.4, 0.2), 0), ((1, 4.7, 3.2, 1.6, 0.2), 0), ((1, 4.8, 3.1, 1.6, 0.2), 0), ((1, 5.4, 3.4, 1.5, 0.4), 0), ((1, 5.2, 4.1, 1.5, 0.1), 0), ((1, 5.5, 4.2, 1.4, 0.2), 0), ((1, 4.9, 3.1, 1.5, 0.1), 0), ((1, 5.0, 3.2, 1.2, 0.2), 0), ((1, 5.5, 3.5, 1.3, 0.2), 0), ((1, 4.9, 3.1, 1.5, 0.1), 0), ((1, 4.4, 3.0, 1.3, 0.2), 0), ((1, 5.1, 3.4, 1.5, 0.2), 0), ((1, 5.0, 3.5, 1.3, 0.3), 0), ((1, 4.5, 2.3, 1.3, 0.3), 0), ((1, 4.4, 3.2, 1.3, 0.2), 0), ((1, 5.0, 3.5, 1.6, 0.6), 0), ((1, 5.1, 3.8, 1.9, 0.4), 0), ((1, 4.8, 3.0, 1.4, 0.3), 0), ((1, 5.1, 3.8, 1.6, 0.2), 0), ((1, 4.6, 3.2, 1.4, 0.2), 0), ((1, 5.3, 3.7, 1.5, 0.2), 0), ((1, 5.0, 3.3, 1.4, 0.2), 0), ((1, 7.0, 3.2, 4.7, 1.4), 0), ((1, 6.4, 3.2, 4.5, 1.5), 0), ((1, 6.9, 3.1, 4.9, 1.5), 0), ((1, 5.5, 2.3, 4.0, 1.3), 0), ((1, 6.5, 2.8, 4.6, 1.5), 0), ((1, 5.7, 2.8, 4.5, 1.3), 0), ((1, 6.3, 3.3, 4.7, 1.6), 0), ((1, 4.9, 2.4, 3.3, 1.0), 0), ((1, 6.6, 2.9, 4.6, 1.3), 0), ((1, 5.2, 2.7, 3.9, 1.4), 0), ((1, 5.0, 2.0, 3.5, 1.0), 0), ((1, 5.9, 3.0, 4.2, 1.5), 0), ((1, 6.0, 2.2, 4.0, 1.0), 0), ((1, 6.1, 2.9, 4.7, 1.4), 0), ((1, 5.6, 2.9, 3.6, 1.3), 0), ((1, 6.7, 3.1, 4.4, 1.4), 0), ((1, 5.6, 3.0, 4.5, 1.5), 0), ((1, 5.8, 2.7, 4.1, 1.0), 0), ((1, 6.2, 2.2, 4.5, 1.5), 0), ((1, 5.6, 2.5, 3.9, 1.1), 0), ((1, 5.9, 3.2, 4.8, 1.8), 0), ((1, 6.1, 2.8, 4.0, 1.3), 0), ((1, 6.3, 2.5, 4.9, 1.5), 0), ((1, 6.1, 2.8, 4.7, 1.2), 0), ((1, 6.4, 2.9, 4.3, 1.3), 0), ((1, 6.6, 3.0, 4.4, 1.4), 0), ((1, 6.8, 2.8, 4.8, 1.4), 0), ((1, 6.7, 3.0, 5.0, 1.7), 0), ((1, 6.0, 2.9, 4.5, 1.5), 0), ((1, 5.7, 2.6, 3.5, 1.0), 0), ((1, 5.5, 2.4, 3.8, 1.1), 0), ((1, 5.5, 2.4, 3.7, 1.0), 0), ((1, 5.8, 2.7, 3.9, 1.2), 0), ((1, 6.0, 2.7, 5.1, 1.6), 0), ((1, 5.4, 3.0, 4.5, 1.5), 0), ((1, 6.0, 3.4, 4.5, 1.6), 0), ((1, 6.7, 3.1, 4.7, 1.5), 0), ((1, 6.3, 2.3, 4.4, 1.3), 0), ((1, 5.6, 3.0, 4.1, 1.3), 0), ((1, 5.5, 2.5, 4.0, 1.3), 0), ((1, 5.5, 2.6, 4.4, 1.2), 0), ((1, 6.1, 3.0, 4.6, 1.4), 0), ((1, 5.8, 2.6, 4.0, 1.2), 0), ((1, 5.0, 2.3, 3.3, 1.0), 0), ((1, 5.6, 2.7, 4.2, 1.3), 0), ((1, 5.7, 3.0, 4.2, 1.2), 0), ((1, 5.7, 2.9, 4.2, 1.3), 0), ((1, 6.2, 2.9, 4.3, 1.3), 0), ((1, 5.1, 2.5, 3.0, 1.1), 0), ((1, 5.7, 2.8, 4.1, 1.3), 0), ((1, 6.3, 3.3, 6.0, 2.5), 1), ((1, 5.8, 2.7, 5.1, 1.9), 1), ((1, 7.1, 3.0, 5.9, 2.1), 1), ((1, 6.3, 2.9, 5.6, 1.8), 1), ((1, 6.5, 3.0, 5.8, 2.2), 1), ((1, 7.6, 3.0, 6.6, 2.1), 1), ((1, 4.9, 2.5, 4.5, 1.7), 1), ((1, 7.3, 2.9, 6.3, 1.8), 1), ((1, 6.7, 2.5, 5.8, 1.8), 1), ((1, 7.2, 3.6, 6.1, 2.5), 1), ((1, 6.5, 3.2, 5.1, 2.0), 1), ((1, 6.4, 2.7, 5.3, 1.9), 1), ((1, 6.8, 3.0, 5.5, 2.1), 1), ((1, 5.7, 2.5, 5.0, 2.0), 1), ((1, 5.8, 2.8, 5.1, 2.4), 1), ((1, 6.4, 3.2, 5.3, 2.3), 1), ((1, 6.5, 3.0, 5.5, 1.8), 1), ((1, 7.7, 3.8, 6.7, 2.2), 1), ((1, 7.7, 2.6, 6.9, 2.3), 1), ((1, 6.0, 2.2, 5.0, 1.5), 1), ((1, 6.9, 3.2, 5.7, 2.3), 1), ((1, 5.6, 2.8, 4.9, 2.0), 1), ((1, 7.7, 2.8, 6.7, 2.0), 1), ((1, 6.3, 2.7, 4.9, 1.8), 1), ((1, 6.7, 3.3, 5.7, 2.1), 1), ((1, 7.2, 3.2, 6.0, 1.8), 1), ((1, 6.2, 2.8, 4.8, 1.8), 1), ((1, 6.1, 3.0, 4.9, 1.8), 1), ((1, 6.4, 2.8, 5.6, 2.1), 1), ((1, 7.2, 3.0, 5.8, 1.6), 1), ((1, 7.4, 2.8, 6.1, 1.9), 1), ((1, 7.9, 3.8, 6.4, 2.0), 1), ((1, 6.4, 2.8, 5.6, 2.2), 1), ((1, 6.3, 2.8, 5.1, 1.5), 1), ((1, 6.1, 2.6, 5.6, 1.4), 1), ((1, 7.7, 3.0, 6.1, 2.3), 1), ((1, 6.3, 3.4, 5.6, 2.4), 1), ((1, 6.4, 3.1, 5.5, 1.8), 1), ((1, 6.0, 3.0, 4.8, 1.8), 1), ((1, 6.9, 3.1, 5.4, 2.1), 1), ((1, 6.7, 3.1, 5.6, 2.4), 1), ((1, 6.9, 3.1, 5.1, 2.3), 1), ((1, 5.8, 2.7, 5.1, 1.9), 1), ((1, 6.8, 3.2, 5.9, 2.3), 1), ((1, 6.7, 3.3, 5.7, 2.5), 1), ((1, 6.7, 3.0, 5.2, 2.3), 1), ((1, 6.3, 2.5, 5.0, 1.9), 1), ((1, 6.5, 3.0, 5.2, 2.0), 1), ((1, 6.2, 3.4, 5.4, 2.3), 1), ((1, 5.9, 3.0, 5.1, 1.8), 1)]\n"
          ]
        }
      ]
    },
    {
      "cell_type": "markdown",
      "metadata": {
        "id": "yFBGRZVizkJR"
      },
      "source": [
        "Logistic Regression Squared Error"
      ]
    },
    {
      "cell_type": "code",
      "metadata": {
        "colab": {
          "base_uri": "https://localhost:8080/"
        },
        "id": "ewtoFucFJPBE",
        "outputId": "f430b491-6f3e-4038-89a5-346e28e77219"
      },
      "source": [
        "modelSetosaSE = LogisticRegressionSquaredError(alpha, model, dataSetosa, 500)\n",
        "print(modelSetosaSE) "
      ],
      "execution_count": 1338,
      "outputs": [
        {
          "output_type": "stream",
          "name": "stdout",
          "text": [
            "[0.07674381882638127, 0.11039689155871761, 0.40094477939638223, -0.6617405657353093, -0.2997195438954121]\n"
          ]
        }
      ]
    },
    {
      "cell_type": "code",
      "metadata": {
        "colab": {
          "base_uri": "https://localhost:8080/"
        },
        "id": "6m3n8RX4byJt",
        "outputId": "369fddf4-44f3-409e-cdb4-25df7a0ae00e"
      },
      "source": [
        "modelVersicolorSE = LogisticRegressionSquaredError(alpha, model, dataversicolor, 500)\n",
        "print(modelVersicolorSE) "
      ],
      "execution_count": 1339,
      "outputs": [
        {
          "output_type": "stream",
          "name": "stdout",
          "text": [
            "[0.0008863365750572854, -0.03955408188376823, -0.10461322014785257, -0.004286501663957117, -0.051013887281208724]\n"
          ]
        }
      ]
    },
    {
      "cell_type": "code",
      "metadata": {
        "colab": {
          "base_uri": "https://localhost:8080/"
        },
        "id": "be9wHplrcQs1",
        "outputId": "6be54b88-2d66-4503-949e-545d723ae41a"
      },
      "source": [
        "modelVirginicaSE = LogisticRegressionSquaredError(alpha, model, dataVirginica, 500)\n",
        "print(modelVirginicaSE) "
      ],
      "execution_count": 1340,
      "outputs": [
        {
          "output_type": "stream",
          "name": "stdout",
          "text": [
            "[-0.09993934369947018, -0.239823902025776, -0.3835170683855279, 0.4734314224666476, 0.2492495510606706]\n"
          ]
        }
      ]
    },
    {
      "cell_type": "markdown",
      "metadata": {
        "id": "JXnur9wAzeZ7"
      },
      "source": [
        "Logistic Regression Cross Entropy"
      ]
    },
    {
      "cell_type": "code",
      "metadata": {
        "colab": {
          "base_uri": "https://localhost:8080/"
        },
        "id": "ttLU4RlGRSHm",
        "outputId": "41f8cc99-06a5-4d1e-d71d-4bf7d50783e0"
      },
      "source": [
        "modelSetosaCE = LogisticRegressionCrossEntropy(alpha, model, dataSetosa, 1000)\n",
        "print(modelSetosaCE) "
      ],
      "execution_count": 1341,
      "outputs": [
        {
          "output_type": "stream",
          "name": "stdout",
          "text": [
            "[0.15709500296265688, 0.24858490091581734, 0.896493533372401, -1.415839026029019, -0.6250617624252771]\n"
          ]
        }
      ]
    },
    {
      "cell_type": "code",
      "metadata": {
        "colab": {
          "base_uri": "https://localhost:8080/"
        },
        "id": "f5iWAc3Lb5Yw",
        "outputId": "d729e3cd-e75b-411a-846f-2ed54dc97be8"
      },
      "source": [
        "modelVersicolorCE = LogisticRegressionCrossEntropy(alpha, model, dataversicolor, 1000)\n",
        "print(modelVersicolorCE) "
      ],
      "execution_count": 1342,
      "outputs": [
        {
          "output_type": "stream",
          "name": "stdout",
          "text": [
            "[0.012340844590231529, -0.03844895568689005, -0.5226511009793655, 0.3062005100580378, -0.11008662416499204]\n"
          ]
        }
      ]
    },
    {
      "cell_type": "code",
      "metadata": {
        "colab": {
          "base_uri": "https://localhost:8080/"
        },
        "id": "vE91nqPlcQs1",
        "outputId": "ce463215-e678-45ab-bbcf-588f7ecc44e0"
      },
      "source": [
        "modelVirginicaCE = LogisticRegressionCrossEntropy(alpha, model, dataVirginica, 1000)\n",
        "print(modelVirginicaCE) "
      ],
      "execution_count": 1343,
      "outputs": [
        {
          "output_type": "stream",
          "name": "stdout",
          "text": [
            "[-0.23962959873896345, -0.586391856295574, -1.0058922038557496, 1.2017947511074456, 0.6027373797355133]\n"
          ]
        }
      ]
    },
    {
      "cell_type": "markdown",
      "metadata": {
        "id": "CExzx7hFq_kX"
      },
      "source": [
        "# Logistic Regression using sklearn"
      ]
    },
    {
      "cell_type": "code",
      "metadata": {
        "id": "8jk-EkkPRSOy"
      },
      "source": [
        "data = sns.load_dataset(\"iris\")# X = feature values, all the columns except the last column\n",
        "X = data.iloc[:, :-1]\n",
        "\n",
        "# y = target values, last column of the data frame\n",
        "y = data.iloc[:, -1]"
      ],
      "execution_count": 1344,
      "outputs": []
    },
    {
      "cell_type": "code",
      "metadata": {
        "colab": {
          "base_uri": "https://localhost:8080/",
          "height": 279
        },
        "id": "JDaLY_BTz5W1",
        "outputId": "d6d9c810-a645-4886-c8c6-27c97529dfef"
      },
      "source": [
        "plt.xlabel('Features') # demonstrated from https://randerson112358.medium.com/python-logistic-regression-program-5e1b32f964db\n",
        "plt.ylabel('Species')\n",
        "\n",
        "pltX = data.loc[:, 'sepal_length']\n",
        "pltY = data.loc[:,'species']\n",
        "plt.scatter(pltX, pltY, color='blue', label='sepal_length')\n",
        "\n",
        "pltX = data.loc[:, 'sepal_width']\n",
        "pltY = data.loc[:,'species']\n",
        "plt.scatter(pltX, pltY, color='green', label='sepal_width')\n",
        "\n",
        "pltX = data.loc[:, 'petal_length']\n",
        "pltY = data.loc[:,'species']\n",
        "plt.scatter(pltX, pltY, color='red', label='petal_length')\n",
        "\n",
        "pltX = data.loc[:, 'petal_width']\n",
        "pltY = data.loc[:,'species']\n",
        "plt.scatter(pltX, pltY, color='black', label='petal_width')\n",
        "\n",
        "plt.legend(loc=4, prop={'size':8})\n",
        "plt.show()"
      ],
      "execution_count": 1345,
      "outputs": [
        {
          "output_type": "display_data",
          "data": {
            "image/png": "[encoded data removed]",
            "text/plain": [
              "<Figure size 432x288 with 1 Axes>"
            ]
          },
          "metadata": {
            "needs_background": "light"
          }
        }
      ]
    },
    {
      "cell_type": "code",
      "metadata": {
        "id": "_zUkmIFpRoXl"
      },
      "source": [
        "x_train, x_test, y_train, y_test = train_test_split(X, y, test_size=0.2, random_state=42)"
      ],
      "execution_count": 1346,
      "outputs": []
    },
    {
      "cell_type": "code",
      "metadata": {
        "colab": {
          "base_uri": "https://localhost:8080/"
        },
        "id": "S_Ku_ySYRpDT",
        "outputId": "c2544a31-50b2-4ec4-f04a-57cd0123ba55"
      },
      "source": [
        "#Train the model\n",
        "model = LogisticRegression()\n",
        "model.fit(x_train, y_train) #Training the model"
      ],
      "execution_count": 1347,
      "outputs": [
        {
          "output_type": "stream",
          "name": "stderr",
          "text": [
            "/usr/local/lib/python3.7/dist-packages/sklearn/linear_model/_logistic.py:940: ConvergenceWarning: lbfgs failed to converge (status=1):\n",
            "STOP: TOTAL NO. of ITERATIONS REACHED LIMIT.\n",
            "\n",
            "Increase the number of iterations (max_iter) or scale the data as shown in:\n",
            "    https://scikit-learn.org/stable/modules/preprocessing.html\n",
            "Please also refer to the documentation for alternative solver options:\n",
            "    https://scikit-learn.org/stable/modules/linear_model.html#logistic-regression\n",
            "  extra_warning_msg=_LOGISTIC_SOLVER_CONVERGENCE_MSG)\n"
          ]
        },
        {
          "output_type": "execute_result",
          "data": {
            "text/plain": [
              "LogisticRegression(C=1.0, class_weight=None, dual=False, fit_intercept=True,\n",
              "                   intercept_scaling=1, l1_ratio=None, max_iter=100,\n",
              "                   multi_class='auto', n_jobs=None, penalty='l2',\n",
              "                   random_state=None, solver='lbfgs', tol=0.0001, verbose=0,\n",
              "                   warm_start=False)"
            ]
          },
          "metadata": {},
          "execution_count": 1347
        }
      ]
    },
    {
      "cell_type": "code",
      "metadata": {
        "colab": {
          "base_uri": "https://localhost:8080/"
        },
        "id": "6lCT5HSPRr1i",
        "outputId": "4c09b7f6-10a5-4b92-b51b-b041aeb713c2"
      },
      "source": [
        "#Test the model\n",
        "predictions = model.predict(x_test)\n",
        "print(predictions)# printing predictions\n",
        "\n",
        "print()# Printing new line\n",
        "\n",
        "#Check precision, recall, f1-score\n",
        "print( classification_report(y_test, predictions) )\n",
        "\n",
        "print( accuracy_score(y_test, predictions))"
      ],
      "execution_count": 1348,
      "outputs": [
        {
          "output_type": "stream",
          "name": "stdout",
          "text": [
            "['versicolor' 'setosa' 'virginica' 'versicolor' 'versicolor' 'setosa'\n",
            " 'versicolor' 'virginica' 'versicolor' 'versicolor' 'virginica' 'setosa'\n",
            " 'setosa' 'setosa' 'setosa' 'versicolor' 'virginica' 'versicolor'\n",
            " 'versicolor' 'virginica' 'setosa' 'virginica' 'setosa' 'virginica'\n",
            " 'virginica' 'virginica' 'virginica' 'virginica' 'setosa' 'setosa']\n",
            "\n",
            "              precision    recall  f1-score   support\n",
            "\n",
            "      setosa       1.00      1.00      1.00        10\n",
            "  versicolor       1.00      1.00      1.00         9\n",
            "   virginica       1.00      1.00      1.00        11\n",
            "\n",
            "    accuracy                           1.00        30\n",
            "   macro avg       1.00      1.00      1.00        30\n",
            "weighted avg       1.00      1.00      1.00        30\n",
            "\n",
            "1.0\n"
          ]
        }
      ]
    }
  ]
}