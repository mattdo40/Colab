{
  "nbformat": 4,
  "nbformat_minor": 0,
  "metadata": {
    "colab": {
      "name": "linear and logistic regression",
      "provenance": [],
      "collapsed_sections": [],
      "authorship_tag": "ABX9TyMVY2FGwViSlg560VdGplaz",
      "include_colab_link": true
    },
    "kernelspec": {
      "name": "python3",
      "display_name": "Python 3"
    },
    "language_info": {
      "name": "python"
    }
  },
  "cells": [
    {
      "cell_type": "markdown",
      "metadata": {
        "id": "view-in-github",
        "colab_type": "text"
      },
      "source": [
        "<a href=\"https://colab.research.google.com/github/mattdo40/Colab/blob/main/linear_and_logistic_regression.ipynb\" target=\"_parent\"><img src=\"https://colab.research.google.com/assets/colab-badge.svg\" alt=\"Open In Colab\"/></a>"
      ]
    },
    {
      "cell_type": "code",
      "metadata": {
        "id": "AniBjjpt2mCV"
      },
      "source": [
        "  %matplotlib inline\n",
        "  import matplotlib.pyplot as plt\n",
        "  import math \n",
        "  import numpy as np \n",
        "  import pandas as pd\n",
        "  import matplotlib.pyplot as plt\n",
        "  import seaborn as sns\n",
        "  from sklearn.linear_model import LogisticRegression\n",
        "  from sklearn.metrics import classification_report\n",
        "  from sklearn.metrics import accuracy_score\n",
        "  from sklearn.model_selection import train_test_split"
      ],
      "execution_count": 1538,
      "outputs": []
    },
    {
      "cell_type": "markdown",
      "metadata": {
        "id": "U2i6jvfLCHvR"
      },
      "source": [
        "# Linear Regression"
      ]
    },
    {
      "cell_type": "code",
      "metadata": {
        "colab": {
          "base_uri": "https://localhost:8080/"
        },
        "id": "aW6kqE37Gw97",
        "outputId": "f2abe48f-9781-4149-9da4-aa4d10207e40"
      },
      "source": [
        "Weights = [5, 2] # F(X) = 5x_0 + 2x_1\n",
        "F = lambda W, X: sum([w*x for w,x in zip(W,X)])\n",
        "\n",
        "dataX1 = range(-2, 11, 1)\n",
        "dataX0 = [1]*len(dataX1)\n",
        "\n",
        "data = (list(zip(dataX0, dataX1)))\n",
        "print (data)\n",
        "Y = [F(Weights, X) for X in data]\n",
        "print (Y)"
      ],
      "execution_count": 1539,
      "outputs": [
        {
          "output_type": "stream",
          "name": "stdout",
          "text": [
            "[(1, -2), (1, -1), (1, 0), (1, 1), (1, 2), (1, 3), (1, 4), (1, 5), (1, 6), (1, 7), (1, 8), (1, 9), (1, 10)]\n",
            "[1, 3, 5, 7, 9, 11, 13, 15, 17, 19, 21, 23, 25]\n"
          ]
        }
      ]
    },
    {
      "cell_type": "code",
      "metadata": {
        "id": "jeKBb6YJfnqY",
        "colab": {
          "base_uri": "https://localhost:8080/"
        },
        "outputId": "376ce8f6-f390-45b1-b326-f80a70605199"
      },
      "source": [
        "TrainingData1 = zip(data, Y)\n",
        "\n",
        "print (list(TrainingData1))\n"
      ],
      "execution_count": 1540,
      "outputs": [
        {
          "output_type": "stream",
          "name": "stdout",
          "text": [
            "[((1, -2), 1), ((1, -1), 3), ((1, 0), 5), ((1, 1), 7), ((1, 2), 9), ((1, 3), 11), ((1, 4), 13), ((1, 5), 15), ((1, 6), 17), ((1, 7), 19), ((1, 8), 21), ((1, 9), 23), ((1, 10), 25)]\n"
          ]
        }
      ]
    },
    {
      "cell_type": "code",
      "metadata": {
        "colab": {
          "base_uri": "https://localhost:8080/"
        },
        "id": "4KZmWdMNIkwO",
        "outputId": "6c8b7212-e5f8-4b88-d44b-2ec59964a0d6"
      },
      "source": [
        "data = [((1, -2), 1), ((1, -1), 3), ((1, 0), 5), ((1, 1), 7), ((1, 2), 9), ((1, 3), 11), ((1, 4), 13), ((1, 5), 15), ((1, 6), 17), ((1, 7), 19), ((1, 8), 21), ((1, 9), 23), ((1, 10), 25)]\n",
        "print(data)\n",
        "X = [d for d,_ in data]\n",
        "Y = [y for _, y in data]\n",
        "print(X)\n",
        "print(Y)"
      ],
      "execution_count": 1541,
      "outputs": [
        {
          "output_type": "stream",
          "name": "stdout",
          "text": [
            "[((1, -2), 1), ((1, -1), 3), ((1, 0), 5), ((1, 1), 7), ((1, 2), 9), ((1, 3), 11), ((1, 4), 13), ((1, 5), 15), ((1, 6), 17), ((1, 7), 19), ((1, 8), 21), ((1, 9), 23), ((1, 10), 25)]\n",
            "[(1, -2), (1, -1), (1, 0), (1, 1), (1, 2), (1, 3), (1, 4), (1, 5), (1, 6), (1, 7), (1, 8), (1, 9), (1, 10)]\n",
            "[1, 3, 5, 7, 9, 11, 13, 15, 17, 19, 21, 23, 25]\n"
          ]
        }
      ]
    },
    {
      "cell_type": "code",
      "metadata": {
        "id": "INkViFY43HVR"
      },
      "source": [
        "alpha=0.01\n",
        "model=[0, 0]\n",
        "Errors = []"
      ],
      "execution_count": 1542,
      "outputs": []
    },
    {
      "cell_type": "code",
      "metadata": {
        "colab": {
          "base_uri": "https://localhost:8080/"
        },
        "id": "aLSOgxBtMXF_",
        "outputId": "2797d0b4-bf8a-4ce2-f84f-cd106c454d50"
      },
      "source": [
        "# Calculate Predicted\n",
        "\n",
        "yPredicted = [F(model, x) for x in X]\n",
        "print(yPredicted)"
      ],
      "execution_count": 1543,
      "outputs": [
        {
          "output_type": "stream",
          "name": "stdout",
          "text": [
            "[0, 0, 0, 0, 0, 0, 0, 0, 0, 0, 0, 0, 0]\n"
          ]
        }
      ]
    },
    {
      "cell_type": "code",
      "metadata": {
        "colab": {
          "base_uri": "https://localhost:8080/"
        },
        "id": "DIYJtXs5JgtM",
        "outputId": "e6e4d53a-8815-42e4-c7a6-c2ee46dd09cf"
      },
      "source": [
        "# Evaluate Model\n",
        "Error = sum([(r-y)**2.0 for r,y in zip(Y, yPredicted)])\n",
        "print(\"With Model=\", model, \"Error=\", Error)\n",
        "Errors.append([model, Error])\n",
        "print (\"History w/ Alpha=\", alpha, \"=\")\n",
        "print (Errors)\n",
        "print(\"Next\")\n",
        "for i in range(len(Errors)):\n",
        "  print(\"Iterations=\",i+1,\":=\",Errors[i])"
      ],
      "execution_count": 1544,
      "outputs": [
        {
          "output_type": "stream",
          "name": "stdout",
          "text": [
            "With Model= [0, 0] Error= 2925.0\n",
            "History w/ Alpha= 0.01 =\n",
            "[[[0, 0], 2925.0]]\n",
            "Next\n",
            "Iterations= 1 := [[0, 0], 2925.0]\n"
          ]
        }
      ]
    },
    {
      "cell_type": "code",
      "metadata": {
        "colab": {
          "base_uri": "https://localhost:8080/"
        },
        "id": "Dx7wY_2CKAh8",
        "outputId": "996ec299-6de8-469b-afa2-6dfc00677644"
      },
      "source": [
        "deltaX0 = 1/len(Y)*sum( [(-2*(r-y)*x[0]) for r,y,x in zip(Y, yPredicted, X)] )\n",
        "deltaX1 = 1/len(Y)*sum( [(-2*(r-y)*x[1]) for r,y,x in zip(Y, yPredicted, X)] )\n",
        "\n",
        "print(deltaX0)\n",
        "print(deltaX1)"
      ],
      "execution_count": 1545,
      "outputs": [
        {
          "output_type": "stream",
          "name": "stdout",
          "text": [
            "-26.0\n",
            "-160.0\n"
          ]
        }
      ]
    },
    {
      "cell_type": "code",
      "metadata": {
        "id": "rGgRs5y2340Y",
        "colab": {
          "base_uri": "https://localhost:8080/"
        },
        "outputId": "716050ed-8658-49e4-8b29-cf0569190c37"
      },
      "source": [
        "model = [model[0]-alpha*deltaX0, model[1]-alpha*deltaX1]\n",
        "print(model)"
      ],
      "execution_count": 1546,
      "outputs": [
        {
          "output_type": "stream",
          "name": "stdout",
          "text": [
            "[0.26, 1.6]\n"
          ]
        }
      ]
    },
    {
      "cell_type": "code",
      "metadata": {
        "colab": {
          "base_uri": "https://localhost:8080/",
          "height": 265
        },
        "id": "WegUgbPMdVJE",
        "outputId": "a504a9eb-2c17-4e46-8927-05bf88a2226c"
      },
      "source": [
        "dataX1 = [x[1] for x, y in data]\n",
        "plt.plot(dataX1, yPredicted, \"g\")\n",
        "plt.plot(dataX1, Y, \"g+\")\n",
        "plt.show()"
      ],
      "execution_count": 1547,
      "outputs": [
        {
          "output_type": "display_data",
          "data": {
            "image/png": "[encoded data removed]",
            "text/plain": [
              "<Figure size 432x288 with 1 Axes>"
            ]
          },
          "metadata": {
            "needs_background": "light"
          }
        }
      ]
    },
    {
      "cell_type": "code",
      "metadata": {
        "id": "CRSXA5I4nI21",
        "colab": {
          "base_uri": "https://localhost:8080/",
          "height": 282
        },
        "outputId": "a1be94b3-4ae7-4aab-ccd3-8710f6103cdd"
      },
      "source": [
        "## Add Noise\n",
        "import random\n",
        "import numpy as np\n",
        "EPS = 30\n",
        "yNoise = [round(y+random.random()*EPS-EPS/2,2) for y in Y]\n",
        "TrainingData2 = zip(data, yNoise)\n",
        "print(list(TrainingData2))\n",
        "\n",
        "plt.plot(dataX1, Y, \"g\")\n",
        "plt.plot(dataX1, yNoise, \"g+\")\n",
        "plt.show()"
      ],
      "execution_count": 1548,
      "outputs": [
        {
          "output_type": "stream",
          "name": "stdout",
          "text": [
            "[(((1, -2), 1), -9.3), (((1, -1), 3), -10.62), (((1, 0), 5), 3.18), (((1, 1), 7), 8.7), (((1, 2), 9), 21.09), (((1, 3), 11), -1.78), (((1, 4), 13), 4.94), (((1, 5), 15), 24.47), (((1, 6), 17), 31.16), (((1, 7), 19), 15.41), (((1, 8), 21), 12.26), (((1, 9), 23), 31.52), (((1, 10), 25), 21.37)]\n"
          ]
        },
        {
          "output_type": "display_data",
          "data": {
            "image/png": "[encoded data removed]",
            "text/plain": [
              "<Figure size 432x288 with 1 Axes>"
            ]
          },
          "metadata": {
            "needs_background": "light"
          }
        }
      ]
    },
    {
      "cell_type": "code",
      "metadata": {
        "colab": {
          "base_uri": "https://localhost:8080/"
        },
        "id": "udQ6C14IIcN4",
        "outputId": "de6d3c00-33a7-423e-8a92-4fbeb6b7b9d6"
      },
      "source": [
        "data = [((1, -2), 6.39), ((1, -1), 16.51), ((1, 0), -3.11), ((1, 1), 10.79), ((1, 2), 11.62), ((1, 3), 23.24), ((1, 4), 18.27), ((1, 5), 27.58), ((1, 6), 22.21), ((1, 7), 5.12), ((1, 8), 8.86), ((1, 9), 10.69), ((1, 10), 14.82)]\n",
        "print(data)\n",
        "X = [d for d,_ in data]\n",
        "Y = [y for _, y in data]\n",
        "print(X)\n",
        "print(Y)"
      ],
      "execution_count": 1549,
      "outputs": [
        {
          "output_type": "stream",
          "name": "stdout",
          "text": [
            "[((1, -2), 6.39), ((1, -1), 16.51), ((1, 0), -3.11), ((1, 1), 10.79), ((1, 2), 11.62), ((1, 3), 23.24), ((1, 4), 18.27), ((1, 5), 27.58), ((1, 6), 22.21), ((1, 7), 5.12), ((1, 8), 8.86), ((1, 9), 10.69), ((1, 10), 14.82)]\n",
            "[(1, -2), (1, -1), (1, 0), (1, 1), (1, 2), (1, 3), (1, 4), (1, 5), (1, 6), (1, 7), (1, 8), (1, 9), (1, 10)]\n",
            "[6.39, 16.51, -3.11, 10.79, 11.62, 23.24, 18.27, 27.58, 22.21, 5.12, 8.86, 10.69, 14.82]\n"
          ]
        }
      ]
    },
    {
      "cell_type": "code",
      "metadata": {
        "id": "G61NJAE0IjmO"
      },
      "source": [
        "alpha=0.02\n",
        "model=[0, 0]\n",
        "Errors = []"
      ],
      "execution_count": 1550,
      "outputs": []
    },
    {
      "cell_type": "code",
      "metadata": {
        "colab": {
          "base_uri": "https://localhost:8080/"
        },
        "id": "JKt6LfqBImBb",
        "outputId": "9ad8883d-c114-4e52-cbc3-89fe70ae9201"
      },
      "source": [
        "# Calculate Predicted\n",
        "\n",
        "yPredicted = [F(model, x) for x in X]\n",
        "print(yPredicted)"
      ],
      "execution_count": 1551,
      "outputs": [
        {
          "output_type": "stream",
          "name": "stdout",
          "text": [
            "[0, 0, 0, 0, 0, 0, 0, 0, 0, 0, 0, 0, 0]\n"
          ]
        }
      ]
    },
    {
      "cell_type": "code",
      "metadata": {
        "colab": {
          "base_uri": "https://localhost:8080/"
        },
        "id": "FFuK4R9PInvv",
        "outputId": "9a2a08d7-5a90-451c-960c-04f541976f84"
      },
      "source": [
        "# Evaluate Model\n",
        "Error = sum([(r-y)**2.0 for r,y in zip(Y, yPredicted)])\n",
        "print(\"With Model=\", model, \"Error=\", Error)\n",
        "Errors.append([model, Error])\n",
        "print (\"History w/ Alpha=\", alpha, \"=\")\n",
        "print (Errors)\n",
        "print(\"Next\")\n",
        "for i in range(len(Errors)):\n",
        "  print(\"Iterations=\",i+1,\":=\",Errors[i])"
      ],
      "execution_count": 1552,
      "outputs": [
        {
          "output_type": "stream",
          "name": "stdout",
          "text": [
            "With Model= [0, 0] Error= 3140.9862999999996\n",
            "History w/ Alpha= 0.02 =\n",
            "[[[0, 0], 3140.9862999999996]]\n",
            "Next\n",
            "Iterations= 1 := [[0, 0], 3140.9862999999996]\n"
          ]
        }
      ]
    },
    {
      "cell_type": "code",
      "metadata": {
        "colab": {
          "base_uri": "https://localhost:8080/"
        },
        "id": "uHyZcs3OIrE4",
        "outputId": "f17bf063-93a9-478b-bd20-0e3836219d9f"
      },
      "source": [
        "deltaX0 = 1/len(Y)*sum( [(-2*(r-y)*x[0]) for r,y,x in zip(Y, yPredicted, X)] )\n",
        "deltaX1 = 1/len(Y)*sum( [(-2*(r-y)*x[1]) for r,y,x in zip(Y, yPredicted, X)] )\n",
        "\n",
        "print(deltaX0)\n",
        "print(deltaX1)"
      ],
      "execution_count": 1553,
      "outputs": [
        {
          "output_type": "stream",
          "name": "stdout",
          "text": [
            "-26.613846153846158\n",
            "-118.4353846153846\n"
          ]
        }
      ]
    },
    {
      "cell_type": "code",
      "metadata": {
        "colab": {
          "base_uri": "https://localhost:8080/"
        },
        "id": "-9_VCYEkIs_N",
        "outputId": "35354d74-8397-4477-d46b-1971dd097bc1"
      },
      "source": [
        "model = [model[0]-alpha*deltaX0, model[1]-alpha*deltaX1]\n",
        "print(model)"
      ],
      "execution_count": 1554,
      "outputs": [
        {
          "output_type": "stream",
          "name": "stdout",
          "text": [
            "[0.5322769230769232, 2.368707692307692]\n"
          ]
        }
      ]
    },
    {
      "cell_type": "code",
      "metadata": {
        "colab": {
          "base_uri": "https://localhost:8080/",
          "height": 265
        },
        "id": "7jeRG5gUIuvQ",
        "outputId": "be796de1-4f62-46b4-de52-c31988b80a52"
      },
      "source": [
        "dataX1 = [x[1] for x, y in data]\n",
        "plt.plot(dataX1, yPredicted, \"g\")\n",
        "plt.plot(dataX1, Y, \"g+\")\n",
        "plt.show()"
      ],
      "execution_count": 1555,
      "outputs": [
        {
          "output_type": "display_data",
          "data": {
            "image/png": "[encoded data removed]",
            "text/plain": [
              "<Figure size 432x288 with 1 Axes>"
            ]
          },
          "metadata": {
            "needs_background": "light"
          }
        }
      ]
    },
    {
      "cell_type": "markdown",
      "metadata": {
        "id": "gQlt3ySRrU8g"
      },
      "source": [
        "# Logistic Regression with binary classification"
      ]
    },
    {
      "cell_type": "code",
      "metadata": {
        "id": "kT-cugX3IPWp"
      },
      "source": [
        "def F(W,X):\n",
        "  return sum([w*x for w,x in zip(W,X)])"
      ],
      "execution_count": 1556,
      "outputs": []
    },
    {
      "cell_type": "code",
      "metadata": {
        "id": "PtiB7cdnFQ67"
      },
      "source": [
        "def sigmoid(x):\n",
        "  return 1.0/(1+math.exp(-x))"
      ],
      "execution_count": 1557,
      "outputs": []
    },
    {
      "cell_type": "code",
      "metadata": {
        "id": "7yJE2H8FkbTI"
      },
      "source": [
        "def classify(model, X): \n",
        "  return [1 if sigmoid(F(model, x)) >= 0.5 else 0 for x in X] #in class we said that greater than 0.5 was 1"
      ],
      "execution_count": 1558,
      "outputs": []
    },
    {
      "cell_type": "code",
      "metadata": {
        "colab": {
          "base_uri": "https://localhost:8080/",
          "height": 424
        },
        "id": "4K0pTMW9ygFO",
        "outputId": "7df39d2a-147d-4738-e2df-a1a97b5ae4dd"
      },
      "source": [
        "url = 'https://raw.githubusercontent.com/mattdo40/Colab/main/iris.data.csv'\n",
        "data = pd.read_csv(url,names=[\"Sepal Length\", \"Sepal Width\", \"Petal Length\", \"Petal Width\", \"Class\"])\n",
        "data"
      ],
      "execution_count": 1559,
      "outputs": [
        {
          "output_type": "execute_result",
          "data": {
            "text/html": [
              "<div>\n",
              "<style scoped>\n",
              "    .dataframe tbody tr th:only-of-type {\n",
              "        vertical-align: middle;\n",
              "    }\n",
              "\n",
              "    .dataframe tbody tr th {\n",
              "        vertical-align: top;\n",
              "    }\n",
              "\n",
              "    .dataframe thead th {\n",
              "        text-align: right;\n",
              "    }\n",
              "</style>\n",
              "<table border=\"1\" class=\"dataframe\">\n",
              "  <thead>\n",
              "    <tr style=\"text-align: right;\">\n",
              "      <th></th>\n",
              "      <th>Sepal Length</th>\n",
              "      <th>Sepal Width</th>\n",
              "      <th>Petal Length</th>\n",
              "      <th>Petal Width</th>\n",
              "      <th>Class</th>\n",
              "    </tr>\n",
              "  </thead>\n",
              "  <tbody>\n",
              "    <tr>\n",
              "      <th>0</th>\n",
              "      <td>5.1</td>\n",
              "      <td>3.5</td>\n",
              "      <td>1.4</td>\n",
              "      <td>0.2</td>\n",
              "      <td>Iris-setosa</td>\n",
              "    </tr>\n",
              "    <tr>\n",
              "      <th>1</th>\n",
              "      <td>4.9</td>\n",
              "      <td>3.0</td>\n",
              "      <td>1.4</td>\n",
              "      <td>0.2</td>\n",
              "      <td>Iris-setosa</td>\n",
              "    </tr>\n",
              "    <tr>\n",
              "      <th>2</th>\n",
              "      <td>4.7</td>\n",
              "      <td>3.2</td>\n",
              "      <td>1.3</td>\n",
              "      <td>0.2</td>\n",
              "      <td>Iris-setosa</td>\n",
              "    </tr>\n",
              "    <tr>\n",
              "      <th>3</th>\n",
              "      <td>4.6</td>\n",
              "      <td>3.1</td>\n",
              "      <td>1.5</td>\n",
              "      <td>0.2</td>\n",
              "      <td>Iris-setosa</td>\n",
              "    </tr>\n",
              "    <tr>\n",
              "      <th>4</th>\n",
              "      <td>5.0</td>\n",
              "      <td>3.6</td>\n",
              "      <td>1.4</td>\n",
              "      <td>0.2</td>\n",
              "      <td>Iris-setosa</td>\n",
              "    </tr>\n",
              "    <tr>\n",
              "      <th>...</th>\n",
              "      <td>...</td>\n",
              "      <td>...</td>\n",
              "      <td>...</td>\n",
              "      <td>...</td>\n",
              "      <td>...</td>\n",
              "    </tr>\n",
              "    <tr>\n",
              "      <th>145</th>\n",
              "      <td>6.7</td>\n",
              "      <td>3.0</td>\n",
              "      <td>5.2</td>\n",
              "      <td>2.3</td>\n",
              "      <td>Iris-virginica</td>\n",
              "    </tr>\n",
              "    <tr>\n",
              "      <th>146</th>\n",
              "      <td>6.3</td>\n",
              "      <td>2.5</td>\n",
              "      <td>5.0</td>\n",
              "      <td>1.9</td>\n",
              "      <td>Iris-virginica</td>\n",
              "    </tr>\n",
              "    <tr>\n",
              "      <th>147</th>\n",
              "      <td>6.5</td>\n",
              "      <td>3.0</td>\n",
              "      <td>5.2</td>\n",
              "      <td>2.0</td>\n",
              "      <td>Iris-virginica</td>\n",
              "    </tr>\n",
              "    <tr>\n",
              "      <th>148</th>\n",
              "      <td>6.2</td>\n",
              "      <td>3.4</td>\n",
              "      <td>5.4</td>\n",
              "      <td>2.3</td>\n",
              "      <td>Iris-virginica</td>\n",
              "    </tr>\n",
              "    <tr>\n",
              "      <th>149</th>\n",
              "      <td>5.9</td>\n",
              "      <td>3.0</td>\n",
              "      <td>5.1</td>\n",
              "      <td>1.8</td>\n",
              "      <td>Iris-virginica</td>\n",
              "    </tr>\n",
              "  </tbody>\n",
              "</table>\n",
              "<p>150 rows × 5 columns</p>\n",
              "</div>"
            ],
            "text/plain": [
              "     Sepal Length  Sepal Width  Petal Length  Petal Width           Class\n",
              "0             5.1          3.5           1.4          0.2     Iris-setosa\n",
              "1             4.9          3.0           1.4          0.2     Iris-setosa\n",
              "2             4.7          3.2           1.3          0.2     Iris-setosa\n",
              "3             4.6          3.1           1.5          0.2     Iris-setosa\n",
              "4             5.0          3.6           1.4          0.2     Iris-setosa\n",
              "..            ...          ...           ...          ...             ...\n",
              "145           6.7          3.0           5.2          2.3  Iris-virginica\n",
              "146           6.3          2.5           5.0          1.9  Iris-virginica\n",
              "147           6.5          3.0           5.2          2.0  Iris-virginica\n",
              "148           6.2          3.4           5.4          2.3  Iris-virginica\n",
              "149           5.9          3.0           5.1          1.8  Iris-virginica\n",
              "\n",
              "[150 rows x 5 columns]"
            ]
          },
          "metadata": {},
          "execution_count": 1559
        }
      ]
    },
    {
      "cell_type": "code",
      "metadata": {
        "colab": {
          "base_uri": "https://localhost:8080/"
        },
        "id": "ct0cDBmiBuzK",
        "outputId": "3101e1ff-9f04-4a76-abef-9eb04fb7289f"
      },
      "source": [
        "data = data.values.tolist() # Converting the dataframe into a normal list\n",
        "print(data)"
      ],
      "execution_count": 1560,
      "outputs": [
        {
          "output_type": "stream",
          "name": "stdout",
          "text": [
            "[[5.1, 3.5, 1.4, 0.2, 'Iris-setosa'], [4.9, 3.0, 1.4, 0.2, 'Iris-setosa'], [4.7, 3.2, 1.3, 0.2, 'Iris-setosa'], [4.6, 3.1, 1.5, 0.2, 'Iris-setosa'], [5.0, 3.6, 1.4, 0.2, 'Iris-setosa'], [5.4, 3.9, 1.7, 0.4, 'Iris-setosa'], [4.6, 3.4, 1.4, 0.3, 'Iris-setosa'], [5.0, 3.4, 1.5, 0.2, 'Iris-setosa'], [4.4, 2.9, 1.4, 0.2, 'Iris-setosa'], [4.9, 3.1, 1.5, 0.1, 'Iris-setosa'], [5.4, 3.7, 1.5, 0.2, 'Iris-setosa'], [4.8, 3.4, 1.6, 0.2, 'Iris-setosa'], [4.8, 3.0, 1.4, 0.1, 'Iris-setosa'], [4.3, 3.0, 1.1, 0.1, 'Iris-setosa'], [5.8, 4.0, 1.2, 0.2, 'Iris-setosa'], [5.7, 4.4, 1.5, 0.4, 'Iris-setosa'], [5.4, 3.9, 1.3, 0.4, 'Iris-setosa'], [5.1, 3.5, 1.4, 0.3, 'Iris-setosa'], [5.7, 3.8, 1.7, 0.3, 'Iris-setosa'], [5.1, 3.8, 1.5, 0.3, 'Iris-setosa'], [5.4, 3.4, 1.7, 0.2, 'Iris-setosa'], [5.1, 3.7, 1.5, 0.4, 'Iris-setosa'], [4.6, 3.6, 1.0, 0.2, 'Iris-setosa'], [5.1, 3.3, 1.7, 0.5, 'Iris-setosa'], [4.8, 3.4, 1.9, 0.2, 'Iris-setosa'], [5.0, 3.0, 1.6, 0.2, 'Iris-setosa'], [5.0, 3.4, 1.6, 0.4, 'Iris-setosa'], [5.2, 3.5, 1.5, 0.2, 'Iris-setosa'], [5.2, 3.4, 1.4, 0.2, 'Iris-setosa'], [4.7, 3.2, 1.6, 0.2, 'Iris-setosa'], [4.8, 3.1, 1.6, 0.2, 'Iris-setosa'], [5.4, 3.4, 1.5, 0.4, 'Iris-setosa'], [5.2, 4.1, 1.5, 0.1, 'Iris-setosa'], [5.5, 4.2, 1.4, 0.2, 'Iris-setosa'], [4.9, 3.1, 1.5, 0.1, 'Iris-setosa'], [5.0, 3.2, 1.2, 0.2, 'Iris-setosa'], [5.5, 3.5, 1.3, 0.2, 'Iris-setosa'], [4.9, 3.1, 1.5, 0.1, 'Iris-setosa'], [4.4, 3.0, 1.3, 0.2, 'Iris-setosa'], [5.1, 3.4, 1.5, 0.2, 'Iris-setosa'], [5.0, 3.5, 1.3, 0.3, 'Iris-setosa'], [4.5, 2.3, 1.3, 0.3, 'Iris-setosa'], [4.4, 3.2, 1.3, 0.2, 'Iris-setosa'], [5.0, 3.5, 1.6, 0.6, 'Iris-setosa'], [5.1, 3.8, 1.9, 0.4, 'Iris-setosa'], [4.8, 3.0, 1.4, 0.3, 'Iris-setosa'], [5.1, 3.8, 1.6, 0.2, 'Iris-setosa'], [4.6, 3.2, 1.4, 0.2, 'Iris-setosa'], [5.3, 3.7, 1.5, 0.2, 'Iris-setosa'], [5.0, 3.3, 1.4, 0.2, 'Iris-setosa'], [7.0, 3.2, 4.7, 1.4, 'Iris-versicolor'], [6.4, 3.2, 4.5, 1.5, 'Iris-versicolor'], [6.9, 3.1, 4.9, 1.5, 'Iris-versicolor'], [5.5, 2.3, 4.0, 1.3, 'Iris-versicolor'], [6.5, 2.8, 4.6, 1.5, 'Iris-versicolor'], [5.7, 2.8, 4.5, 1.3, 'Iris-versicolor'], [6.3, 3.3, 4.7, 1.6, 'Iris-versicolor'], [4.9, 2.4, 3.3, 1.0, 'Iris-versicolor'], [6.6, 2.9, 4.6, 1.3, 'Iris-versicolor'], [5.2, 2.7, 3.9, 1.4, 'Iris-versicolor'], [5.0, 2.0, 3.5, 1.0, 'Iris-versicolor'], [5.9, 3.0, 4.2, 1.5, 'Iris-versicolor'], [6.0, 2.2, 4.0, 1.0, 'Iris-versicolor'], [6.1, 2.9, 4.7, 1.4, 'Iris-versicolor'], [5.6, 2.9, 3.6, 1.3, 'Iris-versicolor'], [6.7, 3.1, 4.4, 1.4, 'Iris-versicolor'], [5.6, 3.0, 4.5, 1.5, 'Iris-versicolor'], [5.8, 2.7, 4.1, 1.0, 'Iris-versicolor'], [6.2, 2.2, 4.5, 1.5, 'Iris-versicolor'], [5.6, 2.5, 3.9, 1.1, 'Iris-versicolor'], [5.9, 3.2, 4.8, 1.8, 'Iris-versicolor'], [6.1, 2.8, 4.0, 1.3, 'Iris-versicolor'], [6.3, 2.5, 4.9, 1.5, 'Iris-versicolor'], [6.1, 2.8, 4.7, 1.2, 'Iris-versicolor'], [6.4, 2.9, 4.3, 1.3, 'Iris-versicolor'], [6.6, 3.0, 4.4, 1.4, 'Iris-versicolor'], [6.8, 2.8, 4.8, 1.4, 'Iris-versicolor'], [6.7, 3.0, 5.0, 1.7, 'Iris-versicolor'], [6.0, 2.9, 4.5, 1.5, 'Iris-versicolor'], [5.7, 2.6, 3.5, 1.0, 'Iris-versicolor'], [5.5, 2.4, 3.8, 1.1, 'Iris-versicolor'], [5.5, 2.4, 3.7, 1.0, 'Iris-versicolor'], [5.8, 2.7, 3.9, 1.2, 'Iris-versicolor'], [6.0, 2.7, 5.1, 1.6, 'Iris-versicolor'], [5.4, 3.0, 4.5, 1.5, 'Iris-versicolor'], [6.0, 3.4, 4.5, 1.6, 'Iris-versicolor'], [6.7, 3.1, 4.7, 1.5, 'Iris-versicolor'], [6.3, 2.3, 4.4, 1.3, 'Iris-versicolor'], [5.6, 3.0, 4.1, 1.3, 'Iris-versicolor'], [5.5, 2.5, 4.0, 1.3, 'Iris-versicolor'], [5.5, 2.6, 4.4, 1.2, 'Iris-versicolor'], [6.1, 3.0, 4.6, 1.4, 'Iris-versicolor'], [5.8, 2.6, 4.0, 1.2, 'Iris-versicolor'], [5.0, 2.3, 3.3, 1.0, 'Iris-versicolor'], [5.6, 2.7, 4.2, 1.3, 'Iris-versicolor'], [5.7, 3.0, 4.2, 1.2, 'Iris-versicolor'], [5.7, 2.9, 4.2, 1.3, 'Iris-versicolor'], [6.2, 2.9, 4.3, 1.3, 'Iris-versicolor'], [5.1, 2.5, 3.0, 1.1, 'Iris-versicolor'], [5.7, 2.8, 4.1, 1.3, 'Iris-versicolor'], [6.3, 3.3, 6.0, 2.5, 'Iris-virginica'], [5.8, 2.7, 5.1, 1.9, 'Iris-virginica'], [7.1, 3.0, 5.9, 2.1, 'Iris-virginica'], [6.3, 2.9, 5.6, 1.8, 'Iris-virginica'], [6.5, 3.0, 5.8, 2.2, 'Iris-virginica'], [7.6, 3.0, 6.6, 2.1, 'Iris-virginica'], [4.9, 2.5, 4.5, 1.7, 'Iris-virginica'], [7.3, 2.9, 6.3, 1.8, 'Iris-virginica'], [6.7, 2.5, 5.8, 1.8, 'Iris-virginica'], [7.2, 3.6, 6.1, 2.5, 'Iris-virginica'], [6.5, 3.2, 5.1, 2.0, 'Iris-virginica'], [6.4, 2.7, 5.3, 1.9, 'Iris-virginica'], [6.8, 3.0, 5.5, 2.1, 'Iris-virginica'], [5.7, 2.5, 5.0, 2.0, 'Iris-virginica'], [5.8, 2.8, 5.1, 2.4, 'Iris-virginica'], [6.4, 3.2, 5.3, 2.3, 'Iris-virginica'], [6.5, 3.0, 5.5, 1.8, 'Iris-virginica'], [7.7, 3.8, 6.7, 2.2, 'Iris-virginica'], [7.7, 2.6, 6.9, 2.3, 'Iris-virginica'], [6.0, 2.2, 5.0, 1.5, 'Iris-virginica'], [6.9, 3.2, 5.7, 2.3, 'Iris-virginica'], [5.6, 2.8, 4.9, 2.0, 'Iris-virginica'], [7.7, 2.8, 6.7, 2.0, 'Iris-virginica'], [6.3, 2.7, 4.9, 1.8, 'Iris-virginica'], [6.7, 3.3, 5.7, 2.1, 'Iris-virginica'], [7.2, 3.2, 6.0, 1.8, 'Iris-virginica'], [6.2, 2.8, 4.8, 1.8, 'Iris-virginica'], [6.1, 3.0, 4.9, 1.8, 'Iris-virginica'], [6.4, 2.8, 5.6, 2.1, 'Iris-virginica'], [7.2, 3.0, 5.8, 1.6, 'Iris-virginica'], [7.4, 2.8, 6.1, 1.9, 'Iris-virginica'], [7.9, 3.8, 6.4, 2.0, 'Iris-virginica'], [6.4, 2.8, 5.6, 2.2, 'Iris-virginica'], [6.3, 2.8, 5.1, 1.5, 'Iris-virginica'], [6.1, 2.6, 5.6, 1.4, 'Iris-virginica'], [7.7, 3.0, 6.1, 2.3, 'Iris-virginica'], [6.3, 3.4, 5.6, 2.4, 'Iris-virginica'], [6.4, 3.1, 5.5, 1.8, 'Iris-virginica'], [6.0, 3.0, 4.8, 1.8, 'Iris-virginica'], [6.9, 3.1, 5.4, 2.1, 'Iris-virginica'], [6.7, 3.1, 5.6, 2.4, 'Iris-virginica'], [6.9, 3.1, 5.1, 2.3, 'Iris-virginica'], [5.8, 2.7, 5.1, 1.9, 'Iris-virginica'], [6.8, 3.2, 5.9, 2.3, 'Iris-virginica'], [6.7, 3.3, 5.7, 2.5, 'Iris-virginica'], [6.7, 3.0, 5.2, 2.3, 'Iris-virginica'], [6.3, 2.5, 5.0, 1.9, 'Iris-virginica'], [6.5, 3.0, 5.2, 2.0, 'Iris-virginica'], [6.2, 3.4, 5.4, 2.3, 'Iris-virginica'], [5.9, 3.0, 5.1, 1.8, 'Iris-virginica']]\n"
          ]
        }
      ]
    },
    {
      "cell_type": "code",
      "metadata": {
        "id": "6wFyUIu5bpo5"
      },
      "source": [
        "def LogisticRegressionSquaredError(alpha, model, data, iter): #defining logistic regression with squared error\n",
        "  X = [x for (x,r) in data]\n",
        "  R = [r for (x,r) in data]\n",
        "  dim = len(X[0]) \n",
        "  N = len(X) \n",
        "  for i in range(iter):\n",
        "    dW = [0]*dim\n",
        "    for j in range(N): \n",
        "      yPredicted = sigmoid(F(model, X[j])) \n",
        "      for k in range(dim): \n",
        "        dW[k] += -2 * (R[j] - yPredicted)*(yPredicted)*(1 - yPredicted)*X[j][k] #\n",
        "    for k in range(dim): \n",
        "      model[k] = model[k] - (1/N)*alpha*dW[k] \n",
        "  return model"
      ],
      "execution_count": 1561,
      "outputs": []
    },
    {
      "cell_type": "code",
      "metadata": {
        "id": "bn4-Yn30DRlK"
      },
      "source": [
        "def LogisticRegressionCrossEntropy(alpha, model, data, iter): #defining logistic regression with cross entropy\n",
        "  X = [x for (x,r) in data]\n",
        "  R = [r for (x,r) in data]\n",
        "  dim = len(X[0]) \n",
        "  N = len(X) \n",
        "  for i in range(iter):\n",
        "    dW = [0]*dim\n",
        "    for j in range(N): \n",
        "      yPredicted = sigmoid(F(model, X[j])) \n",
        "      for k in range(dim): \n",
        "        dW[k] += -1 * (R[j] - yPredicted)*X[j][k] # derivation of logistic function\n",
        "    for k in range(dim): \n",
        "      model[k] = model[k] - (1/N)*alpha*dW[k] \n",
        "  return model"
      ],
      "execution_count": 1562,
      "outputs": []
    },
    {
      "cell_type": "code",
      "metadata": {
        "id": "xQIjPIx7sLtU"
      },
      "source": [
        "alpha = 0.01\n",
        "model = [0.01, 0.01, 0.01, 0.01, 0.01] # Initial model SE\n",
        "model = [0.01, 0.01, 0.01, 0.01, 0.01] # Initial model CE\n",
        "num_iter = 1000"
      ],
      "execution_count": 1563,
      "outputs": []
    },
    {
      "cell_type": "markdown",
      "metadata": {
        "id": "6k16ArQgDmok"
      },
      "source": [
        "Defining data sets "
      ]
    },
    {
      "cell_type": "code",
      "metadata": {
        "colab": {
          "base_uri": "https://localhost:8080/"
        },
        "id": "VSPF258uHZ9I",
        "outputId": "8285973b-5bfe-4600-ec54-c17539384c9d"
      },
      "source": [
        "datasetosa = [((1,x1,x2,x3,x4), Class) for (x1,x2,x3,x4, Class) in data] #convert to a tuple like we did for the training data\n",
        "datasetosa = [(x,1) if Class == 'Iris-setosa' else (x,0) for (x,Class) in datasetosa] # set setosa to 1 anything else to 0\n",
        "print(dataSetosa)"
      ],
      "execution_count": 1564,
      "outputs": [
        {
          "output_type": "stream",
          "name": "stdout",
          "text": [
            "[((1, 5.1, 3.5, 1.4, 0.2), 1), ((1, 4.9, 3.0, 1.4, 0.2), 1), ((1, 4.7, 3.2, 1.3, 0.2), 1), ((1, 4.6, 3.1, 1.5, 0.2), 1), ((1, 5.0, 3.6, 1.4, 0.2), 1), ((1, 5.4, 3.9, 1.7, 0.4), 1), ((1, 4.6, 3.4, 1.4, 0.3), 1), ((1, 5.0, 3.4, 1.5, 0.2), 1), ((1, 4.4, 2.9, 1.4, 0.2), 1), ((1, 4.9, 3.1, 1.5, 0.1), 1), ((1, 5.4, 3.7, 1.5, 0.2), 1), ((1, 4.8, 3.4, 1.6, 0.2), 1), ((1, 4.8, 3.0, 1.4, 0.1), 1), ((1, 4.3, 3.0, 1.1, 0.1), 1), ((1, 5.8, 4.0, 1.2, 0.2), 1), ((1, 5.7, 4.4, 1.5, 0.4), 1), ((1, 5.4, 3.9, 1.3, 0.4), 1), ((1, 5.1, 3.5, 1.4, 0.3), 1), ((1, 5.7, 3.8, 1.7, 0.3), 1), ((1, 5.1, 3.8, 1.5, 0.3), 1), ((1, 5.4, 3.4, 1.7, 0.2), 1), ((1, 5.1, 3.7, 1.5, 0.4), 1), ((1, 4.6, 3.6, 1.0, 0.2), 1), ((1, 5.1, 3.3, 1.7, 0.5), 1), ((1, 4.8, 3.4, 1.9, 0.2), 1), ((1, 5.0, 3.0, 1.6, 0.2), 1), ((1, 5.0, 3.4, 1.6, 0.4), 1), ((1, 5.2, 3.5, 1.5, 0.2), 1), ((1, 5.2, 3.4, 1.4, 0.2), 1), ((1, 4.7, 3.2, 1.6, 0.2), 1), ((1, 4.8, 3.1, 1.6, 0.2), 1), ((1, 5.4, 3.4, 1.5, 0.4), 1), ((1, 5.2, 4.1, 1.5, 0.1), 1), ((1, 5.5, 4.2, 1.4, 0.2), 1), ((1, 4.9, 3.1, 1.5, 0.1), 1), ((1, 5.0, 3.2, 1.2, 0.2), 1), ((1, 5.5, 3.5, 1.3, 0.2), 1), ((1, 4.9, 3.1, 1.5, 0.1), 1), ((1, 4.4, 3.0, 1.3, 0.2), 1), ((1, 5.1, 3.4, 1.5, 0.2), 1), ((1, 5.0, 3.5, 1.3, 0.3), 1), ((1, 4.5, 2.3, 1.3, 0.3), 1), ((1, 4.4, 3.2, 1.3, 0.2), 1), ((1, 5.0, 3.5, 1.6, 0.6), 1), ((1, 5.1, 3.8, 1.9, 0.4), 1), ((1, 4.8, 3.0, 1.4, 0.3), 1), ((1, 5.1, 3.8, 1.6, 0.2), 1), ((1, 4.6, 3.2, 1.4, 0.2), 1), ((1, 5.3, 3.7, 1.5, 0.2), 1), ((1, 5.0, 3.3, 1.4, 0.2), 1), ((1, 7.0, 3.2, 4.7, 1.4), 0), ((1, 6.4, 3.2, 4.5, 1.5), 0), ((1, 6.9, 3.1, 4.9, 1.5), 0), ((1, 5.5, 2.3, 4.0, 1.3), 0), ((1, 6.5, 2.8, 4.6, 1.5), 0), ((1, 5.7, 2.8, 4.5, 1.3), 0), ((1, 6.3, 3.3, 4.7, 1.6), 0), ((1, 4.9, 2.4, 3.3, 1.0), 0), ((1, 6.6, 2.9, 4.6, 1.3), 0), ((1, 5.2, 2.7, 3.9, 1.4), 0), ((1, 5.0, 2.0, 3.5, 1.0), 0), ((1, 5.9, 3.0, 4.2, 1.5), 0), ((1, 6.0, 2.2, 4.0, 1.0), 0), ((1, 6.1, 2.9, 4.7, 1.4), 0), ((1, 5.6, 2.9, 3.6, 1.3), 0), ((1, 6.7, 3.1, 4.4, 1.4), 0), ((1, 5.6, 3.0, 4.5, 1.5), 0), ((1, 5.8, 2.7, 4.1, 1.0), 0), ((1, 6.2, 2.2, 4.5, 1.5), 0), ((1, 5.6, 2.5, 3.9, 1.1), 0), ((1, 5.9, 3.2, 4.8, 1.8), 0), ((1, 6.1, 2.8, 4.0, 1.3), 0), ((1, 6.3, 2.5, 4.9, 1.5), 0), ((1, 6.1, 2.8, 4.7, 1.2), 0), ((1, 6.4, 2.9, 4.3, 1.3), 0), ((1, 6.6, 3.0, 4.4, 1.4), 0), ((1, 6.8, 2.8, 4.8, 1.4), 0), ((1, 6.7, 3.0, 5.0, 1.7), 0), ((1, 6.0, 2.9, 4.5, 1.5), 0), ((1, 5.7, 2.6, 3.5, 1.0), 0), ((1, 5.5, 2.4, 3.8, 1.1), 0), ((1, 5.5, 2.4, 3.7, 1.0), 0), ((1, 5.8, 2.7, 3.9, 1.2), 0), ((1, 6.0, 2.7, 5.1, 1.6), 0), ((1, 5.4, 3.0, 4.5, 1.5), 0), ((1, 6.0, 3.4, 4.5, 1.6), 0), ((1, 6.7, 3.1, 4.7, 1.5), 0), ((1, 6.3, 2.3, 4.4, 1.3), 0), ((1, 5.6, 3.0, 4.1, 1.3), 0), ((1, 5.5, 2.5, 4.0, 1.3), 0), ((1, 5.5, 2.6, 4.4, 1.2), 0), ((1, 6.1, 3.0, 4.6, 1.4), 0), ((1, 5.8, 2.6, 4.0, 1.2), 0), ((1, 5.0, 2.3, 3.3, 1.0), 0), ((1, 5.6, 2.7, 4.2, 1.3), 0), ((1, 5.7, 3.0, 4.2, 1.2), 0), ((1, 5.7, 2.9, 4.2, 1.3), 0), ((1, 6.2, 2.9, 4.3, 1.3), 0), ((1, 5.1, 2.5, 3.0, 1.1), 0), ((1, 5.7, 2.8, 4.1, 1.3), 0), ((1, 6.3, 3.3, 6.0, 2.5), 0), ((1, 5.8, 2.7, 5.1, 1.9), 0), ((1, 7.1, 3.0, 5.9, 2.1), 0), ((1, 6.3, 2.9, 5.6, 1.8), 0), ((1, 6.5, 3.0, 5.8, 2.2), 0), ((1, 7.6, 3.0, 6.6, 2.1), 0), ((1, 4.9, 2.5, 4.5, 1.7), 0), ((1, 7.3, 2.9, 6.3, 1.8), 0), ((1, 6.7, 2.5, 5.8, 1.8), 0), ((1, 7.2, 3.6, 6.1, 2.5), 0), ((1, 6.5, 3.2, 5.1, 2.0), 0), ((1, 6.4, 2.7, 5.3, 1.9), 0), ((1, 6.8, 3.0, 5.5, 2.1), 0), ((1, 5.7, 2.5, 5.0, 2.0), 0), ((1, 5.8, 2.8, 5.1, 2.4), 0), ((1, 6.4, 3.2, 5.3, 2.3), 0), ((1, 6.5, 3.0, 5.5, 1.8), 0), ((1, 7.7, 3.8, 6.7, 2.2), 0), ((1, 7.7, 2.6, 6.9, 2.3), 0), ((1, 6.0, 2.2, 5.0, 1.5), 0), ((1, 6.9, 3.2, 5.7, 2.3), 0), ((1, 5.6, 2.8, 4.9, 2.0), 0), ((1, 7.7, 2.8, 6.7, 2.0), 0), ((1, 6.3, 2.7, 4.9, 1.8), 0), ((1, 6.7, 3.3, 5.7, 2.1), 0), ((1, 7.2, 3.2, 6.0, 1.8), 0), ((1, 6.2, 2.8, 4.8, 1.8), 0), ((1, 6.1, 3.0, 4.9, 1.8), 0), ((1, 6.4, 2.8, 5.6, 2.1), 0), ((1, 7.2, 3.0, 5.8, 1.6), 0), ((1, 7.4, 2.8, 6.1, 1.9), 0), ((1, 7.9, 3.8, 6.4, 2.0), 0), ((1, 6.4, 2.8, 5.6, 2.2), 0), ((1, 6.3, 2.8, 5.1, 1.5), 0), ((1, 6.1, 2.6, 5.6, 1.4), 0), ((1, 7.7, 3.0, 6.1, 2.3), 0), ((1, 6.3, 3.4, 5.6, 2.4), 0), ((1, 6.4, 3.1, 5.5, 1.8), 0), ((1, 6.0, 3.0, 4.8, 1.8), 0), ((1, 6.9, 3.1, 5.4, 2.1), 0), ((1, 6.7, 3.1, 5.6, 2.4), 0), ((1, 6.9, 3.1, 5.1, 2.3), 0), ((1, 5.8, 2.7, 5.1, 1.9), 0), ((1, 6.8, 3.2, 5.9, 2.3), 0), ((1, 6.7, 3.3, 5.7, 2.5), 0), ((1, 6.7, 3.0, 5.2, 2.3), 0), ((1, 6.3, 2.5, 5.0, 1.9), 0), ((1, 6.5, 3.0, 5.2, 2.0), 0), ((1, 6.2, 3.4, 5.4, 2.3), 0), ((1, 5.9, 3.0, 5.1, 1.8), 0)]\n"
          ]
        }
      ]
    },
    {
      "cell_type": "code",
      "metadata": {
        "colab": {
          "base_uri": "https://localhost:8080/"
        },
        "id": "mo_93n0YzaV5",
        "outputId": "05a4d416-aff3-468d-d5e4-2af0a17fdaad"
      },
      "source": [
        "dataversicolor = [((1,x1,x2,x3,x4), Class) for (x1,x2,x3,x4, Class) in data] #convert to a tuple like we did for the training data\n",
        "dataversicolor = [(x,1) if Class == 'Iris-versicolor' else (x,0) for (x,Class) in dataversicolor] # set versicolor to 1 anything else to 0\n",
        "print(dataversicolor)"
      ],
      "execution_count": 1565,
      "outputs": [
        {
          "output_type": "stream",
          "name": "stdout",
          "text": [
            "[((1, 5.1, 3.5, 1.4, 0.2), 0), ((1, 4.9, 3.0, 1.4, 0.2), 0), ((1, 4.7, 3.2, 1.3, 0.2), 0), ((1, 4.6, 3.1, 1.5, 0.2), 0), ((1, 5.0, 3.6, 1.4, 0.2), 0), ((1, 5.4, 3.9, 1.7, 0.4), 0), ((1, 4.6, 3.4, 1.4, 0.3), 0), ((1, 5.0, 3.4, 1.5, 0.2), 0), ((1, 4.4, 2.9, 1.4, 0.2), 0), ((1, 4.9, 3.1, 1.5, 0.1), 0), ((1, 5.4, 3.7, 1.5, 0.2), 0), ((1, 4.8, 3.4, 1.6, 0.2), 0), ((1, 4.8, 3.0, 1.4, 0.1), 0), ((1, 4.3, 3.0, 1.1, 0.1), 0), ((1, 5.8, 4.0, 1.2, 0.2), 0), ((1, 5.7, 4.4, 1.5, 0.4), 0), ((1, 5.4, 3.9, 1.3, 0.4), 0), ((1, 5.1, 3.5, 1.4, 0.3), 0), ((1, 5.7, 3.8, 1.7, 0.3), 0), ((1, 5.1, 3.8, 1.5, 0.3), 0), ((1, 5.4, 3.4, 1.7, 0.2), 0), ((1, 5.1, 3.7, 1.5, 0.4), 0), ((1, 4.6, 3.6, 1.0, 0.2), 0), ((1, 5.1, 3.3, 1.7, 0.5), 0), ((1, 4.8, 3.4, 1.9, 0.2), 0), ((1, 5.0, 3.0, 1.6, 0.2), 0), ((1, 5.0, 3.4, 1.6, 0.4), 0), ((1, 5.2, 3.5, 1.5, 0.2), 0), ((1, 5.2, 3.4, 1.4, 0.2), 0), ((1, 4.7, 3.2, 1.6, 0.2), 0), ((1, 4.8, 3.1, 1.6, 0.2), 0), ((1, 5.4, 3.4, 1.5, 0.4), 0), ((1, 5.2, 4.1, 1.5, 0.1), 0), ((1, 5.5, 4.2, 1.4, 0.2), 0), ((1, 4.9, 3.1, 1.5, 0.1), 0), ((1, 5.0, 3.2, 1.2, 0.2), 0), ((1, 5.5, 3.5, 1.3, 0.2), 0), ((1, 4.9, 3.1, 1.5, 0.1), 0), ((1, 4.4, 3.0, 1.3, 0.2), 0), ((1, 5.1, 3.4, 1.5, 0.2), 0), ((1, 5.0, 3.5, 1.3, 0.3), 0), ((1, 4.5, 2.3, 1.3, 0.3), 0), ((1, 4.4, 3.2, 1.3, 0.2), 0), ((1, 5.0, 3.5, 1.6, 0.6), 0), ((1, 5.1, 3.8, 1.9, 0.4), 0), ((1, 4.8, 3.0, 1.4, 0.3), 0), ((1, 5.1, 3.8, 1.6, 0.2), 0), ((1, 4.6, 3.2, 1.4, 0.2), 0), ((1, 5.3, 3.7, 1.5, 0.2), 0), ((1, 5.0, 3.3, 1.4, 0.2), 0), ((1, 7.0, 3.2, 4.7, 1.4), 1), ((1, 6.4, 3.2, 4.5, 1.5), 1), ((1, 6.9, 3.1, 4.9, 1.5), 1), ((1, 5.5, 2.3, 4.0, 1.3), 1), ((1, 6.5, 2.8, 4.6, 1.5), 1), ((1, 5.7, 2.8, 4.5, 1.3), 1), ((1, 6.3, 3.3, 4.7, 1.6), 1), ((1, 4.9, 2.4, 3.3, 1.0), 1), ((1, 6.6, 2.9, 4.6, 1.3), 1), ((1, 5.2, 2.7, 3.9, 1.4), 1), ((1, 5.0, 2.0, 3.5, 1.0), 1), ((1, 5.9, 3.0, 4.2, 1.5), 1), ((1, 6.0, 2.2, 4.0, 1.0), 1), ((1, 6.1, 2.9, 4.7, 1.4), 1), ((1, 5.6, 2.9, 3.6, 1.3), 1), ((1, 6.7, 3.1, 4.4, 1.4), 1), ((1, 5.6, 3.0, 4.5, 1.5), 1), ((1, 5.8, 2.7, 4.1, 1.0), 1), ((1, 6.2, 2.2, 4.5, 1.5), 1), ((1, 5.6, 2.5, 3.9, 1.1), 1), ((1, 5.9, 3.2, 4.8, 1.8), 1), ((1, 6.1, 2.8, 4.0, 1.3), 1), ((1, 6.3, 2.5, 4.9, 1.5), 1), ((1, 6.1, 2.8, 4.7, 1.2), 1), ((1, 6.4, 2.9, 4.3, 1.3), 1), ((1, 6.6, 3.0, 4.4, 1.4), 1), ((1, 6.8, 2.8, 4.8, 1.4), 1), ((1, 6.7, 3.0, 5.0, 1.7), 1), ((1, 6.0, 2.9, 4.5, 1.5), 1), ((1, 5.7, 2.6, 3.5, 1.0), 1), ((1, 5.5, 2.4, 3.8, 1.1), 1), ((1, 5.5, 2.4, 3.7, 1.0), 1), ((1, 5.8, 2.7, 3.9, 1.2), 1), ((1, 6.0, 2.7, 5.1, 1.6), 1), ((1, 5.4, 3.0, 4.5, 1.5), 1), ((1, 6.0, 3.4, 4.5, 1.6), 1), ((1, 6.7, 3.1, 4.7, 1.5), 1), ((1, 6.3, 2.3, 4.4, 1.3), 1), ((1, 5.6, 3.0, 4.1, 1.3), 1), ((1, 5.5, 2.5, 4.0, 1.3), 1), ((1, 5.5, 2.6, 4.4, 1.2), 1), ((1, 6.1, 3.0, 4.6, 1.4), 1), ((1, 5.8, 2.6, 4.0, 1.2), 1), ((1, 5.0, 2.3, 3.3, 1.0), 1), ((1, 5.6, 2.7, 4.2, 1.3), 1), ((1, 5.7, 3.0, 4.2, 1.2), 1), ((1, 5.7, 2.9, 4.2, 1.3), 1), ((1, 6.2, 2.9, 4.3, 1.3), 1), ((1, 5.1, 2.5, 3.0, 1.1), 1), ((1, 5.7, 2.8, 4.1, 1.3), 1), ((1, 6.3, 3.3, 6.0, 2.5), 0), ((1, 5.8, 2.7, 5.1, 1.9), 0), ((1, 7.1, 3.0, 5.9, 2.1), 0), ((1, 6.3, 2.9, 5.6, 1.8), 0), ((1, 6.5, 3.0, 5.8, 2.2), 0), ((1, 7.6, 3.0, 6.6, 2.1), 0), ((1, 4.9, 2.5, 4.5, 1.7), 0), ((1, 7.3, 2.9, 6.3, 1.8), 0), ((1, 6.7, 2.5, 5.8, 1.8), 0), ((1, 7.2, 3.6, 6.1, 2.5), 0), ((1, 6.5, 3.2, 5.1, 2.0), 0), ((1, 6.4, 2.7, 5.3, 1.9), 0), ((1, 6.8, 3.0, 5.5, 2.1), 0), ((1, 5.7, 2.5, 5.0, 2.0), 0), ((1, 5.8, 2.8, 5.1, 2.4), 0), ((1, 6.4, 3.2, 5.3, 2.3), 0), ((1, 6.5, 3.0, 5.5, 1.8), 0), ((1, 7.7, 3.8, 6.7, 2.2), 0), ((1, 7.7, 2.6, 6.9, 2.3), 0), ((1, 6.0, 2.2, 5.0, 1.5), 0), ((1, 6.9, 3.2, 5.7, 2.3), 0), ((1, 5.6, 2.8, 4.9, 2.0), 0), ((1, 7.7, 2.8, 6.7, 2.0), 0), ((1, 6.3, 2.7, 4.9, 1.8), 0), ((1, 6.7, 3.3, 5.7, 2.1), 0), ((1, 7.2, 3.2, 6.0, 1.8), 0), ((1, 6.2, 2.8, 4.8, 1.8), 0), ((1, 6.1, 3.0, 4.9, 1.8), 0), ((1, 6.4, 2.8, 5.6, 2.1), 0), ((1, 7.2, 3.0, 5.8, 1.6), 0), ((1, 7.4, 2.8, 6.1, 1.9), 0), ((1, 7.9, 3.8, 6.4, 2.0), 0), ((1, 6.4, 2.8, 5.6, 2.2), 0), ((1, 6.3, 2.8, 5.1, 1.5), 0), ((1, 6.1, 2.6, 5.6, 1.4), 0), ((1, 7.7, 3.0, 6.1, 2.3), 0), ((1, 6.3, 3.4, 5.6, 2.4), 0), ((1, 6.4, 3.1, 5.5, 1.8), 0), ((1, 6.0, 3.0, 4.8, 1.8), 0), ((1, 6.9, 3.1, 5.4, 2.1), 0), ((1, 6.7, 3.1, 5.6, 2.4), 0), ((1, 6.9, 3.1, 5.1, 2.3), 0), ((1, 5.8, 2.7, 5.1, 1.9), 0), ((1, 6.8, 3.2, 5.9, 2.3), 0), ((1, 6.7, 3.3, 5.7, 2.5), 0), ((1, 6.7, 3.0, 5.2, 2.3), 0), ((1, 6.3, 2.5, 5.0, 1.9), 0), ((1, 6.5, 3.0, 5.2, 2.0), 0), ((1, 6.2, 3.4, 5.4, 2.3), 0), ((1, 5.9, 3.0, 5.1, 1.8), 0)]\n"
          ]
        }
      ]
    },
    {
      "cell_type": "code",
      "metadata": {
        "colab": {
          "base_uri": "https://localhost:8080/"
        },
        "id": "lxvIzEKazcLO",
        "outputId": "1ed535d4-70d4-4649-9792-4b074d322635"
      },
      "source": [
        "dataVirginica = [((1,x1,x2,x3,x4), Class) for (x1,x2,x3,x4, Class) in data] #convert to a tuple like we did for the training data\n",
        "dataVirginica = [(x,1) if Class == 'Iris-virginica' else (x,0) for (x,Class) in dataVirginica] # set virginica to 1 anything else to 0\n",
        "print(dataVirginica)"
      ],
      "execution_count": 1566,
      "outputs": [
        {
          "output_type": "stream",
          "name": "stdout",
          "text": [
            "[((1, 5.1, 3.5, 1.4, 0.2), 0), ((1, 4.9, 3.0, 1.4, 0.2), 0), ((1, 4.7, 3.2, 1.3, 0.2), 0), ((1, 4.6, 3.1, 1.5, 0.2), 0), ((1, 5.0, 3.6, 1.4, 0.2), 0), ((1, 5.4, 3.9, 1.7, 0.4), 0), ((1, 4.6, 3.4, 1.4, 0.3), 0), ((1, 5.0, 3.4, 1.5, 0.2), 0), ((1, 4.4, 2.9, 1.4, 0.2), 0), ((1, 4.9, 3.1, 1.5, 0.1), 0), ((1, 5.4, 3.7, 1.5, 0.2), 0), ((1, 4.8, 3.4, 1.6, 0.2), 0), ((1, 4.8, 3.0, 1.4, 0.1), 0), ((1, 4.3, 3.0, 1.1, 0.1), 0), ((1, 5.8, 4.0, 1.2, 0.2), 0), ((1, 5.7, 4.4, 1.5, 0.4), 0), ((1, 5.4, 3.9, 1.3, 0.4), 0), ((1, 5.1, 3.5, 1.4, 0.3), 0), ((1, 5.7, 3.8, 1.7, 0.3), 0), ((1, 5.1, 3.8, 1.5, 0.3), 0), ((1, 5.4, 3.4, 1.7, 0.2), 0), ((1, 5.1, 3.7, 1.5, 0.4), 0), ((1, 4.6, 3.6, 1.0, 0.2), 0), ((1, 5.1, 3.3, 1.7, 0.5), 0), ((1, 4.8, 3.4, 1.9, 0.2), 0), ((1, 5.0, 3.0, 1.6, 0.2), 0), ((1, 5.0, 3.4, 1.6, 0.4), 0), ((1, 5.2, 3.5, 1.5, 0.2), 0), ((1, 5.2, 3.4, 1.4, 0.2), 0), ((1, 4.7, 3.2, 1.6, 0.2), 0), ((1, 4.8, 3.1, 1.6, 0.2), 0), ((1, 5.4, 3.4, 1.5, 0.4), 0), ((1, 5.2, 4.1, 1.5, 0.1), 0), ((1, 5.5, 4.2, 1.4, 0.2), 0), ((1, 4.9, 3.1, 1.5, 0.1), 0), ((1, 5.0, 3.2, 1.2, 0.2), 0), ((1, 5.5, 3.5, 1.3, 0.2), 0), ((1, 4.9, 3.1, 1.5, 0.1), 0), ((1, 4.4, 3.0, 1.3, 0.2), 0), ((1, 5.1, 3.4, 1.5, 0.2), 0), ((1, 5.0, 3.5, 1.3, 0.3), 0), ((1, 4.5, 2.3, 1.3, 0.3), 0), ((1, 4.4, 3.2, 1.3, 0.2), 0), ((1, 5.0, 3.5, 1.6, 0.6), 0), ((1, 5.1, 3.8, 1.9, 0.4), 0), ((1, 4.8, 3.0, 1.4, 0.3), 0), ((1, 5.1, 3.8, 1.6, 0.2), 0), ((1, 4.6, 3.2, 1.4, 0.2), 0), ((1, 5.3, 3.7, 1.5, 0.2), 0), ((1, 5.0, 3.3, 1.4, 0.2), 0), ((1, 7.0, 3.2, 4.7, 1.4), 0), ((1, 6.4, 3.2, 4.5, 1.5), 0), ((1, 6.9, 3.1, 4.9, 1.5), 0), ((1, 5.5, 2.3, 4.0, 1.3), 0), ((1, 6.5, 2.8, 4.6, 1.5), 0), ((1, 5.7, 2.8, 4.5, 1.3), 0), ((1, 6.3, 3.3, 4.7, 1.6), 0), ((1, 4.9, 2.4, 3.3, 1.0), 0), ((1, 6.6, 2.9, 4.6, 1.3), 0), ((1, 5.2, 2.7, 3.9, 1.4), 0), ((1, 5.0, 2.0, 3.5, 1.0), 0), ((1, 5.9, 3.0, 4.2, 1.5), 0), ((1, 6.0, 2.2, 4.0, 1.0), 0), ((1, 6.1, 2.9, 4.7, 1.4), 0), ((1, 5.6, 2.9, 3.6, 1.3), 0), ((1, 6.7, 3.1, 4.4, 1.4), 0), ((1, 5.6, 3.0, 4.5, 1.5), 0), ((1, 5.8, 2.7, 4.1, 1.0), 0), ((1, 6.2, 2.2, 4.5, 1.5), 0), ((1, 5.6, 2.5, 3.9, 1.1), 0), ((1, 5.9, 3.2, 4.8, 1.8), 0), ((1, 6.1, 2.8, 4.0, 1.3), 0), ((1, 6.3, 2.5, 4.9, 1.5), 0), ((1, 6.1, 2.8, 4.7, 1.2), 0), ((1, 6.4, 2.9, 4.3, 1.3), 0), ((1, 6.6, 3.0, 4.4, 1.4), 0), ((1, 6.8, 2.8, 4.8, 1.4), 0), ((1, 6.7, 3.0, 5.0, 1.7), 0), ((1, 6.0, 2.9, 4.5, 1.5), 0), ((1, 5.7, 2.6, 3.5, 1.0), 0), ((1, 5.5, 2.4, 3.8, 1.1), 0), ((1, 5.5, 2.4, 3.7, 1.0), 0), ((1, 5.8, 2.7, 3.9, 1.2), 0), ((1, 6.0, 2.7, 5.1, 1.6), 0), ((1, 5.4, 3.0, 4.5, 1.5), 0), ((1, 6.0, 3.4, 4.5, 1.6), 0), ((1, 6.7, 3.1, 4.7, 1.5), 0), ((1, 6.3, 2.3, 4.4, 1.3), 0), ((1, 5.6, 3.0, 4.1, 1.3), 0), ((1, 5.5, 2.5, 4.0, 1.3), 0), ((1, 5.5, 2.6, 4.4, 1.2), 0), ((1, 6.1, 3.0, 4.6, 1.4), 0), ((1, 5.8, 2.6, 4.0, 1.2), 0), ((1, 5.0, 2.3, 3.3, 1.0), 0), ((1, 5.6, 2.7, 4.2, 1.3), 0), ((1, 5.7, 3.0, 4.2, 1.2), 0), ((1, 5.7, 2.9, 4.2, 1.3), 0), ((1, 6.2, 2.9, 4.3, 1.3), 0), ((1, 5.1, 2.5, 3.0, 1.1), 0), ((1, 5.7, 2.8, 4.1, 1.3), 0), ((1, 6.3, 3.3, 6.0, 2.5), 1), ((1, 5.8, 2.7, 5.1, 1.9), 1), ((1, 7.1, 3.0, 5.9, 2.1), 1), ((1, 6.3, 2.9, 5.6, 1.8), 1), ((1, 6.5, 3.0, 5.8, 2.2), 1), ((1, 7.6, 3.0, 6.6, 2.1), 1), ((1, 4.9, 2.5, 4.5, 1.7), 1), ((1, 7.3, 2.9, 6.3, 1.8), 1), ((1, 6.7, 2.5, 5.8, 1.8), 1), ((1, 7.2, 3.6, 6.1, 2.5), 1), ((1, 6.5, 3.2, 5.1, 2.0), 1), ((1, 6.4, 2.7, 5.3, 1.9), 1), ((1, 6.8, 3.0, 5.5, 2.1), 1), ((1, 5.7, 2.5, 5.0, 2.0), 1), ((1, 5.8, 2.8, 5.1, 2.4), 1), ((1, 6.4, 3.2, 5.3, 2.3), 1), ((1, 6.5, 3.0, 5.5, 1.8), 1), ((1, 7.7, 3.8, 6.7, 2.2), 1), ((1, 7.7, 2.6, 6.9, 2.3), 1), ((1, 6.0, 2.2, 5.0, 1.5), 1), ((1, 6.9, 3.2, 5.7, 2.3), 1), ((1, 5.6, 2.8, 4.9, 2.0), 1), ((1, 7.7, 2.8, 6.7, 2.0), 1), ((1, 6.3, 2.7, 4.9, 1.8), 1), ((1, 6.7, 3.3, 5.7, 2.1), 1), ((1, 7.2, 3.2, 6.0, 1.8), 1), ((1, 6.2, 2.8, 4.8, 1.8), 1), ((1, 6.1, 3.0, 4.9, 1.8), 1), ((1, 6.4, 2.8, 5.6, 2.1), 1), ((1, 7.2, 3.0, 5.8, 1.6), 1), ((1, 7.4, 2.8, 6.1, 1.9), 1), ((1, 7.9, 3.8, 6.4, 2.0), 1), ((1, 6.4, 2.8, 5.6, 2.2), 1), ((1, 6.3, 2.8, 5.1, 1.5), 1), ((1, 6.1, 2.6, 5.6, 1.4), 1), ((1, 7.7, 3.0, 6.1, 2.3), 1), ((1, 6.3, 3.4, 5.6, 2.4), 1), ((1, 6.4, 3.1, 5.5, 1.8), 1), ((1, 6.0, 3.0, 4.8, 1.8), 1), ((1, 6.9, 3.1, 5.4, 2.1), 1), ((1, 6.7, 3.1, 5.6, 2.4), 1), ((1, 6.9, 3.1, 5.1, 2.3), 1), ((1, 5.8, 2.7, 5.1, 1.9), 1), ((1, 6.8, 3.2, 5.9, 2.3), 1), ((1, 6.7, 3.3, 5.7, 2.5), 1), ((1, 6.7, 3.0, 5.2, 2.3), 1), ((1, 6.3, 2.5, 5.0, 1.9), 1), ((1, 6.5, 3.0, 5.2, 2.0), 1), ((1, 6.2, 3.4, 5.4, 2.3), 1), ((1, 5.9, 3.0, 5.1, 1.8), 1)]\n"
          ]
        }
      ]
    },
    {
      "cell_type": "markdown",
      "metadata": {
        "id": "yFBGRZVizkJR"
      },
      "source": [
        "Logistic Regression Squared Error"
      ]
    },
    {
      "cell_type": "markdown",
      "metadata": {
        "id": "PjxgfrzNDqvf"
      },
      "source": [
        "Setosa Squared Error"
      ]
    },
    {
      "cell_type": "code",
      "metadata": {
        "colab": {
          "base_uri": "https://localhost:8080/"
        },
        "id": "ewtoFucFJPBE",
        "outputId": "6fe61f36-4713-46d1-ba75-a45cc399b452"
      },
      "source": [
        "modelSetosaSE = LogisticRegressionSquaredError(alpha, model, dataSetosa, num_iter)\n",
        "print(modelSetosaSE) "
      ],
      "execution_count": 1567,
      "outputs": [
        {
          "output_type": "stream",
          "name": "stdout",
          "text": [
            "[0.10835009637265333, 0.16684230349561235, 0.5663654663429504, -0.9075829756376134, -0.41109892826988015]\n"
          ]
        }
      ]
    },
    {
      "cell_type": "markdown",
      "metadata": {
        "id": "484w0nL5Du3U"
      },
      "source": [
        "Versicolor Squared Error"
      ]
    },
    {
      "cell_type": "code",
      "metadata": {
        "colab": {
          "base_uri": "https://localhost:8080/"
        },
        "id": "6m3n8RX4byJt",
        "outputId": "e5156e4e-af88-411b-8e26-5566de455790"
      },
      "source": [
        "modelVersicolorSE = LogisticRegressionSquaredError(alpha, model, dataversicolor, num_iter)\n",
        "print(modelVersicolorSE) "
      ],
      "execution_count": 1568,
      "outputs": [
        {
          "output_type": "stream",
          "name": "stdout",
          "text": [
            "[-0.000454853495057853, -0.046235691302292235, -0.24096232401756487, 0.11298421072466755, -0.05534933974116842]\n"
          ]
        }
      ]
    },
    {
      "cell_type": "markdown",
      "metadata": {
        "id": "hG4Vrv3UDyRr"
      },
      "source": [
        "Virginica Squared Error"
      ]
    },
    {
      "cell_type": "code",
      "metadata": {
        "colab": {
          "base_uri": "https://localhost:8080/"
        },
        "id": "be9wHplrcQs1",
        "outputId": "969fd608-3b7e-4ca9-c4f4-73e223c9a7b9"
      },
      "source": [
        "modelVirginicaSE = LogisticRegressionSquaredError(alpha, model, dataVirginica, num_iter)\n",
        "print(modelVirginicaSE) "
      ],
      "execution_count": 1569,
      "outputs": [
        {
          "output_type": "stream",
          "name": "stdout",
          "text": [
            "[-0.14914697239626276, -0.35566516994230934, -0.5697589978613641, 0.7075574611547041, 0.3731145609874383]\n"
          ]
        }
      ]
    },
    {
      "cell_type": "markdown",
      "metadata": {
        "id": "JXnur9wAzeZ7"
      },
      "source": [
        "Logistic Regression Cross Entropy"
      ]
    },
    {
      "cell_type": "markdown",
      "metadata": {
        "id": "RcVQn4riD2G9"
      },
      "source": [
        "Setosa Cross Entropy"
      ]
    },
    {
      "cell_type": "code",
      "metadata": {
        "colab": {
          "base_uri": "https://localhost:8080/"
        },
        "id": "ttLU4RlGRSHm",
        "outputId": "12a2e054-93f0-400a-fc33-4d71c703a188"
      },
      "source": [
        "modelSetosaCE = LogisticRegressionCrossEntropy(alpha, model, dataSetosa, num_iter)\n",
        "print(modelSetosaCE) "
      ],
      "execution_count": 1570,
      "outputs": [
        {
          "output_type": "stream",
          "name": "stdout",
          "text": [
            "[0.14851581804396025, 0.23845540078085847, 0.8885298592615436, -1.3914919149961809, -0.6049654845487218]\n"
          ]
        }
      ]
    },
    {
      "cell_type": "markdown",
      "metadata": {
        "id": "3ycKJZTDEA5s"
      },
      "source": [
        "Versicolor Cross Entropy"
      ]
    },
    {
      "cell_type": "code",
      "metadata": {
        "colab": {
          "base_uri": "https://localhost:8080/"
        },
        "id": "f5iWAc3Lb5Yw",
        "outputId": "7ecf9411-1763-43d2-ddb0-f8a23bcb12be"
      },
      "source": [
        "modelVersicolorCE = LogisticRegressionCrossEntropy(alpha, model, dataversicolor, num_iter)\n",
        "print(modelVersicolorCE) "
      ],
      "execution_count": 1571,
      "outputs": [
        {
          "output_type": "stream",
          "name": "stdout",
          "text": [
            "[0.007191742285910076, -0.04218545845526328, -0.5164129309170928, 0.30586086244409, -0.10265104898123838]\n"
          ]
        }
      ]
    },
    {
      "cell_type": "markdown",
      "metadata": {
        "id": "D4poyOkMD56w"
      },
      "source": [
        "Virginica Cross Entropy"
      ]
    },
    {
      "cell_type": "code",
      "metadata": {
        "colab": {
          "base_uri": "https://localhost:8080/"
        },
        "id": "vE91nqPlcQs1",
        "outputId": "739c1271-9680-42cc-e95f-bfbeb83036be"
      },
      "source": [
        "modelVirginicaCE = LogisticRegressionCrossEntropy(alpha, model, dataVirginica, num_iter)\n",
        "print(modelVirginicaCE) "
      ],
      "execution_count": 1572,
      "outputs": [
        {
          "output_type": "stream",
          "name": "stdout",
          "text": [
            "[-0.24455092308295648, -0.589143610588842, -1.0001365223592351, 1.2008016706690294, 0.6089087411074243]\n"
          ]
        }
      ]
    },
    {
      "cell_type": "markdown",
      "metadata": {
        "id": "CExzx7hFq_kX"
      },
      "source": [
        "# Logistic Regression using sklearn"
      ]
    },
    {
      "cell_type": "code",
      "metadata": {
        "id": "8jk-EkkPRSOy"
      },
      "source": [
        "data = sns.load_dataset(\"iris\")# X = feature values, all the columns except the last column\n",
        "X = data.iloc[:, :-1]\n",
        "\n",
        "# y = target values, last column of the data frame\n",
        "y = data.iloc[:, -1]"
      ],
      "execution_count": 1573,
      "outputs": []
    },
    {
      "cell_type": "code",
      "metadata": {
        "colab": {
          "base_uri": "https://localhost:8080/",
          "height": 279
        },
        "id": "JDaLY_BTz5W1",
        "outputId": "a6bb8579-82f8-40dc-c071-fe9806d9ede8"
      },
      "source": [
        "plt.xlabel('Features') # demonstrated from https://randerson112358.medium.com/python-logistic-regression-program-5e1b32f964db\n",
        "plt.ylabel('Species')\n",
        "\n",
        "pltX = data.loc[:, 'sepal_length']\n",
        "pltY = data.loc[:,'species']\n",
        "plt.scatter(pltX, pltY, color='blue', label='sepal_length')\n",
        "\n",
        "pltX = data.loc[:, 'sepal_width']\n",
        "pltY = data.loc[:,'species']\n",
        "plt.scatter(pltX, pltY, color='green', label='sepal_width')\n",
        "\n",
        "pltX = data.loc[:, 'petal_length']\n",
        "pltY = data.loc[:,'species']\n",
        "plt.scatter(pltX, pltY, color='red', label='petal_length')\n",
        "\n",
        "pltX = data.loc[:, 'petal_width']\n",
        "pltY = data.loc[:,'species']\n",
        "plt.scatter(pltX, pltY, color='black', label='petal_width')\n",
        "\n",
        "plt.legend(loc=4, prop={'size':8})\n",
        "plt.show()"
      ],
      "execution_count": 1574,
      "outputs": [
        {
          "output_type": "display_data",
          "data": {
            "image/png": "[encoded data removed]",
            "text/plain": [
              "<Figure size 432x288 with 1 Axes>"
            ]
          },
          "metadata": {
            "needs_background": "light"
          }
        }
      ]
    },
    {
      "cell_type": "code",
      "metadata": {
        "id": "_zUkmIFpRoXl"
      },
      "source": [
        "x_train, x_test, y_train, y_test = train_test_split(X, y, test_size=0.2, random_state=42)"
      ],
      "execution_count": 1575,
      "outputs": []
    },
    {
      "cell_type": "code",
      "metadata": {
        "colab": {
          "base_uri": "https://localhost:8080/"
        },
        "id": "S_Ku_ySYRpDT",
        "outputId": "121aa02c-6882-4e75-b0fb-fc24917a4f09"
      },
      "source": [
        "#Train the model\n",
        "model = LogisticRegression()\n",
        "model.fit(x_train, y_train) #Training the model"
      ],
      "execution_count": 1576,
      "outputs": [
        {
          "output_type": "stream",
          "name": "stderr",
          "text": [
            "/usr/local/lib/python3.7/dist-packages/sklearn/linear_model/_logistic.py:940: ConvergenceWarning: lbfgs failed to converge (status=1):\n",
            "STOP: TOTAL NO. of ITERATIONS REACHED LIMIT.\n",
            "\n",
            "Increase the number of iterations (max_iter) or scale the data as shown in:\n",
            "    https://scikit-learn.org/stable/modules/preprocessing.html\n",
            "Please also refer to the documentation for alternative solver options:\n",
            "    https://scikit-learn.org/stable/modules/linear_model.html#logistic-regression\n",
            "  extra_warning_msg=_LOGISTIC_SOLVER_CONVERGENCE_MSG)\n"
          ]
        },
        {
          "output_type": "execute_result",
          "data": {
            "text/plain": [
              "LogisticRegression(C=1.0, class_weight=None, dual=False, fit_intercept=True,\n",
              "                   intercept_scaling=1, l1_ratio=None, max_iter=100,\n",
              "                   multi_class='auto', n_jobs=None, penalty='l2',\n",
              "                   random_state=None, solver='lbfgs', tol=0.0001, verbose=0,\n",
              "                   warm_start=False)"
            ]
          },
          "metadata": {},
          "execution_count": 1576
        }
      ]
    },
    {
      "cell_type": "code",
      "metadata": {
        "colab": {
          "base_uri": "https://localhost:8080/"
        },
        "id": "6lCT5HSPRr1i",
        "outputId": "3caec88b-3028-42e8-ec6e-678a49df609f"
      },
      "source": [
        "#Test the model\n",
        "predictions = model.predict(x_test)\n",
        "print(predictions)# printing predictions\n",
        "\n",
        "print()# Printing new line\n",
        "\n",
        "#Check precision, recall, f1-score\n",
        "print( classification_report(y_test, predictions) )\n",
        "\n",
        "print( accuracy_score(y_test, predictions))"
      ],
      "execution_count": 1577,
      "outputs": [
        {
          "output_type": "stream",
          "name": "stdout",
          "text": [
            "['versicolor' 'setosa' 'virginica' 'versicolor' 'versicolor' 'setosa'\n",
            " 'versicolor' 'virginica' 'versicolor' 'versicolor' 'virginica' 'setosa'\n",
            " 'setosa' 'setosa' 'setosa' 'versicolor' 'virginica' 'versicolor'\n",
            " 'versicolor' 'virginica' 'setosa' 'virginica' 'setosa' 'virginica'\n",
            " 'virginica' 'virginica' 'virginica' 'virginica' 'setosa' 'setosa']\n",
            "\n",
            "              precision    recall  f1-score   support\n",
            "\n",
            "      setosa       1.00      1.00      1.00        10\n",
            "  versicolor       1.00      1.00      1.00         9\n",
            "   virginica       1.00      1.00      1.00        11\n",
            "\n",
            "    accuracy                           1.00        30\n",
            "   macro avg       1.00      1.00      1.00        30\n",
            "weighted avg       1.00      1.00      1.00        30\n",
            "\n",
            "1.0\n"
          ]
        }
      ]
    }
  ]
}