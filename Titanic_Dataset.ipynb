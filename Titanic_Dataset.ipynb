{
  "nbformat": 4,
  "nbformat_minor": 0,
  "metadata": {
    "colab": {
      "name": "Titanic Dataset",
      "provenance": [],
      "authorship_tag": "ABX9TyPsRYmKZueHiAnqf6hrTZYH",
      "include_colab_link": true
    },
    "kernelspec": {
      "name": "python3",
      "display_name": "Python 3"
    },
    "language_info": {
      "name": "python"
    }
  },
  "cells": [
    {
      "cell_type": "markdown",
      "metadata": {
        "id": "view-in-github",
        "colab_type": "text"
      },
      "source": [
        "<a href=\"https://colab.research.google.com/github/mattdo40/Colab/blob/main/Titanic_Dataset.ipynb\" target=\"_parent\"><img src=\"https://colab.research.google.com/assets/colab-badge.svg\" alt=\"Open In Colab\"/></a>"
      ]
    },
    {
      "cell_type": "code",
      "metadata": {
        "colab": {
          "base_uri": "https://localhost:8080/"
        },
        "id": "oP289knNbhCm",
        "outputId": "d36aa484-ae30-43a9-a4a4-5dc4b4302cb9"
      },
      "source": [
        "import numpy as np # linear algebra\n",
        "import pandas as pd # data processing, CSV file I/O (e.g. pd.read_csv)\n",
        "import matplotlib.pyplot as plt\n",
        "import seaborn as sns\n",
        "sns.set()\n",
        "%matplotlib inline\n",
        "from sklearn.metrics import make_scorer, accuracy_score\n",
        "from google.colab import drive \n",
        "from sklearn.model_selection import train_test_split\n",
        "from sklearn.neural_network import MLPClassifier\n",
        "from sklearn import preprocessing\n",
        "drive.mount('/content/gdrive')"
      ],
      "execution_count": 142,
      "outputs": [
        {
          "output_type": "stream",
          "name": "stdout",
          "text": [
            "Drive already mounted at /content/gdrive; to attempt to forcibly remount, call drive.mount(\"/content/gdrive\", force_remount=True).\n"
          ]
        }
      ]
    },
    {
      "cell_type": "code",
      "metadata": {
        "id": "t062cghLc9vl"
      },
      "source": [
        "train = pd.read_csv('gdrive/My Drive/traintitanic.csv')\n",
        "test = pd.read_csv('gdrive/My Drive/testtitanic.csv')"
      ],
      "execution_count": 143,
      "outputs": []
    },
    {
      "cell_type": "code",
      "metadata": {
        "colab": {
          "base_uri": "https://localhost:8080/",
          "height": 658
        },
        "id": "wHkxeusWdHtM",
        "outputId": "765c1643-943e-4251-b6a9-55551b6086ed"
      },
      "source": [
        "train.head(10)"
      ],
      "execution_count": 144,
      "outputs": [
        {
          "output_type": "execute_result",
          "data": {
            "text/html": [
              "<div>\n",
              "<style scoped>\n",
              "    .dataframe tbody tr th:only-of-type {\n",
              "        vertical-align: middle;\n",
              "    }\n",
              "\n",
              "    .dataframe tbody tr th {\n",
              "        vertical-align: top;\n",
              "    }\n",
              "\n",
              "    .dataframe thead th {\n",
              "        text-align: right;\n",
              "    }\n",
              "</style>\n",
              "<table border=\"1\" class=\"dataframe\">\n",
              "  <thead>\n",
              "    <tr style=\"text-align: right;\">\n",
              "      <th></th>\n",
              "      <th>PassengerId</th>\n",
              "      <th>Survived</th>\n",
              "      <th>Pclass</th>\n",
              "      <th>Name</th>\n",
              "      <th>Sex</th>\n",
              "      <th>Age</th>\n",
              "      <th>SibSp</th>\n",
              "      <th>Parch</th>\n",
              "      <th>Ticket</th>\n",
              "      <th>Fare</th>\n",
              "      <th>Cabin</th>\n",
              "      <th>Embarked</th>\n",
              "    </tr>\n",
              "  </thead>\n",
              "  <tbody>\n",
              "    <tr>\n",
              "      <th>0</th>\n",
              "      <td>1</td>\n",
              "      <td>0</td>\n",
              "      <td>3</td>\n",
              "      <td>Braund, Mr. Owen Harris</td>\n",
              "      <td>male</td>\n",
              "      <td>22.0</td>\n",
              "      <td>1</td>\n",
              "      <td>0</td>\n",
              "      <td>A/5 21171</td>\n",
              "      <td>7.2500</td>\n",
              "      <td>NaN</td>\n",
              "      <td>S</td>\n",
              "    </tr>\n",
              "    <tr>\n",
              "      <th>1</th>\n",
              "      <td>2</td>\n",
              "      <td>1</td>\n",
              "      <td>1</td>\n",
              "      <td>Cumings, Mrs. John Bradley (Florence Briggs Th...</td>\n",
              "      <td>female</td>\n",
              "      <td>38.0</td>\n",
              "      <td>1</td>\n",
              "      <td>0</td>\n",
              "      <td>PC 17599</td>\n",
              "      <td>71.2833</td>\n",
              "      <td>C85</td>\n",
              "      <td>C</td>\n",
              "    </tr>\n",
              "    <tr>\n",
              "      <th>2</th>\n",
              "      <td>3</td>\n",
              "      <td>1</td>\n",
              "      <td>3</td>\n",
              "      <td>Heikkinen, Miss. Laina</td>\n",
              "      <td>female</td>\n",
              "      <td>26.0</td>\n",
              "      <td>0</td>\n",
              "      <td>0</td>\n",
              "      <td>STON/O2. 3101282</td>\n",
              "      <td>7.9250</td>\n",
              "      <td>NaN</td>\n",
              "      <td>S</td>\n",
              "    </tr>\n",
              "    <tr>\n",
              "      <th>3</th>\n",
              "      <td>4</td>\n",
              "      <td>1</td>\n",
              "      <td>1</td>\n",
              "      <td>Futrelle, Mrs. Jacques Heath (Lily May Peel)</td>\n",
              "      <td>female</td>\n",
              "      <td>35.0</td>\n",
              "      <td>1</td>\n",
              "      <td>0</td>\n",
              "      <td>113803</td>\n",
              "      <td>53.1000</td>\n",
              "      <td>C123</td>\n",
              "      <td>S</td>\n",
              "    </tr>\n",
              "    <tr>\n",
              "      <th>4</th>\n",
              "      <td>5</td>\n",
              "      <td>0</td>\n",
              "      <td>3</td>\n",
              "      <td>Allen, Mr. William Henry</td>\n",
              "      <td>male</td>\n",
              "      <td>35.0</td>\n",
              "      <td>0</td>\n",
              "      <td>0</td>\n",
              "      <td>373450</td>\n",
              "      <td>8.0500</td>\n",
              "      <td>NaN</td>\n",
              "      <td>S</td>\n",
              "    </tr>\n",
              "    <tr>\n",
              "      <th>5</th>\n",
              "      <td>6</td>\n",
              "      <td>0</td>\n",
              "      <td>3</td>\n",
              "      <td>Moran, Mr. James</td>\n",
              "      <td>male</td>\n",
              "      <td>NaN</td>\n",
              "      <td>0</td>\n",
              "      <td>0</td>\n",
              "      <td>330877</td>\n",
              "      <td>8.4583</td>\n",
              "      <td>NaN</td>\n",
              "      <td>Q</td>\n",
              "    </tr>\n",
              "    <tr>\n",
              "      <th>6</th>\n",
              "      <td>7</td>\n",
              "      <td>0</td>\n",
              "      <td>1</td>\n",
              "      <td>McCarthy, Mr. Timothy J</td>\n",
              "      <td>male</td>\n",
              "      <td>54.0</td>\n",
              "      <td>0</td>\n",
              "      <td>0</td>\n",
              "      <td>17463</td>\n",
              "      <td>51.8625</td>\n",
              "      <td>E46</td>\n",
              "      <td>S</td>\n",
              "    </tr>\n",
              "    <tr>\n",
              "      <th>7</th>\n",
              "      <td>8</td>\n",
              "      <td>0</td>\n",
              "      <td>3</td>\n",
              "      <td>Palsson, Master. Gosta Leonard</td>\n",
              "      <td>male</td>\n",
              "      <td>2.0</td>\n",
              "      <td>3</td>\n",
              "      <td>1</td>\n",
              "      <td>349909</td>\n",
              "      <td>21.0750</td>\n",
              "      <td>NaN</td>\n",
              "      <td>S</td>\n",
              "    </tr>\n",
              "    <tr>\n",
              "      <th>8</th>\n",
              "      <td>9</td>\n",
              "      <td>1</td>\n",
              "      <td>3</td>\n",
              "      <td>Johnson, Mrs. Oscar W (Elisabeth Vilhelmina Berg)</td>\n",
              "      <td>female</td>\n",
              "      <td>27.0</td>\n",
              "      <td>0</td>\n",
              "      <td>2</td>\n",
              "      <td>347742</td>\n",
              "      <td>11.1333</td>\n",
              "      <td>NaN</td>\n",
              "      <td>S</td>\n",
              "    </tr>\n",
              "    <tr>\n",
              "      <th>9</th>\n",
              "      <td>10</td>\n",
              "      <td>1</td>\n",
              "      <td>2</td>\n",
              "      <td>Nasser, Mrs. Nicholas (Adele Achem)</td>\n",
              "      <td>female</td>\n",
              "      <td>14.0</td>\n",
              "      <td>1</td>\n",
              "      <td>0</td>\n",
              "      <td>237736</td>\n",
              "      <td>30.0708</td>\n",
              "      <td>NaN</td>\n",
              "      <td>C</td>\n",
              "    </tr>\n",
              "  </tbody>\n",
              "</table>\n",
              "</div>"
            ],
            "text/plain": [
              "   PassengerId  Survived  Pclass  ...     Fare Cabin  Embarked\n",
              "0            1         0       3  ...   7.2500   NaN         S\n",
              "1            2         1       1  ...  71.2833   C85         C\n",
              "2            3         1       3  ...   7.9250   NaN         S\n",
              "3            4         1       1  ...  53.1000  C123         S\n",
              "4            5         0       3  ...   8.0500   NaN         S\n",
              "5            6         0       3  ...   8.4583   NaN         Q\n",
              "6            7         0       1  ...  51.8625   E46         S\n",
              "7            8         0       3  ...  21.0750   NaN         S\n",
              "8            9         1       3  ...  11.1333   NaN         S\n",
              "9           10         1       2  ...  30.0708   NaN         C\n",
              "\n",
              "[10 rows x 12 columns]"
            ]
          },
          "metadata": {},
          "execution_count": 144
        }
      ]
    },
    {
      "cell_type": "markdown",
      "metadata": {
        "id": "vqg-pPkmdNx_"
      },
      "source": [
        "**Data Dictionary**\n",
        "*   Survived: 0 = No, 1 = Yes\n",
        "*   pclass: Ticket class 1 = 1st, 2 = 2nd, 3 = 3rd\n",
        "*   sibsp: # of siblings / spouses aboard the Titanic\n",
        "*   parch: # of parents / children aboard the Titanic\n",
        "*   ticket: Ticket number\n",
        "*   cabin: Cabin number\n",
        "*   embarked: Port of Embarkation C = Cherbourg, Q = Queenstown, S = Southampton\n"
      ]
    },
    {
      "cell_type": "code",
      "metadata": {
        "colab": {
          "base_uri": "https://localhost:8080/"
        },
        "id": "y1uN6LmUdUe3",
        "outputId": "258c0faa-acb1-4622-fb73-2a2f4eba60b3"
      },
      "source": [
        "train.shape"
      ],
      "execution_count": 145,
      "outputs": [
        {
          "output_type": "execute_result",
          "data": {
            "text/plain": [
              "(891, 12)"
            ]
          },
          "metadata": {},
          "execution_count": 145
        }
      ]
    },
    {
      "cell_type": "code",
      "metadata": {
        "colab": {
          "base_uri": "https://localhost:8080/",
          "height": 206
        },
        "id": "irtuHq36jlmD",
        "outputId": "3afd793d-7190-48f2-b3a7-877c9ae3134e"
      },
      "source": [
        "train.drop('Name', axis=1, inplace=True)\n",
        "train.head()\n",
        "test.drop('Name', axis=1, inplace=True)\n",
        "test.head()\n"
      ],
      "execution_count": 146,
      "outputs": [
        {
          "output_type": "execute_result",
          "data": {
            "text/html": [
              "<div>\n",
              "<style scoped>\n",
              "    .dataframe tbody tr th:only-of-type {\n",
              "        vertical-align: middle;\n",
              "    }\n",
              "\n",
              "    .dataframe tbody tr th {\n",
              "        vertical-align: top;\n",
              "    }\n",
              "\n",
              "    .dataframe thead th {\n",
              "        text-align: right;\n",
              "    }\n",
              "</style>\n",
              "<table border=\"1\" class=\"dataframe\">\n",
              "  <thead>\n",
              "    <tr style=\"text-align: right;\">\n",
              "      <th></th>\n",
              "      <th>PassengerId</th>\n",
              "      <th>Pclass</th>\n",
              "      <th>Sex</th>\n",
              "      <th>Age</th>\n",
              "      <th>SibSp</th>\n",
              "      <th>Parch</th>\n",
              "      <th>Ticket</th>\n",
              "      <th>Fare</th>\n",
              "      <th>Cabin</th>\n",
              "      <th>Embarked</th>\n",
              "    </tr>\n",
              "  </thead>\n",
              "  <tbody>\n",
              "    <tr>\n",
              "      <th>0</th>\n",
              "      <td>892</td>\n",
              "      <td>3</td>\n",
              "      <td>male</td>\n",
              "      <td>34.5</td>\n",
              "      <td>0</td>\n",
              "      <td>0</td>\n",
              "      <td>330911</td>\n",
              "      <td>7.8292</td>\n",
              "      <td>NaN</td>\n",
              "      <td>Q</td>\n",
              "    </tr>\n",
              "    <tr>\n",
              "      <th>1</th>\n",
              "      <td>893</td>\n",
              "      <td>3</td>\n",
              "      <td>female</td>\n",
              "      <td>47.0</td>\n",
              "      <td>1</td>\n",
              "      <td>0</td>\n",
              "      <td>363272</td>\n",
              "      <td>7.0000</td>\n",
              "      <td>NaN</td>\n",
              "      <td>S</td>\n",
              "    </tr>\n",
              "    <tr>\n",
              "      <th>2</th>\n",
              "      <td>894</td>\n",
              "      <td>2</td>\n",
              "      <td>male</td>\n",
              "      <td>62.0</td>\n",
              "      <td>0</td>\n",
              "      <td>0</td>\n",
              "      <td>240276</td>\n",
              "      <td>9.6875</td>\n",
              "      <td>NaN</td>\n",
              "      <td>Q</td>\n",
              "    </tr>\n",
              "    <tr>\n",
              "      <th>3</th>\n",
              "      <td>895</td>\n",
              "      <td>3</td>\n",
              "      <td>male</td>\n",
              "      <td>27.0</td>\n",
              "      <td>0</td>\n",
              "      <td>0</td>\n",
              "      <td>315154</td>\n",
              "      <td>8.6625</td>\n",
              "      <td>NaN</td>\n",
              "      <td>S</td>\n",
              "    </tr>\n",
              "    <tr>\n",
              "      <th>4</th>\n",
              "      <td>896</td>\n",
              "      <td>3</td>\n",
              "      <td>female</td>\n",
              "      <td>22.0</td>\n",
              "      <td>1</td>\n",
              "      <td>1</td>\n",
              "      <td>3101298</td>\n",
              "      <td>12.2875</td>\n",
              "      <td>NaN</td>\n",
              "      <td>S</td>\n",
              "    </tr>\n",
              "  </tbody>\n",
              "</table>\n",
              "</div>"
            ],
            "text/plain": [
              "   PassengerId  Pclass     Sex   Age  ...   Ticket     Fare Cabin  Embarked\n",
              "0          892       3    male  34.5  ...   330911   7.8292   NaN         Q\n",
              "1          893       3  female  47.0  ...   363272   7.0000   NaN         S\n",
              "2          894       2    male  62.0  ...   240276   9.6875   NaN         Q\n",
              "3          895       3    male  27.0  ...   315154   8.6625   NaN         S\n",
              "4          896       3  female  22.0  ...  3101298  12.2875   NaN         S\n",
              "\n",
              "[5 rows x 10 columns]"
            ]
          },
          "metadata": {},
          "execution_count": 146
        }
      ]
    },
    {
      "cell_type": "code",
      "metadata": {
        "colab": {
          "base_uri": "https://localhost:8080/",
          "height": 206
        },
        "id": "28pjm1MSQiO3",
        "outputId": "d3613eb3-cb30-40d8-f8e0-54cd59ff292d"
      },
      "source": [
        "\"Delete the Column name Cabin,Ticket,Embarked because it has little information as of the values ar NaN\"\n",
        "train.drop(\"Cabin\", axis=1, inplace=True)\n",
        "test.drop(\"Cabin\", axis=1, inplace=True)\n",
        "train.drop(\"Ticket\", axis=1, inplace=True)\n",
        "test.drop(\"Ticket\", axis=1, inplace=True)\n",
        "train.drop(\"Embarked\", axis=1, inplace=True)\n",
        "test.drop(\"Embarked\", axis=1, inplace=True)\n",
        "train.head()"
      ],
      "execution_count": 147,
      "outputs": [
        {
          "output_type": "execute_result",
          "data": {
            "text/html": [
              "<div>\n",
              "<style scoped>\n",
              "    .dataframe tbody tr th:only-of-type {\n",
              "        vertical-align: middle;\n",
              "    }\n",
              "\n",
              "    .dataframe tbody tr th {\n",
              "        vertical-align: top;\n",
              "    }\n",
              "\n",
              "    .dataframe thead th {\n",
              "        text-align: right;\n",
              "    }\n",
              "</style>\n",
              "<table border=\"1\" class=\"dataframe\">\n",
              "  <thead>\n",
              "    <tr style=\"text-align: right;\">\n",
              "      <th></th>\n",
              "      <th>PassengerId</th>\n",
              "      <th>Survived</th>\n",
              "      <th>Pclass</th>\n",
              "      <th>Sex</th>\n",
              "      <th>Age</th>\n",
              "      <th>SibSp</th>\n",
              "      <th>Parch</th>\n",
              "      <th>Ticket</th>\n",
              "      <th>Fare</th>\n",
              "      <th>Embarked</th>\n",
              "    </tr>\n",
              "  </thead>\n",
              "  <tbody>\n",
              "    <tr>\n",
              "      <th>0</th>\n",
              "      <td>1</td>\n",
              "      <td>0</td>\n",
              "      <td>3</td>\n",
              "      <td>male</td>\n",
              "      <td>22.0</td>\n",
              "      <td>1</td>\n",
              "      <td>0</td>\n",
              "      <td>A/5 21171</td>\n",
              "      <td>7.2500</td>\n",
              "      <td>S</td>\n",
              "    </tr>\n",
              "    <tr>\n",
              "      <th>1</th>\n",
              "      <td>2</td>\n",
              "      <td>1</td>\n",
              "      <td>1</td>\n",
              "      <td>female</td>\n",
              "      <td>38.0</td>\n",
              "      <td>1</td>\n",
              "      <td>0</td>\n",
              "      <td>PC 17599</td>\n",
              "      <td>71.2833</td>\n",
              "      <td>C</td>\n",
              "    </tr>\n",
              "    <tr>\n",
              "      <th>2</th>\n",
              "      <td>3</td>\n",
              "      <td>1</td>\n",
              "      <td>3</td>\n",
              "      <td>female</td>\n",
              "      <td>26.0</td>\n",
              "      <td>0</td>\n",
              "      <td>0</td>\n",
              "      <td>STON/O2. 3101282</td>\n",
              "      <td>7.9250</td>\n",
              "      <td>S</td>\n",
              "    </tr>\n",
              "    <tr>\n",
              "      <th>3</th>\n",
              "      <td>4</td>\n",
              "      <td>1</td>\n",
              "      <td>1</td>\n",
              "      <td>female</td>\n",
              "      <td>35.0</td>\n",
              "      <td>1</td>\n",
              "      <td>0</td>\n",
              "      <td>113803</td>\n",
              "      <td>53.1000</td>\n",
              "      <td>S</td>\n",
              "    </tr>\n",
              "    <tr>\n",
              "      <th>4</th>\n",
              "      <td>5</td>\n",
              "      <td>0</td>\n",
              "      <td>3</td>\n",
              "      <td>male</td>\n",
              "      <td>35.0</td>\n",
              "      <td>0</td>\n",
              "      <td>0</td>\n",
              "      <td>373450</td>\n",
              "      <td>8.0500</td>\n",
              "      <td>S</td>\n",
              "    </tr>\n",
              "  </tbody>\n",
              "</table>\n",
              "</div>"
            ],
            "text/plain": [
              "   PassengerId  Survived  Pclass  ...            Ticket     Fare  Embarked\n",
              "0            1         0       3  ...         A/5 21171   7.2500         S\n",
              "1            2         1       1  ...          PC 17599  71.2833         C\n",
              "2            3         1       3  ...  STON/O2. 3101282   7.9250         S\n",
              "3            4         1       1  ...            113803  53.1000         S\n",
              "4            5         0       3  ...            373450   8.0500         S\n",
              "\n",
              "[5 rows x 10 columns]"
            ]
          },
          "metadata": {},
          "execution_count": 147
        }
      ]
    },
    {
      "cell_type": "code",
      "metadata": {
        "id": "sGb-iMABRB41"
      },
      "source": [
        "\n",
        "\n",
        "# set the target series\n",
        "\n",
        "y = train[\"Survived\"]\n",
        "\n",
        "# set the feature dataframe\n",
        "\n",
        "features = [\"Pclass\", \"Sex\", \"SibSp\", \"Parch\", \"Fare\", \"Age\"]\n",
        "X = pd.get_dummies(train[features])\n",
        "X_unknown = pd.get_dummies(test[features])\n",
        "\n",
        "# impute values as there is missing data in the fares column\n",
        "\n",
        "from sklearn.impute import SimpleImputer\n",
        "my_imputer = SimpleImputer()\n",
        "X = my_imputer.fit_transform(X)\n",
        "X_unknown = my_imputer.fit_transform(X_unknown)\n",
        "\n",
        "# split the data into train and test\n",
        "\n",
        "X_train, X_test, y_train, y_test = train_test_split(X, y, test_size=0.33, random_state=10)"
      ],
      "execution_count": 148,
      "outputs": []
    },
    {
      "cell_type": "code",
      "metadata": {
        "colab": {
          "base_uri": "https://localhost:8080/"
        },
        "id": "7rzavlIvRB-g",
        "outputId": "f41bd7e0-a9c9-4822-a16a-9121842ce1a6"
      },
      "source": [
        "\n",
        "\n",
        "\n",
        "clf = MLPClassifier(hidden_layer_sizes = (50,),max_iter=50000, activation='logistic', solver='lbfgs', random_state=1).fit(X_train, y_train)\n",
        "    \n",
        "# find the model accuracy\n",
        "    \n",
        "model_accuracy = clf.score(X_test, y_test)\n",
        "    \n",
        "print(model_accuracy)\n",
        "    \n"
      ],
      "execution_count": 149,
      "outputs": [
        {
          "output_type": "stream",
          "name": "stdout",
          "text": [
            "0.8135593220338984\n"
          ]
        }
      ]
    },
    {
      "cell_type": "code",
      "metadata": {
        "colab": {
          "base_uri": "https://localhost:8080/",
          "height": 206
        },
        "id": "cISX7YLWZNGh",
        "outputId": "f125ad5f-b23a-4e5a-d28b-dcde6a127492"
      },
      "source": [
        "ids = test['PassengerId']\n",
        "predictions = clf.predict(X_unknown)\n",
        "output = pd.DataFrame({ 'PassengerId' : ids, 'Survived': predictions })\n",
        "output.to_csv('titanic-predictions.csv', index = False)\n",
        "output.head()"
      ],
      "execution_count": 150,
      "outputs": [
        {
          "output_type": "execute_result",
          "data": {
            "text/html": [
              "<div>\n",
              "<style scoped>\n",
              "    .dataframe tbody tr th:only-of-type {\n",
              "        vertical-align: middle;\n",
              "    }\n",
              "\n",
              "    .dataframe tbody tr th {\n",
              "        vertical-align: top;\n",
              "    }\n",
              "\n",
              "    .dataframe thead th {\n",
              "        text-align: right;\n",
              "    }\n",
              "</style>\n",
              "<table border=\"1\" class=\"dataframe\">\n",
              "  <thead>\n",
              "    <tr style=\"text-align: right;\">\n",
              "      <th></th>\n",
              "      <th>PassengerId</th>\n",
              "      <th>Survived</th>\n",
              "    </tr>\n",
              "  </thead>\n",
              "  <tbody>\n",
              "    <tr>\n",
              "      <th>0</th>\n",
              "      <td>892</td>\n",
              "      <td>0</td>\n",
              "    </tr>\n",
              "    <tr>\n",
              "      <th>1</th>\n",
              "      <td>893</td>\n",
              "      <td>0</td>\n",
              "    </tr>\n",
              "    <tr>\n",
              "      <th>2</th>\n",
              "      <td>894</td>\n",
              "      <td>0</td>\n",
              "    </tr>\n",
              "    <tr>\n",
              "      <th>3</th>\n",
              "      <td>895</td>\n",
              "      <td>0</td>\n",
              "    </tr>\n",
              "    <tr>\n",
              "      <th>4</th>\n",
              "      <td>896</td>\n",
              "      <td>1</td>\n",
              "    </tr>\n",
              "  </tbody>\n",
              "</table>\n",
              "</div>"
            ],
            "text/plain": [
              "   PassengerId  Survived\n",
              "0          892         0\n",
              "1          893         0\n",
              "2          894         0\n",
              "3          895         0\n",
              "4          896         1"
            ]
          },
          "metadata": {},
          "execution_count": 150
        }
      ]
    },
    {
      "cell_type": "markdown",
      "metadata": {
        "id": "WE88RUXCmEao"
      },
      "source": [
        "![image.png](data:image/png;base64,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)"
      ]
    }
  ]
}