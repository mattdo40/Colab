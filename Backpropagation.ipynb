{
  "nbformat": 4,
  "nbformat_minor": 0,
  "metadata": {
    "colab": {
      "name": "Backpropagation",
      "provenance": [],
      "authorship_tag": "ABX9TyOm0VKmgkHoeQY5ZQQ8mRR7",
      "include_colab_link": true
    },
    "kernelspec": {
      "name": "python3",
      "display_name": "Python 3"
    },
    "language_info": {
      "name": "python"
    }
  },
  "cells": [
    {
      "cell_type": "markdown",
      "metadata": {
        "id": "view-in-github",
        "colab_type": "text"
      },
      "source": [
        "<a href=\"https://colab.research.google.com/github/mattdo40/Colab/blob/main/Backpropagation.ipynb\" target=\"_parent\"><img src=\"https://colab.research.google.com/assets/colab-badge.svg\" alt=\"Open In Colab\"/></a>"
      ]
    },
    {
      "cell_type": "code",
      "metadata": {
        "id": "SmAK-ep0ylt3"
      },
      "source": [
        "import math\n",
        "import numpy as np\n",
        "import random\n",
        "import sklearn\n",
        "from sklearn.metrics import accuracy_score"
      ],
      "execution_count": 706,
      "outputs": []
    },
    {
      "cell_type": "code",
      "metadata": {
        "id": "kT-cugX3IPWp"
      },
      "source": [
        "def F(W,X):\n",
        "  return sum([w*x for w,x in zip(W,X)])"
      ],
      "execution_count": 707,
      "outputs": []
    },
    {
      "cell_type": "code",
      "metadata": {
        "id": "Y5HE0OZ1hWno"
      },
      "source": [
        "def sigmoid(x):\n",
        "  return 1.0/(1+math.exp(-x))"
      ],
      "execution_count": 708,
      "outputs": []
    },
    {
      "cell_type": "code",
      "metadata": {
        "id": "2Nikhvr-qF3I"
      },
      "source": [
        "def classify(Y):\n",
        "  return [1 if y > 0.5 else 0 for y in Y]"
      ],
      "execution_count": 709,
      "outputs": []
    },
    {
      "cell_type": "code",
      "metadata": {
        "id": "YdQnwauwqF3H"
      },
      "source": [
        "def predictor(model, x): #space saver\n",
        "  w1 = model[0]\n",
        "  w2 = model[1]\n",
        "  v1 = model[2]\n",
        "  z1 = sigmoid(F(w1, x))\n",
        "  z2 = sigmoid(F(w2, x))\n",
        "  Z = (1, z1, z2)\n",
        "  y1 = sigmoid(F(v1,Z))\n",
        "  return y1"
      ],
      "execution_count": 710,
      "outputs": []
    },
    {
      "cell_type": "markdown",
      "metadata": {
        "id": "t4XrP8IEAvWw"
      },
      "source": [
        "Training Data"
      ]
    },
    {
      "cell_type": "code",
      "metadata": {
        "id": "w5l_SnAPjeOG"
      },
      "source": [
        "data = [((0,0), 0), ((0,1),1), ((1,0),1), ((1,1),0) ]"
      ],
      "execution_count": 711,
      "outputs": []
    },
    {
      "cell_type": "code",
      "metadata": {
        "id": "YRs3DVI9kF5k"
      },
      "source": [
        "np.random.seed() #I think that we mentioned we could ge the same results of we chose the same seed\n",
        "def randomWeights():\n",
        "  w1 = []\n",
        "  w2 = []\n",
        "  v1 = []\n",
        "  for i in range(3):\n",
        "    w1.append(np.random.uniform(-1.0,1.0)) #choosing a larger random range started to give me strange results\n",
        "    w2.append(np.random.uniform(-1.0,1.0))\n",
        "    v1.append(np.random.uniform(-1.0,1.0))\n",
        "  weights = [w1,w2,v1]\n",
        "  return weights"
      ],
      "execution_count": 712,
      "outputs": []
    },
    {
      "cell_type": "code",
      "metadata": {
        "id": "bNXmY5JI1Ti5"
      },
      "source": [
        "def Backpropagation(weights, learningRate, data, xVal, epochs, squaredError, accuracy):\n",
        "  w1 = weights[0]\n",
        "  w2 = weights[1]\n",
        "  v1 = weights[2]\n",
        "  X = [(1, x1, x2) for ((x1, x2),r) in data]\n",
        "  R = [r for ((x1, x2),r) in data]\n",
        "  for i in range(epochs):\n",
        "    for (x, r) in xVal:\n",
        "      z1 = sigmoid(F(w1, x))\n",
        "      z2 = sigmoid(F(w2, x))\n",
        "      Z = (1, z1, z2)\n",
        "      y1 = sigmoid(F(v1,Z))\n",
        "\n",
        "      dV = [learningRate * (r - y1) * z for z in Z]\n",
        "      dW1 = [learningRate * (r - y1) * v1[1] * z1 * (1 - z1) * xi for xi in x]\n",
        "      dW2 = [learningRate * (r - y1) * v1[2] * z2 * (1 - z2) * xi for xi in x]\n",
        "\n",
        "      w1 = [w + dw for (w, dw) in zip(w1, dW1)]\n",
        "      w2 = [w + dw for (w, dw) in zip(w2, dW2)]\n",
        "      v1 = [v + dv for (v, dv) in zip(v1, dV)]\n",
        "\n",
        "\n",
        "    if (i % 200) == 0:\n",
        "      yPred = [predictor([w1, w2, v1], x) for x in X]\n",
        "      SE = sum([pow(r - y, 2) for (r, y) in zip(R, yPred)])\n",
        "      classPred = classify(yPred)\n",
        "      acc = sklearn.metrics.accuracy_score(R, classPred)\n",
        "      accuracy.append(acc)\n",
        "      squaredError.append(SE)\n",
        "\n",
        "  final = [w1, w2, v1]\n",
        "  return final"
      ],
      "execution_count": 713,
      "outputs": []
    },
    {
      "cell_type": "markdown",
      "metadata": {
        "id": "mN4zUbC2AVbB"
      },
      "source": [
        "Experiment Results 5 Times"
      ]
    },
    {
      "cell_type": "code",
      "metadata": {
        "colab": {
          "base_uri": "https://localhost:8080/",
          "height": 1000
        },
        "id": "8vFPR1GHFLrz",
        "outputId": "c706ac8b-77b4-4571-a35c-3a5705c765ec"
      },
      "source": [
        "epochs  = 1000\n",
        "learningRate = 0.25 # this seemed like a sweet spot between converging and time spent running\n",
        "for i in range(5):\n",
        "  print(\"Experiment \", i + 1)\n",
        "  accuracy = []\n",
        "  squaredError = []\n",
        "  model = randomWeights()\n",
        "  print(\"Initial random weights: \", model)\n",
        "  print(\"Learning Rate: \", learningRate)\n",
        "  result = Backpropagation(model, learningRate, data, xVal, epochs, squaredError, accuracy)\n",
        "  print(\"Final Model:\", result)\n",
        "  yPred = [predictor(result, x) for x in X]\n",
        "  print(\"Y results: \", yPred)\n",
        "  print(\"Classifications\", classify(yPred))\n",
        "  print(\"Squared Error: \", squaredError)\n",
        "  print(\"Accuracy: \", accuracy, \"\\n\")\n",
        "  plt.plot(squaredError)\n",
        "  plt.xlabel(\"Accuracy\")\n",
        "  plt.ylabel(\"squared error\")"
      ],
      "execution_count": 714,
      "outputs": [
        {
          "output_type": "stream",
          "name": "stdout",
          "text": [
            "Experiment  1\n",
            "Initial random weights:  [[0.6896483651863199, 0.5085975472594919, -0.28829153374832295], [0.8265685083705481, -0.10625583464047073, 0.8797070915077894], [0.7552590310897023, 0.6704413432340615, -0.9118918865715462]]\n",
            "Learning Rate:  0.25\n",
            "Final Model: [[0.9321673279230005, -3.2955871117460855, -6.437175600445934], [3.383300157731636, -5.12058045000828, 7.469534259002005], [5.188826940522038, -5.545085946760578, -5.330907535998196]]\n",
            "Y results:  [0.018969083614799893, 0.45898377315745414, 0.9804321415395668, 0.4686161438144504]\n",
            "Classifications [0, 0, 1, 0]\n",
            "Squared Error:  [1.022685616035125, 0.973617792510878, 0.7089619794985769, 0.5455427112104908, 0.5199611170727019]\n",
            "Accuracy:  [0.5, 0.75, 0.75, 0.75, 0.75] \n",
            "\n",
            "Experiment  2\n",
            "Initial random weights:  [[0.6654175222724739, -0.5186034451219546, -0.1559245583778781], [0.07130719734982272, -0.0374222479767381, 0.5804434340869253], [0.5125002617928738, -0.8274251008658979, -0.6496545004309431]]\n",
            "Learning Rate:  0.25\n",
            "Final Model: [[2.59019242660525, -6.549756279431978, -6.616175589661207], [6.461790618970064, -4.3982743183065836, -4.3892049753020865], [-3.9756731660351026, -9.416990292435617, 8.829296270299285]]\n",
            "Y results:  [0.019453329489198572, 0.9759079836941142, 0.9754546736757429, 0.03954567027256357]\n",
            "Classifications [0, 1, 1, 0]\n",
            "Squared Error:  [1.0130576617949654, 0.9616071055948773, 0.7084862571440838, 0.3313756995144307, 0.013346157903414238]\n",
            "Accuracy:  [0.5, 0.75, 0.75, 1.0, 1.0] \n",
            "\n",
            "Experiment  3\n",
            "Initial random weights:  [[-0.9640087396738017, 0.6934032228990217, 0.93424259415094], [-0.6529788176654945, -0.024368181068698425, -0.9531059138666484], [-0.0392037489256607, 0.8817603263298193, -0.31565867945761483]]\n",
            "Learning Rate:  0.25\n",
            "Final Model: [[-7.042831501950423, 4.556373559650623, 4.5461550776379465], [2.4765894042307557, -6.411289691558587, -6.432661868729506], [4.542279745635924, -9.315421559508904, -9.250691083475504]]\n",
            "Y results:  [0.01799559922821933, 0.9749066527753969, 0.9746509276487112, 0.02365872584011844]\n",
            "Classifications [0, 1, 1, 0]\n",
            "Squared Error:  [1.0154095399306087, 0.9755811252475235, 0.7222788891745486, 0.08022970056952539, 0.006879665189706046]\n",
            "Accuracy:  [0.5, 0.5, 0.75, 1.0, 1.0] \n",
            "\n",
            "Experiment  4\n",
            "Initial random weights:  [[0.9297430559595161, 0.31841571543725644, 0.30821176236192005], [0.9596129457812874, 0.13826313076915642, -0.36844431777987174], [0.06634902545879395, 0.6184039888597255, -0.9014503897941277]]\n",
            "Learning Rate:  0.25\n",
            "Final Model: [[-2.9649068368535003, 5.578276519245508, -5.904292005244737], [3.1917687710164895, 6.439879605679088, -6.279971314538384], [4.268209345131108, 9.838226721384967, -9.240233172592466]]\n",
            "Y results:  [0.015909267276844875, 0.9795026822214937, 0.9851533991681589, 0.013303996814688192]\n",
            "Classifications [0, 1, 1, 0]\n",
            "Squared Error:  [0.9991498274234134, 0.9806474147877887, 0.17374753932023468, 0.008329018454488149, 0.002350299288211748]\n",
            "Accuracy:  [0.5, 0.5, 1.0, 1.0, 1.0] \n",
            "\n",
            "Experiment  5\n",
            "Initial random weights:  [[0.4684481525151152, 0.7844322703476261, -0.5536550436775809], [0.0949235261264132, 0.9196038542189364, 0.8393160095746017], [-0.27711748656754454, 0.9216582135712561, -0.1500521675897697]]\n",
            "Learning Rate:  0.25\n",
            "Final Model: [[-3.429181633460122, 6.249988206735885, -6.348391791568886], [2.6456949741312505, 5.771739889477349, -5.416261769077174], [4.0023045451637165, 9.193786533529241, -8.692650226529803]]\n",
            "Y results:  [0.021336489853026372, 0.9704168159516539, 0.9818109214002652, 0.01770260500458556]\n",
            "Classifications [0, 1, 1, 0]\n",
            "Squared Error:  [1.0129933389182153, 0.9955139254350001, 0.7995741258238658, 0.07159944704238037, 0.00615872478875948]\n",
            "Accuracy:  [0.25, 0.5, 0.75, 1.0, 1.0] \n",
            "\n"
          ]
        },
        {
          "output_type": "display_data",
          "data": {
            "image/png": "[encoded data removed]",
            "text/plain": [
              "<Figure size 432x288 with 1 Axes>"
            ]
          },
          "metadata": {
            "needs_background": "light"
          }
        }
      ]
    },
    {
      "cell_type": "markdown",
      "metadata": {
        "id": "5ZbKH8q5Brs3"
      },
      "source": [
        "The average time the algorithm was correct from what I've seen running this is between .6 and 0.75. It usually took about 800 epochs before it seemed to converge. I might be totally wrong but looking at the graph, squared error remained high in experiments that didn't get the correct result. Maybe it needs more epochs but I didn't want it to run for too long."
      ]
    }
  ]
}